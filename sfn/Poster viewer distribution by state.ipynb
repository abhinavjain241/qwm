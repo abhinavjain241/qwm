{
 "cells": [
  {
   "cell_type": "markdown",
   "metadata": {},
   "source": [
    "# Poster popularity by state\n",
    "\n",
    "This notebook loads data of poster viewership at the SfN 2016 annual meeting, organized by the states that were affiliated with each poster.\n",
    "\n",
    "We find that the posters are most popular "
   ]
  },
  {
   "cell_type": "markdown",
   "metadata": {},
   "source": [
    "### Import libraries and load data"
   ]
  },
  {
   "cell_type": "code",
   "execution_count": 1,
   "metadata": {
    "collapsed": true
   },
   "outputs": [],
   "source": [
    "%config InlineBackend.figure_format = 'retina'\n",
    "%matplotlib inline\n",
    "\n",
    "import numpy as np\n",
    "import scipy as sp\n",
    "import matplotlib.pyplot as plt\n",
    "\n",
    "import seaborn as sns\n",
    "sns.set_style('white')\n",
    "\n",
    "import pandas as pd"
   ]
  },
  {
   "cell_type": "code",
   "execution_count": 2,
   "metadata": {
    "collapsed": true
   },
   "outputs": [],
   "source": [
    "# Load data\n",
    "df = pd.DataFrame.from_csv('./posterviewers_by_state.csv')\n",
    "key_N = 'Number of people'"
   ]
  },
  {
   "cell_type": "markdown",
   "metadata": {},
   "source": [
    "# 1. Summarize data by state"
   ]
  },
  {
   "cell_type": "code",
   "execution_count": 3,
   "metadata": {
    "collapsed": false,
    "scrolled": true
   },
   "outputs": [],
   "source": [
    "# 0. Count number of posters from each state\n",
    "# Calculate mean poster popularity\n",
    "states = df['State'].unique()\n",
    "dict_state_counts = {'State':states,'count':np.zeros(len(states),dtype=int),'popularity':np.zeros(len(states))}\n",
    "for i, s in enumerate(states):\n",
    "    dict_state_counts['count'][i] = int(sum(df['State']==s))\n",
    "    dict_state_counts['popularity'][i] = np.round(np.mean(df[df['State']==s][key_N]),3)\n",
    "df_counts = pd.DataFrame.from_dict(dict_state_counts)"
   ]
  },
  {
   "cell_type": "code",
   "execution_count": 4,
   "metadata": {
    "collapsed": false
   },
   "outputs": [
    {
     "data": {
      "text/html": [
       "<div>\n",
       "<table border=\"1\" class=\"dataframe\">\n",
       "  <thead>\n",
       "    <tr style=\"text-align: right;\">\n",
       "      <th></th>\n",
       "      <th>State</th>\n",
       "      <th>count</th>\n",
       "      <th>popularity</th>\n",
       "    </tr>\n",
       "  </thead>\n",
       "  <tbody>\n",
       "    <tr>\n",
       "      <th>0</th>\n",
       "      <td>TX</td>\n",
       "      <td>126</td>\n",
       "      <td>2.683</td>\n",
       "    </tr>\n",
       "    <tr>\n",
       "      <th>1</th>\n",
       "      <td>MA</td>\n",
       "      <td>165</td>\n",
       "      <td>2.309</td>\n",
       "    </tr>\n",
       "    <tr>\n",
       "      <th>2</th>\n",
       "      <td>CA</td>\n",
       "      <td>336</td>\n",
       "      <td>2.560</td>\n",
       "    </tr>\n",
       "    <tr>\n",
       "      <th>3</th>\n",
       "      <td>CO</td>\n",
       "      <td>18</td>\n",
       "      <td>1.389</td>\n",
       "    </tr>\n",
       "    <tr>\n",
       "      <th>4</th>\n",
       "      <td>PA</td>\n",
       "      <td>106</td>\n",
       "      <td>2.462</td>\n",
       "    </tr>\n",
       "  </tbody>\n",
       "</table>\n",
       "</div>"
      ],
      "text/plain": [
       "  State  count  popularity\n",
       "0    TX    126       2.683\n",
       "1    MA    165       2.309\n",
       "2    CA    336       2.560\n",
       "3    CO     18       1.389\n",
       "4    PA    106       2.462"
      ]
     },
     "execution_count": 4,
     "metadata": {},
     "output_type": "execute_result"
    }
   ],
   "source": [
    "# Visualize dataframe\n",
    "# count = total number of posters counted affiliated with that country\n",
    "# popularity = average number of viewers at a poster affiliated with that country\n",
    "df_counts.head()"
   ]
  },
  {
   "cell_type": "markdown",
   "metadata": {},
   "source": [
    "# 2. Poster popularity vs. prevalence\n",
    "Across states in the United States, we found a positive correlation between the number of posters from a state and the popularity of those posters."
   ]
  },
  {
   "cell_type": "code",
   "execution_count": 5,
   "metadata": {
    "collapsed": false,
    "scrolled": true
   },
   "outputs": [
    {
     "name": "stdout",
     "output_type": "stream",
     "text": [
      "SpearmanrResult(correlation=0.46154773681508132, pvalue=0.0007415358467146142)\n"
     ]
    },
    {
     "data": {
      "text/plain": [
       "(0.9, 1000)"
      ]
     },
     "execution_count": 5,
     "metadata": {},
     "output_type": "execute_result"
    },
    {
     "data": {
      "image/png": "[encoded data removed]",
      "text/plain": [
       "<matplotlib.figure.Figure at 0xa90b9e8>"
      ]
     },
     "metadata": {
      "image/png": {
       "height": 329,
       "width": 313
      }
     },
     "output_type": "display_data"
    }
   ],
   "source": [
    "print sp.stats.spearmanr(np.log10(df_counts['count']),df_counts['popularity'])\n",
    "plt.figure(figsize=(3,3))\n",
    "plt.semilogx(df_counts['count'],df_counts['popularity'],'k.')\n",
    "plt.xlabel('Number of posters\\nin the state')\n",
    "plt.ylabel('Average number of viewers per poster')\n",
    "plt.ylim((-.1,3.6))\n",
    "plt.xlim((.9,1000))"
   ]
  },
  {
   "cell_type": "markdown",
   "metadata": {},
   "source": [
    "# 3. Permutation tests: difference in popularity across states\n",
    "In this code, we test if the relative popularity / unpopularity observed for any state is outside what is expected by chance\n",
    "\n",
    "Here, the most popular and least popular states are defined by a nonparametric statiscal test between the number of viewers at posters from their country, compared to posters from all other countries."
   ]
  },
  {
   "cell_type": "code",
   "execution_count": 6,
   "metadata": {
    "collapsed": false
   },
   "outputs": [],
   "source": [
    "# Simulate randomized data\n",
    "Nperm = 100\n",
    "N_posters = len(df)\n",
    "rand_statepop = np.zeros((Nperm,len(states)),dtype=np.ndarray)\n",
    "rand_statepopmean = np.zeros((Nperm,len(states)))\n",
    "for i in range(Nperm):\n",
    "    # Random permutation of posters, organized by state\n",
    "    randperm_viewers = np.random.permutation(df[key_N].values)\n",
    "    for j, s in enumerate(states):\n",
    "        rand_statepop[i,j] = randperm_viewers[np.where(df['State']==s)[0]]\n",
    "        rand_statepopmean[i,j] = np.mean(randperm_viewers[np.where(df['State']==s)[0]])"
   ]
  },
  {
   "cell_type": "code",
   "execution_count": 7,
   "metadata": {
    "collapsed": false
   },
   "outputs": [
    {
     "name": "stdout",
     "output_type": "stream",
     "text": [
      "Most popular state:  MN . p= 0.00300841211498\n",
      "Least popular state:  CT . p= 0.000190505731694\n"
     ]
    }
   ],
   "source": [
    "# True data: Calculate all p-values for the difference between 1 state's popularity and the rest\n",
    "min_N_posters = 10\n",
    "states_big = states[np.where(df_counts['count']>=min_N_posters)[0]]\n",
    "N_big = len(states_big)\n",
    "t_true_all = np.zeros(N_big)\n",
    "p_true_all = np.zeros(N_big)\n",
    "for i, state in enumerate(states_big):\n",
    "    t_true_all[i], _ = sp.stats.ttest_ind(df[df['State']==state][key_N],df[df['State']!=state][key_N])\n",
    "    _, p_true_all[i] = sp.stats.mannwhitneyu(df[df['State']==state][key_N],df[df['State']!=state][key_N])\n",
    "    \n",
    "pmin_pop = np.min(p_true_all[np.where(t_true_all>0)[0]])\n",
    "pmin_unpop = np.min(p_true_all[np.where(t_true_all<0)[0]])\n",
    "\n",
    "print 'Most popular state: ', states_big[np.argmax(t_true_all)], '. p=', str(pmin_pop)\n",
    "print 'Least popular state: ', states_big[np.argmin(t_true_all)], '. p=', str(pmin_unpop)"
   ]
  },
  {
   "cell_type": "code",
   "execution_count": 8,
   "metadata": {
    "collapsed": false
   },
   "outputs": [],
   "source": [
    "# Calculate minimum p-values for each permutation\n",
    "\n",
    "# Calculate all p and t values\n",
    "t_rand_all = np.zeros((Nperm,N_big))\n",
    "p_rand_all = np.zeros((Nperm,N_big))\n",
    "pmin_pop_rand = np.zeros(Nperm)\n",
    "pmin_unpop_rand = np.zeros(Nperm)\n",
    "for i in range(Nperm):\n",
    "    for j, state in enumerate(states_big):\n",
    "        idx_use = range(len(states_big))\n",
    "        idx_use.pop(j)\n",
    "        t_rand_all[i,j], _ = sp.stats.ttest_ind(rand_statepop[i,j],np.hstack(rand_statepop[i,idx_use]))\n",
    "        _, p_rand_all[i,j] = sp.stats.mannwhitneyu(rand_statepop[i,j],np.hstack(rand_statepop[i,idx_use]))\n",
    "        \n",
    "    # Identify the greatest significance of a state being more popular than the rest\n",
    "    pmin_pop_rand[i] = np.min(p_rand_all[i][np.where(t_rand_all[i]>0)[0]])\n",
    "    # Identify the greatest significance of a state being less popular than the rest\n",
    "    pmin_unpop_rand[i] = np.min(p_rand_all[i][np.where(t_rand_all[i]<0)[0]])"
   ]
  },
  {
   "cell_type": "code",
   "execution_count": 9,
   "metadata": {
    "collapsed": false
   },
   "outputs": [
    {
     "name": "stdout",
     "output_type": "stream",
     "text": [
      "Chance of a state being more distinctly popular than Minnesota: \n",
      "0.11\n",
      "Chance of a state being less distinctly popular than Connecticut: \n",
      "0.01\n"
     ]
    }
   ],
   "source": [
    "# Test if most popular and least popular countries are outside of expectation\n",
    "print 'Chance of a state being more distinctly popular than Minnesota: '\n",
    "print sum(i < pmin_pop for i in pmin_pop_rand) / float(len(pmin_pop_rand))\n",
    "print 'Chance of a state being less distinctly popular than Connecticut: '\n",
    "print sum(i < pmin_unpop for i in pmin_unpop_rand) / float(len(pmin_unpop_rand))"
   ]
  },
  {
   "cell_type": "code",
   "execution_count": null,
   "metadata": {
    "collapsed": true
   },
   "outputs": [],
   "source": []
  }
 ],
 "metadata": {
  "anaconda-cloud": {},
  "kernelspec": {
   "display_name": "Python [default]",
   "language": "python",
   "name": "python2"
  },
  "language_info": {
   "codemirror_mode": {
    "name": "ipython",
    "version": 2
   },
   "file_extension": ".py",
   "mimetype": "text/x-python",
   "name": "python",
   "nbconvert_exporter": "python",
   "pygments_lexer": "ipython2",
   "version": "2.7.12"
  }
 },
 "nbformat": 4,
 "nbformat_minor": 1
}
