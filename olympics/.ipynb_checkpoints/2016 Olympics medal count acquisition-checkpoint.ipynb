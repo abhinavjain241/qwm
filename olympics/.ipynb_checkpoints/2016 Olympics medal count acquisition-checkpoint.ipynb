{
 "cells": [
  {
   "cell_type": "markdown",
   "metadata": {},
   "source": [
    "# 2016 Olympics medal count acquisition\n",
    "\n",
    "In this notebook, we acquire the current medal count from the web."
   ]
  },
  {
   "cell_type": "markdown",
   "metadata": {},
   "source": [
    "# 1. List of sports"
   ]
  },
  {
   "cell_type": "code",
   "execution_count": null,
   "metadata": {
    "collapsed": false
   },
   "outputs": [
    {
     "name": "stdout",
     "output_type": "stream",
     "text": [
      "['archery', 'athletics', 'badminton', 'basketball', 'boxing', 'canoeing', 'cycling', 'diving', 'equestrian', 'fencing', 'football', 'golf', 'gymnastics', 'handball', 'hockey', 'judo', 'modern-pentathlon', 'rowing', 'rugby-sevens', 'sailing', 'shooting', 'swimming', 'synchronised-swimming', 'table-tennis', 'taekwondo', 'tennis', 'triathlon', 'volleyball', 'water-polo', 'weightlifting', 'wrestling']\n"
     ]
    }
   ],
   "source": [
    "from bs4 import BeautifulSoup\n",
    "import urllib\n",
    "r = urllib.urlopen('http://www.bbc.com/sport/olympics/rio-2016/medals/sports').read()\n",
    "soup = BeautifulSoup(r,\"lxml\")\n",
    "\n",
    "sports_span = soup.findAll(\"span\",{\"class\",\"medals-table-by-sport__sport-name\"})\n",
    "sports_names = []\n",
    "sports_names_format = []\n",
    "for s in sports_span:\n",
    "    sports_names_format.append(str(s))\n",
    "    sports_names.append(str(s).lower().replace(\" \",\"-\")[48:-7])\n",
    "print sports_names"
   ]
  },
  {
   "cell_type": "markdown",
   "metadata": {},
   "source": [
    "# 2. HTMLs for each sport's medal table"
   ]
  },
  {
   "cell_type": "code",
   "execution_count": null,
   "metadata": {
    "collapsed": false
   },
   "outputs": [],
   "source": [
    "# Save html for each sport\n",
    "htmls = {}\n",
    "for s in sports_names:\n",
    "    htmls[s] = urllib.urlopen('http://www.bbc.com/sport/olympics/rio-2016/medals/sports/'+s+'#'+s).read()"
   ]
  },
  {
   "cell_type": "code",
   "execution_count": null,
   "metadata": {
    "collapsed": false,
    "scrolled": true
   },
   "outputs": [],
   "source": [
    "# Find table html for each sport\n",
    "thtmls = {}\n",
    "for s in sports_names:\n",
    "    soupsp = BeautifulSoup(htmls[s],\"lxml\")\n",
    "    thtmls[s] = soupsp.findAll(\"table\",{\"class\",\"medals-table-by-sport__countries_table\"})"
   ]
  },
  {
   "cell_type": "markdown",
   "metadata": {},
   "source": [
    "# 3. Scrape medals for each country and sport"
   ]
  },
  {
   "cell_type": "code",
   "execution_count": null,
   "metadata": {
    "collapsed": false,
    "scrolled": true
   },
   "outputs": [],
   "source": [
    "# For every sport, scrape medal data\n",
    "import re\n",
    "medal_names = ['gold','silver','bronze']\n",
    "medals = {}\n",
    "sports_countries = {}\n",
    "all_countries_format = []\n",
    "for s in sports_names:\n",
    "    print s\n",
    "    medals[s] = {}\n",
    "    h = str(thtmls[s])\n",
    "    if not thtmls[s]:\n",
    "        print 'no medals yet'\n",
    "    else:\n",
    "        # Find countries of interest\n",
    "        pattern = r\"<abbr class=\\\"abbr-on medium-abbr-off\\\" title=\\\"\"\n",
    "        pmatch = re.finditer(pattern, h)\n",
    "        countries = []\n",
    "        for i,match in enumerate(pmatch):\n",
    "            country = h[int(match.end()):int(match.end())+200].rsplit('\"')[0]\n",
    "            all_countries_format.append(country)\n",
    "            countries.append(country.lower().replace(\" \",\"-\"))\n",
    "        sports_countries[s] = countries\n",
    "        for c in sports_countries[s]:\n",
    "            if c == 'great-britain-&amp;-n.-ireland':\n",
    "                ci1 = 'great-britain-and-northern-ireland'\n",
    "                medals[s][c] = {}\n",
    "                for m in medal_names:\n",
    "                    pattern = r\"<abbr class=\\\"abbr-on medium-abbr-off\\\" title=\\\".{,800}\" + m + \".{,150}\" + ci1 + \"\\\">\"\n",
    "                    gendermatch = re.finditer(pattern, h)\n",
    "                    for i,match in enumerate(gendermatch):\n",
    "                        medals[s][c][m] = int(h[int(match.end()):int(match.end())+3])\n",
    "            else:\n",
    "                ci = c\n",
    "                medals[s][ci] = {}\n",
    "                for m in medal_names:\n",
    "                    pattern = r\"<abbr class=\\\"abbr-on medium-abbr-off\\\" title=\\\".{,500}\" + m + \".{,150}\" + ci + \"\\\">\"\n",
    "                    gendermatch = re.finditer(pattern, h)\n",
    "                    for i,match in enumerate(gendermatch):\n",
    "                        medals[s][ci][m] = int(h[int(match.end()):int(match.end())+3])\n",
    "        print medals[s]"
   ]
  },
  {
   "cell_type": "markdown",
   "metadata": {},
   "source": [
    "# Create dataframe of medals"
   ]
  },
  {
   "cell_type": "code",
   "execution_count": null,
   "metadata": {
    "collapsed": false
   },
   "outputs": [],
   "source": [
    "import numpy as np\n",
    "all_countries_format = list(np.unique(all_countries_format))\n",
    "all_countries_format.remove('Great Britain &amp; N. Ireland')\n",
    "all_countries_format.append('Great Britain')\n",
    "all_countries_format_list = list(np.unique(all_countries_format))"
   ]
  },
  {
   "cell_type": "code",
   "execution_count": null,
   "metadata": {
    "collapsed": false,
    "scrolled": true
   },
   "outputs": [],
   "source": [
    "import pandas as pd\n",
    "\n",
    "# Create an empty dataframe\n",
    "columns = ['country','sport','medal','N']\n",
    "df = pd.DataFrame(columns=columns)\n",
    "\n",
    "# Identify all countries with at least 1 medal\n",
    "countries_list = list(set(reduce(lambda x,y: x+y,sports_countries.values())))\n",
    "countries_list = sorted(countries_list)\n",
    "# Fill dataframe\n",
    "for s in sports_names:\n",
    "    if thtmls[s]:\n",
    "        for i,c in enumerate(countries_list):\n",
    "            ci = all_countries_format_list[i]\n",
    "            for m in medal_names:\n",
    "                if c in sports_countries[s]:\n",
    "                    rowtemp = [ci, s, m, medals[s][c][m]]\n",
    "                else:\n",
    "                    rowtemp = [ci, s, m, 0]\n",
    "                dftemp = pd.DataFrame([rowtemp], columns=columns)\n",
    "                df =df.append(dftemp)"
   ]
  },
  {
   "cell_type": "markdown",
   "metadata": {},
   "source": [
    "# Save dataframe"
   ]
  },
  {
   "cell_type": "code",
   "execution_count": null,
   "metadata": {
    "collapsed": false
   },
   "outputs": [],
   "source": [
    "df.to_csv('now_medals.csv')"
   ]
  }
 ],
 "metadata": {
  "kernelspec": {
   "display_name": "Python 2",
   "language": "python",
   "name": "python2"
  },
  "language_info": {
   "codemirror_mode": {
    "name": "ipython",
    "version": 2
   },
   "file_extension": ".py",
   "mimetype": "text/x-python",
   "name": "python",
   "nbconvert_exporter": "python",
   "pygments_lexer": "ipython2",
   "version": "2.7.11"
  }
 },
 "nbformat": 4,
 "nbformat_minor": 0
}
