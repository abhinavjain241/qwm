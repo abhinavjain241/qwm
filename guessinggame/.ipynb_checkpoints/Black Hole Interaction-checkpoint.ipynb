{
 "cells": [
  {
   "cell_type": "markdown",
   "metadata": {},
   "source": [
    "# Finding Black Hole Apparent Horizons"
   ]
  },
  {
   "cell_type": "code",
   "execution_count": 1,
   "metadata": {
    "collapsed": false
   },
   "outputs": [],
   "source": [
    "%matplotlib inline"
   ]
  },
  {
   "cell_type": "code",
   "execution_count": 2,
   "metadata": {
    "collapsed": false
   },
   "outputs": [],
   "source": [
    "import matplotlib\n",
    "matplotlib.rcParams.update({'font.size': 14})\n",
    "import matplotlib.pyplot as plt"
   ]
  },
  {
   "cell_type": "markdown",
   "metadata": {},
   "source": [
    "Black holes are often defined by their *event horizons*: the surface from which not even light can escape. However, showing that light can *never* escape means knowing the entire future of the universe. Unsurprisingly, finding the event horizon in an interesting spacetime is usually impractical.\n",
    "\n",
    "Instead, we often look for *apparent* horizons. These are surfaces on which, at a \"fixed instant\" in time, all light is going \"inwards\". Apparent horizons are local, so can be found by numerical algorithms.\n",
    "\n",
    "For an in-depth discussion of how to locate apparent and event horizons in numerical simulations, see the [Living Review by Thornburg](http://relativity.livingreviews.org/Articles/lrr-2007-3/)."
   ]
  },
  {
   "cell_type": "markdown",
   "metadata": {},
   "source": [
    "## Simplified spacetime"
   ]
  },
  {
   "cell_type": "markdown",
   "metadata": {},
   "source": [
    "In this example we will consider a simple spacetime, as the equations generating the spacetime, and for finding the horizon, simplify greatly. We will assume the spacetime is of *Brill-Lindquist* type and is also\n",
    "\n",
    "1. axisymmetric,\n",
    "2. conformally flat,\n",
    "3. and time symmetric.\n",
    "\n",
    "The technical details are less important than the sketch showing the geometry of the problem:"
   ]
  },
  {
   "cell_type": "code",
   "execution_count": 3,
   "metadata": {
    "collapsed": false
   },
   "outputs": [
    {
     "data": {
      "text/html": [
       "<img src=\"Symmetries2.png\" width=\"300\"/>"
      ],
      "text/plain": [
       "<IPython.core.display.Image object>"
      ]
     },
     "execution_count": 3,
     "metadata": {},
     "output_type": "execute_result"
    }
   ],
   "source": [
    "from IPython.display import display, Image\n",
    "Image(url='Symmetries2.png', width=300)"
   ]
  },
  {
   "cell_type": "markdown",
   "metadata": {},
   "source": [
    "The $z$ axis is the rotation axis. The singularities will sit on the $z$ axis. The apparent horizon(s) will surround the singularities."
   ]
  },
  {
   "cell_type": "markdown",
   "metadata": {},
   "source": [
    "With the restrictions above, the spacetime is encoded in a single function $\\psi$, which depends on the locations of the singularities. Assume there are $N$ singularities on the $z$ axis at $z^{(i)}$ respectively. Denote the spacetime point at which we want to know the spacetime properties as ${\\bf y} = (x, z)$ and the location of the $i^{th}$ singularity as ${\\bf y}^{(i)} = (0, z^{(i)})$. Then the single function we need, along with its derivatives, is\n",
    "\n",
    "\\begin{align}\n",
    "    \\psi & = 1 + \\frac{1}{2} \\sum_{i=1}^N \\frac{m^{(i)}}{\\left\\| {\\bf\n",
    "          y} - {\\bf y}^{(i)} \\right\\|_2}, \\\\\n",
    "    \\frac{\\partial \\psi}{\\partial r} & = \\frac{1}{2} \\sum_{i=1}^N \\frac{m^{(i)} \\left(\n",
    "        z^{(i)} \\cos(\\theta) - r\n",
    "      \\right)}{\\left\\| {\\bf y} - {\\bf y}^{(i)} \\right\\|_2^3}, \\\\\n",
    "    \\frac{\\partial \\psi}{\\partial \\theta} & = -\\frac{1}{2} \\sum_{i=1}^N \\frac{m^{(i)} r\n",
    "      z^{(i)} \\sin(\\theta)}{\\left\\| {\\bf y} - {\\bf y}^{(i)} \\right\\|_2^3}.\n",
    "\\end{align}\n",
    "\n",
    "Note that we use coordinates $(r, \\theta)$, where $(x, z) = (r \\cos(\\theta), r \\sin(\\theta))$, to match the symmetries of the spacetime."
   ]
  },
  {
   "cell_type": "markdown",
   "metadata": {},
   "source": [
    "Now we can write down the problem that needs solving. The **horizon shape function** $h(\\theta)$, which encodes the radius $r$ of the horizon at the given angle $\\theta$, satisfies the *boundary value problem*\n",
    "\n",
    "\\begin{equation}\n",
    "  \\frac{d^2 h}{d \\theta^2} = 2 h -  \\frac{\\cot(\\theta)}{C^2} \\frac{d h}{d \\theta} +\n",
    "  \\frac{4 h^2}{\\psi C^2} \\left( \\frac{\\partial \\psi}{\\partial r} - \\frac{1}{h^2}\n",
    "    \\frac{\\partial \\psi}{\\partial \\theta} \\frac{d h}{d \\theta} \\right) + \\frac{3}{h} \\left(\n",
    "    \\frac{d h}{d \\theta} \\right)^2,\n",
    "\\end{equation}\n",
    "\n",
    "with boundary conditions\n",
    "\n",
    "\\begin{equation}\n",
    "  \\frac{d h}{d \\theta} \\left( \\theta = 0 \\right) = 0 = \\frac{d h}{d \\theta}\n",
    "  \\left( \\theta = \\pi \\right),\n",
    "\\end{equation}\n",
    "\n",
    "should a solution exist. If no solution exists, then there is no horizon. If multiple solutions exist then they do not cross and the AH is the solution with largest $h$ ($r$) for any angle. The auxilliary variable $C$ is defined as\n",
    "\n",
    "\\begin{equation}\n",
    "  C = \\left( 1 + \\left( \\frac{1}{h} \\frac{d h}{d \\theta} \\right)^2\n",
    "  \\right)^{-1/2}. \n",
    "\\end{equation}\n",
    "\n",
    "We note that $\\cot(\\theta)$ blows up as $\\theta \\rightarrow 0$. However, it can be shown that\n",
    "\n",
    "\\begin{equation}\n",
    "  \\lim_{\\theta \\rightarrow 0} \\frac{\\cot(\\theta)}{C^2} \\frac{d h}{d \\theta} = 0,\n",
    "\\end{equation}\n",
    "\n",
    "so that the boundary value problem is well defined for all $\\theta$."
   ]
  },
  {
   "cell_type": "markdown",
   "metadata": {},
   "source": [
    "## Numerical solution"
   ]
  },
  {
   "cell_type": "markdown",
   "metadata": {},
   "source": [
    "Boundary value problems can often be tackled using the shooting method. This is easily implemented using `scipy` via `scipy.integrate.ode` and `scipy.optimize.brentq`, for example. Here we just display some simple results."
   ]
  },
  {
   "cell_type": "code",
   "execution_count": 4,
   "metadata": {
    "collapsed": false
   },
   "outputs": [
    {
     "ename": "ImportError",
     "evalue": "No module named findhorizon",
     "output_type": "error",
     "traceback": [
      "\u001b[1;31m---------------------------------------------------------------------------\u001b[0m",
      "\u001b[1;31mImportError\u001b[0m                               Traceback (most recent call last)",
      "\u001b[1;32m<ipython-input-4-22d82d2d6113>\u001b[0m in \u001b[0;36m<module>\u001b[1;34m()\u001b[0m\n\u001b[1;32m----> 1\u001b[1;33m \u001b[1;32mimport\u001b[0m \u001b[0mfindhorizon\u001b[0m\u001b[1;33m\u001b[0m\u001b[0m\n\u001b[0m",
      "\u001b[1;31mImportError\u001b[0m: No module named findhorizon"
     ]
    }
   ],
   "source": [
    "import findhorizon"
   ]
  },
  {
   "cell_type": "code",
   "execution_count": null,
   "metadata": {
    "collapsed": false
   },
   "outputs": [],
   "source": [
    "ts = findhorizon.find_horizon_binary_symmetric(z=0.2)\n",
    "fig = plt.figure(figsize=(8,6))\n",
    "ax = fig.add_subplot(111)\n",
    "ts.plot_2d(ax)"
   ]
  },
  {
   "cell_type": "markdown",
   "metadata": {},
   "source": [
    "This is a simple problem with a single, common horizon. There is reflection symmetry across the $x$ axis which simplifies the problem further: we can restrict the domain to be $\\theta \\in [0, \\pi/2]$ and impose the boundary condition $dh / d\\theta (\\theta = \\pi / 2) = 0$. This avoids the weak (coordinate) singularity at $\\theta = \\pi$ (seen in the problematic behaviour of the $\\cot(\\theta)$ term).\n",
    "\n",
    "The horizon is not far from spherical in this simple case."
   ]
  },
  {
   "cell_type": "markdown",
   "metadata": {},
   "source": [
    "### Interactive"
   ]
  },
  {
   "cell_type": "markdown",
   "metadata": {},
   "source": [
    "**Note**: the code that follows from here is interactive in some sense, so will not display correctly on the nbviewer website. The interactive 2d plots, where the locations or masses of the singularities may be varied, rely on using version 2.0 of IPython. The 3d plots rely on mayavi. Both must be produced using a local version of the notebook."
   ]
  },
  {
   "cell_type": "markdown",
   "metadata": {},
   "source": [
    "We can look at what happens as the singularities move further apart. The horizon becomes steadily more distorted; when the singularities are at $z \\approx \\pm 0.7$ the horizon develops a \"peanut\" shape. When the location of the singularities is greater than $z \\gtrsim 0.766$ there is no common horizon. The horizon does not \"pinch off\" - it just no longer exists."
   ]
  },
  {
   "cell_type": "code",
   "execution_count": null,
   "metadata": {
    "collapsed": false
   },
   "outputs": [],
   "source": [
    "from IPython.html.widgets import interact, fixed, FloatSliderWidget, interactive"
   ]
  },
  {
   "cell_type": "code",
   "execution_count": null,
   "metadata": {
    "collapsed": false
   },
   "outputs": [],
   "source": [
    "w = interactive(findhorizon.solve_plot_symmetric, z = FloatSliderWidget(min = 0.0, max = 0.765, step = 0.005, value = 0.5), \\\n",
    "         mass = fixed(1.0))\n",
    "display(w)"
   ]
  },
  {
   "cell_type": "markdown",
   "metadata": {},
   "source": [
    "We can also examine the horizon in 3d."
   ]
  },
  {
   "cell_type": "code",
   "execution_count": null,
   "metadata": {
    "collapsed": false
   },
   "outputs": [],
   "source": [
    "findhorizon.solve_plot_symmetric_3d(z=0.75)"
   ]
  },
  {
   "cell_type": "markdown",
   "metadata": {},
   "source": [
    "## Non-symmetric spacetimes"
   ]
  },
  {
   "cell_type": "markdown",
   "metadata": {},
   "source": [
    "In the simple examples above, there was a reflection symmetry across the $x$ axis enforced by imposing that every singularity at location $z$ had a singularity of equal mass at location $-z$.\n",
    "\n",
    "Removing this restriction make the numerical solution via shooting more complex. In the simple case the shooting algorithm guessed the horizon radius $h(0)$ at $\\theta = 0$. Together with the boundary condition $dh/d\\theta(0) = 0$ this specified an initial value problem; by comparing the result at $\\theta = \\pi / 2$ we could set up a nonlinear root-finding problem to determine the correct value for $h(0)$. In principle the less restrictive problem only requires us to keep integrating to $\\theta = \\pi$ and impose the boundary condition there. However, the weakly singular behaviour noted above means that the solution of the initial value problem typically diverges before reaching $\\theta = \\pi$.\n",
    "\n",
    "Instead we use *shooting to a matching point*. We guess the horizon radius at $h(0)$ *and* at $h(\\pi)$. We then integrate the two initial value problems to the matching point at $\\theta = \\pi / 2$. To be a solution of the boundary value problem, both $h$ and $dh/d\\theta$ must match at this point. This gives us a *system* of nonlinear algebraic equations to determine $h(0)$ and $h(\\pi)$.\n",
    "\n",
    "In addition to being more computationally complex and expensive, it is much more difficult to check that the algorithm fails *only* when there is no horizon to be found."
   ]
  },
  {
   "cell_type": "markdown",
   "metadata": {},
   "source": [
    "It is worth playing with the ranges below and seeing the results. Note that when the algorithm fails, is should be clear from the plot: the surface produced is not sufficiently smooth, for example."
   ]
  },
  {
   "cell_type": "code",
   "execution_count": null,
   "metadata": {
    "collapsed": false
   },
   "outputs": [],
   "source": [
    "w=interactive(findhorizon.solve_plot_binary, z=FloatSliderWidget(min=0.0, max=3.5, value=2.3), \n",
    "              mass1=FloatSliderWidget(min=1.0, max=10.0, value=6.0), mass2=FloatSliderWidget(min=1.0, max=10.0, value=1.0))\n",
    "display(w)"
   ]
  },
  {
   "cell_type": "markdown",
   "metadata": {},
   "source": [
    "We can again plot the horizon in 3d."
   ]
  },
  {
   "cell_type": "code",
   "execution_count": null,
   "metadata": {
    "collapsed": false
   },
   "outputs": [],
   "source": [
    "findhorizon.solve_plot_binary_3d(2.3, 6.0, 1.0)"
   ]
  }
 ],
 "metadata": {
  "kernelspec": {
   "display_name": "Python 2",
   "language": "python",
   "name": "python2"
  },
  "language_info": {
   "codemirror_mode": {
    "name": "ipython",
    "version": 2
   },
   "file_extension": ".py",
   "mimetype": "text/x-python",
   "name": "python",
   "nbconvert_exporter": "python",
   "pygments_lexer": "ipython2",
   "version": "2.7.6"
  }
 },
 "nbformat": 4,
 "nbformat_minor": 0
}
