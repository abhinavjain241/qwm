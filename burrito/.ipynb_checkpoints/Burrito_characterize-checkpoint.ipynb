{
 "cells": [
  {
   "cell_type": "markdown",
   "metadata": {},
   "source": [
    "# San Diego Burrito Analytics: Data characterization\n",
    "\n",
    "Scott Cole\n",
    "\n",
    "21 May 2016\n",
    "\n",
    "This notebook characterizes the collection of reviewers of San Diego burritos including:\n",
    "\n",
    "1. Metadata\n",
    "2. How many of each kind of burrito have been reviewed?\n",
    "3. For each of burrito dimension, what is the distribution of its scores across all samples?"
   ]
  },
  {
   "cell_type": "markdown",
   "metadata": {},
   "source": [
    "### Default imports"
   ]
  },
  {
   "cell_type": "code",
   "execution_count": 1,
   "metadata": {
    "collapsed": false
   },
   "outputs": [],
   "source": [
    "%config InlineBackend.figure_format = 'retina'\n",
    "%matplotlib inline\n",
    "\n",
    "import numpy as np\n",
    "import scipy as sp\n",
    "import matplotlib.pyplot as plt\n",
    "import pandas as pd\n",
    "\n",
    "import seaborn as sns\n",
    "sns.set_style(\"white\")"
   ]
  },
  {
   "cell_type": "markdown",
   "metadata": {},
   "source": [
    "### Load data"
   ]
  },
  {
   "cell_type": "code",
   "execution_count": 6,
   "metadata": {
    "collapsed": false
   },
   "outputs": [],
   "source": [
    "import util\n",
    "df = util.load_burritos()\n",
    "N = df.shape[0]"
   ]
  },
  {
   "cell_type": "markdown",
   "metadata": {},
   "source": [
    "### Brief metadata"
   ]
  },
  {
   "cell_type": "code",
   "execution_count": null,
   "metadata": {
    "collapsed": false
   },
   "outputs": [],
   "source": [
    "print 'Number of burritos:', df.shape[0]\n",
    "print 'Number of restaurants:', len(df.Location.unique())\n",
    "print 'Number of reviewers:', len(df.Reviewer.unique())\n",
    "print 'Number of reviews by Scott:', df.Reviewer.value_counts()['Scott']\n",
    "print 'Number of reviews by Emily:', df.Reviewer.value_counts()['Emily']\n",
    "\n",
    "uniqlocidx = df.Location.drop_duplicates().index\n",
    "print 'Percentage of taco shops with free chips:', np.round(100 - 100*df.Chips[uniqlocidx].isnull().sum()/np.float(len(df.Location.unique())),1)"
   ]
  },
  {
   "cell_type": "markdown",
   "metadata": {},
   "source": [
    "### What types of burritos have been rated?"
   ]
  },
  {
   "cell_type": "code",
   "execution_count": null,
   "metadata": {
    "collapsed": false
   },
   "outputs": [],
   "source": [
    "# Number of each type of burrito\n",
    "def burritotypes(x, types = {'California':'cali', 'Carnitas':'carnita', 'Carne asada':'carne asada',\n",
    "                             'Chicken':'chicken', 'Surf & Turf':'surf.*turf', 'Adobada':'adobad'}):\n",
    "    import re\n",
    "    T = len(types)\n",
    "    Nmatches = {}\n",
    "    for b in x:\n",
    "        matched = False\n",
    "        for t in types.keys():\n",
    "            re4str = re.compile('.*'+types[t]+'.*', re.IGNORECASE)\n",
    "            if np.logical_and(re4str.match(b) is not None, matched is False):\n",
    "                try:\n",
    "                    Nmatches[t] +=1\n",
    "                except KeyError:\n",
    "                    Nmatches[t] = 1\n",
    "                matched = True\n",
    "        if matched is False:\n",
    "            try:\n",
    "                Nmatches['other'] +=1\n",
    "            except KeyError:\n",
    "                Nmatches['other'] = 1\n",
    "    return Nmatches\n",
    "\n",
    "typecounts = burritotypes(df.Burrito)\n",
    "\n",
    "plt.figure(figsize=(6,6))\n",
    "ax = plt.axes([0.1, 0.1, 0.65, 0.65])\n",
    "\n",
    "# The slices will be ordered and plotted counter-clockwise.\n",
    "labels = typecounts.keys()\n",
    "fracs = typecounts.values()\n",
    "explode=[.1]*len(typecounts)\n",
    "\n",
    "patches, texts, autotexts = plt.pie(fracs, explode=explode, labels=labels,\n",
    "                autopct=lambda(p): '{:.0f}'.format(p * np.sum(fracs) / 100), shadow=False, startangle=0)\n",
    "                # The default startangle is 0, which would start\n",
    "                # the Frogs slice on the x-axis.  With startangle=90,\n",
    "                # everything is rotated counter-clockwise by 90 degrees,\n",
    "                # so the plotting starts on the positive y-axis.\n",
    "\n",
    "plt.title('Types of burritos',size=30)\n",
    "for t in texts:\n",
    "    t.set_size(20)\n",
    "for t in autotexts:\n",
    "    t.set_size(20)\n",
    "autotexts[0].set_color('w')\n",
    "autotexts[6].set_color('w')\n",
    "\n",
    "figname = 'burritotypes'\n",
    "plt.savefig('C:/gh/fig/burrito/'+figname + '.png')"
   ]
  },
  {
   "cell_type": "markdown",
   "metadata": {},
   "source": [
    "### Progress in number of burritos rated"
   ]
  },
  {
   "cell_type": "code",
   "execution_count": null,
   "metadata": {
    "collapsed": false
   },
   "outputs": [],
   "source": [
    "# Time series of ratings\n",
    "import math\n",
    "\n",
    "def dates2ts(dates):\n",
    "    from datetime import datetime\n",
    "    \n",
    "    D = len(dates)\n",
    "    start = datetime.strptime('1/1/2016','%m/%d/%Y')\n",
    "    ts = np.zeros(D,dtype=int)\n",
    "    for d in range(D):\n",
    "        burrdate = datetime.strptime(df.Date[d],'%m/%d/%Y')\n",
    "        diff = burrdate - start\n",
    "        ts[d] = diff.days\n",
    "    return ts\n",
    "\n",
    "def cumburritos(days):\n",
    "    from statsmodels.distributions.empirical_distribution import ECDF\n",
    "    ecdf = ECDF(days)\n",
    "    t = np.arange(days[-1]+1)\n",
    "    return t, ecdf(t)*len(days)\n",
    "\n",
    "def datelabels(startdate = '1/1/2016', M = 7):\n",
    "    from datetime import datetime\n",
    "    start = datetime.strptime(startdate,'%m/%d/%Y')\n",
    "    datestrs = []\n",
    "    ts = np.zeros(M)\n",
    "    for m in range(M):\n",
    "        datestrs.append(str(m+1) + '/1')\n",
    "        burrdate = datetime.strptime(datestrs[m]+'/2016','%m/%d/%Y')\n",
    "        diff = burrdate - start\n",
    "        ts[m] = diff.days\n",
    "    return datestrs, ts\n",
    "\n",
    "burrdays = dates2ts(df.Date)\n",
    "t, burrcdf = cumburritos(burrdays)\n",
    "datestrs, datets = datelabels()\n",
    "\n",
    "plt.figure(figsize=(4,4))\n",
    "plt.plot(t,burrcdf,'k-')\n",
    "plt.xlabel('Date',size=20)\n",
    "plt.ylabel('# burritos rated',size=20)\n",
    "plt.xticks(datets,datestrs,size=15)\n",
    "plt.yticks((0,int(math.ceil(len(burrdays) / 10.0)) * 10),size=15)\n",
    "plt.tight_layout()\n",
    "\n",
    "figname = 'burritoprogress'\n",
    "plt.savefig('C:/Users/Scott/Google Drive/qwm/burritos/figs/'+figname + '.png')"
   ]
  },
  {
   "cell_type": "markdown",
   "metadata": {},
   "source": [
    "# Burrito dimension distributions"
   ]
  },
  {
   "cell_type": "code",
   "execution_count": null,
   "metadata": {
    "collapsed": false
   },
   "outputs": [],
   "source": [
    "# Distribution of hunger level\n",
    "plt.figure(figsize=(5,5))\n",
    "n, _, _ = plt.hist(df.Hunger,np.arange(-.25,5.5,.5),color='k')\n",
    "plt.xlabel('Hunger level',size=20)\n",
    "plt.xticks(np.arange(0,5.5,.5),size=15)\n",
    "plt.xlim((-.25,5.25))\n",
    "plt.ylabel('Count',size=20)\n",
    "plt.yticks((0,int(math.ceil(np.max(n) / 5.)) * 5),size=15)\n",
    "plt.tight_layout()\n",
    "\n",
    "figname = 'hungerleveldist'\n",
    "plt.savefig('C:/gh/fig/burrito/'+figname + '.png')"
   ]
  },
  {
   "cell_type": "code",
   "execution_count": null,
   "metadata": {
    "collapsed": false
   },
   "outputs": [],
   "source": [
    "# Average burrito cost\n",
    "plt.figure(figsize=(5,5))\n",
    "n, _, _ = plt.hist(df.Cost,np.arange(4,10.25,.5),color='k')\n",
    "plt.xlabel('Cost ($)',size=20)\n",
    "plt.xticks(np.arange(4,11,1),size=15)\n",
    "plt.xlim((4,10))\n",
    "plt.ylabel('Count',size=20)\n",
    "plt.yticks((0,int(math.ceil(np.max(n) / 5.)) * 5),size=15)\n",
    "plt.tight_layout()\n",
    "\n",
    "figname = 'costdist'\n",
    "plt.savefig('C:/gh/fig/burrito/'+figname + '.png')"
   ]
  },
  {
   "cell_type": "code",
   "execution_count": null,
   "metadata": {
    "collapsed": false
   },
   "outputs": [],
   "source": [
    "# Volume dist\n",
    "plt.figure(figsize=(5,5))\n",
    "n, _, _ = plt.hist(df.Volume.dropna(),np.arange(0.5,1.3,.05),color='k')\n",
    "plt.xlabel('Volume (L)',size=20)\n",
    "plt.xticks(np.arange(0.5,1.3,.1),size=15)\n",
    "plt.xlim((0.5,1.2))\n",
    "plt.ylabel('Count',size=20)\n",
    "plt.yticks((0,int(math.ceil(np.max(n) / 5.)) * 5),size=15)\n",
    "plt.tight_layout()\n",
    "\n",
    "figname = 'volumedist'\n",
    "plt.savefig('C:/gh/fig/burrito/'+figname + '.png')"
   ]
  },
  {
   "cell_type": "code",
   "execution_count": null,
   "metadata": {
    "collapsed": true
   },
   "outputs": [],
   "source": [
    "def metrichist(metricname):\n",
    "    plt.figure(figsize=(5,5))\n",
    "    n, _, _ = plt.hist(df[metricname].dropna(),np.arange(-.25,5.5,.5),color='k')\n",
    "    plt.xlabel(metricname + ' rating',size=20)\n",
    "    plt.xticks(np.arange(0,5.5,.5),size=15)\n",
    "    plt.xlim((-.25,5.25))\n",
    "    plt.ylabel('Count',size=20)\n",
    "    plt.yticks((0,int(math.ceil(np.max(n) / 5.)) * 5),size=15)\n",
    "    plt.tight_layout()\n",
    "    \n",
    "    if metricname == 'Meat:filling':\n",
    "        metricname = 'meattofilling'\n",
    "    figname = metricname + 'dist'\n",
    "    plt.savefig('C:/gh/fig/burrito/'+figname + '.png')"
   ]
  },
  {
   "cell_type": "code",
   "execution_count": null,
   "metadata": {
    "collapsed": false
   },
   "outputs": [],
   "source": [
    "m_Hist = ['Tortilla','Temp','Meat','Fillings','Meat:filling','Uniformity','Salsa','Synergy','Wrap','overall']\n",
    "for m in m_Hist:\n",
    "    metrichist(m)"
   ]
  },
  {
   "cell_type": "markdown",
   "metadata": {},
   "source": [
    "# Fraction of burritos recommended"
   ]
  },
  {
   "cell_type": "code",
   "execution_count": null,
   "metadata": {
    "collapsed": false
   },
   "outputs": [],
   "source": [
    "# Overall recommendations\n",
    "plt.figure(figsize=(6,6))\n",
    "ax = plt.axes([0.1, 0.1, 0.8, 0.8])\n",
    "\n",
    "# The slices will be ordered and plotted counter-clockwise.\n",
    "labels = ['Yes','No']\n",
    "fracs = np.array([np.sum(df.Rec==labels[0]),np.sum(df.Rec==labels[1])])\n",
    "explode=[.01]*len(labels)\n",
    "\n",
    "patches, texts, autotexts = plt.pie(fracs, explode=explode, labels=labels,\n",
    "                autopct=lambda(p): '{:.0f}'.format(p * np.sum(fracs) / 100), shadow=False, startangle=90)\n",
    "                # The default startangle is 0, which would start\n",
    "                # the Frogs slice on the x-axis.  With startangle=90,\n",
    "                # everything is rotated counter-clockwise by 90 degrees,\n",
    "                # so the plotting starts on the positive y-axis.\n",
    "\n",
    "plt.title('Would you recommend this burrito?',size=30)\n",
    "for t in texts:\n",
    "    t.set_size(20)\n",
    "for t in autotexts:\n",
    "    t.set_size(30)\n",
    "autotexts[0].set_color('w')\n",
    "autotexts[1].set_color('w')\n",
    "\n",
    "figname = 'recspie'\n",
    "plt.savefig('C:/gh/fig/burrito/'+figname + '.png')"
   ]
  },
  {
   "cell_type": "code",
   "execution_count": null,
   "metadata": {
    "collapsed": true
   },
   "outputs": [],
   "source": []
  }
 ],
 "metadata": {
  "kernelspec": {
   "display_name": "Python 2",
   "language": "python",
   "name": "python2"
  },
  "language_info": {
   "codemirror_mode": {
    "name": "ipython",
    "version": 2
   },
   "file_extension": ".py",
   "mimetype": "text/x-python",
   "name": "python",
   "nbconvert_exporter": "python",
   "pygments_lexer": "ipython2",
   "version": "2.7.11"
  }
 },
 "nbformat": 4,
 "nbformat_minor": 0
}
