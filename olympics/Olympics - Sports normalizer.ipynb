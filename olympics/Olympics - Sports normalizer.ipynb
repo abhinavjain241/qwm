{
 "cells": [
  {
   "cell_type": "markdown",
   "metadata": {},
   "source": [
    "# Olympic medal count adjusted by sport\n",
    "\n",
    "1. If each sport had equal medals: what would the standings be? (Output as bar dataframe with country and N points for each calculation variation)\n",
    "    * variations: pure medal count; gold medal count; weighted medal count (1,2,3)\n",
    "2. If each sport had equal chance of having a large/small number of medals (10,000 permutations), what likelihood would each country have of having the most in each calculation variation as above\n",
    "3. Best all-around countries: weight subsequent medals in the same sport less"
   ]
  },
  {
   "cell_type": "code",
   "execution_count": 1,
   "metadata": {
    "collapsed": true
   },
   "outputs": [],
   "source": [
    "# Default imports\n",
    "%config InlineBackend.figure_format = 'retina'\n",
    "%matplotlib inline\n",
    "import numpy as np\n",
    "import scipy as sp\n",
    "import pandas as pd\n",
    "import matplotlib.pyplot as plt\n",
    "import seaborn as sns\n",
    "sns.set_style('white')"
   ]
  },
  {
   "cell_type": "code",
   "execution_count": 9,
   "metadata": {
    "collapsed": false
   },
   "outputs": [
    {
     "name": "stdout",
     "output_type": "stream",
     "text": [
      "   Unnamed: 0    country    sport   medal    N\n",
      "0           0    Algeria  archery    gold  0.0\n",
      "1           0    Algeria  archery  silver  0.0\n",
      "2           0    Algeria  archery  bronze  0.0\n",
      "3           0  Argentina  archery    gold  0.0\n",
      "4           0  Argentina  archery  silver  0.0\n",
      "31\n",
      "['archery' 'athletics' 'badminton' 'basketball' 'boxing' 'canoeing'\n",
      " 'cycling' 'diving' 'equestrian' 'fencing' 'football' 'golf' 'gymnastics'\n",
      " 'handball' 'hockey' 'judo' 'modern-pentathlon' 'rowing' 'rugby-sevens'\n",
      " 'sailing' 'shooting' 'swimming' 'synchronised-swimming' 'table-tennis'\n",
      " 'taekwondo' 'tennis' 'triathlon' 'volleyball' 'water-polo' 'weightlifting'\n",
      " 'wrestling']\n",
      "3\n",
      "['gold' 'silver' 'bronze']\n",
      "84\n",
      "['Algeria' 'Argentina' 'Armenia' 'Australia' 'Austria' 'Azerbaijan'\n",
      " 'Bahamas' 'Bahrain' 'Belarus' 'Belgium' 'Brazil' 'Bulgaria' 'Canada'\n",
      " 'China' 'Chinese Taipei' 'Colombia' 'Croatia' 'Cuba' 'Czech Republic'\n",
      " 'Denmark' 'Dominican Republic' 'Egypt' 'Estonia' 'Ethiopia' 'Fiji'\n",
      " 'Finland' 'France' 'Georgia' 'Germany' 'Great Britain' 'Greece' 'Grenada'\n",
      " 'Hungary' 'Independent Olympic Athletes' 'India' 'Indonesia' 'Iran'\n",
      " 'Ireland' 'Israel' 'Italy' 'Ivory Coast' 'Jamaica' 'Japan' 'Jordan'\n",
      " 'Kazakhstan' 'Kenya' 'Kosovo' 'Lithuania' 'Malaysia' 'Mexico' 'Moldova'\n",
      " 'Mongolia' 'Morocco' 'Netherlands' 'New Zealand' 'Nigeria' 'North Korea'\n",
      " 'Norway' 'Philippines' 'Poland' 'Portugal' 'Puerto Rico' 'Qatar' 'Romania'\n",
      " 'Russia' 'Serbia' 'Singapore' 'Slovakia' 'Slovenia' 'South Africa'\n",
      " 'South Korea' 'Spain' 'Sweden' 'Switzerland' 'Tajikistan' 'Thailand'\n",
      " 'Tunisia' 'Turkey' 'Ukraine' 'United Arab Emirates' 'United States'\n",
      " 'Uzbekistan' 'Venezuela' 'Vietnam']\n"
     ]
    }
   ],
   "source": [
    "# Load data\n",
    "df = pd.read_csv('medals_0820_11am.csv')\n",
    "print df[:5]\n",
    "\n",
    "# Identify all sports names\n",
    "sports_names = df.sport.unique()\n",
    "print len(sports_names)\n",
    "print sports_names\n",
    "\n",
    "# Identify all medal names\n",
    "medal_names = df.medal.unique()\n",
    "print len(medal_names)\n",
    "print medal_names\n",
    "\n",
    "# Identify all countries\n",
    "country_names = df.country.unique()\n",
    "print len(country_names)\n",
    "print country_names"
   ]
  },
  {
   "cell_type": "code",
   "execution_count": 10,
   "metadata": {
    "collapsed": false
   },
   "outputs": [
    {
     "name": "stderr",
     "output_type": "stream",
     "text": [
      "C:\\Users\\Scott\\Anaconda2\\lib\\site-packages\\ipykernel\\__main__.py:6: UserWarning: Boolean Series key will be reindexed to match DataFrame index.\n"
     ]
    }
   ],
   "source": [
    "# Calculate number of medals for each sport\n",
    "Nmedals_sport = {}\n",
    "for s in sports_names:\n",
    "    Nmedals_sport[s] = {}\n",
    "    for m in medal_names:\n",
    "        Nmedals = df[df.sport==s][df.medal==m].N.sum()\n",
    "        Nmedals_sport[s][m] = Nmedals\n",
    "    Nmedals_sport[s]['total'] = np.sum(Nmedals_sport[s].values())"
   ]
  },
  {
   "cell_type": "code",
   "execution_count": 11,
   "metadata": {
    "collapsed": false
   },
   "outputs": [
    {
     "name": "stderr",
     "output_type": "stream",
     "text": [
      "C:\\Users\\Scott\\Anaconda2\\lib\\site-packages\\ipykernel\\__main__.py:5: UserWarning: Boolean Series key will be reindexed to match DataFrame index.\n"
     ]
    },
    {
     "name": "stdout",
     "output_type": "stream",
     "text": [
      "33.0\n",
      "0.317307692308\n"
     ]
    }
   ],
   "source": [
    "# Calculate number of medals per country per sport\n",
    "df_Nmedals = pd.DataFrame(index=country_names,columns=sports_names)\n",
    "for s in sports_names:\n",
    "    for c in country_names:\n",
    "        df_Nmedals.loc[c][s] = df[df.sport==s][df.country==c].N.sum()\n",
    "print df_Nmedals.loc['United States']['swimming']\n",
    "\n",
    "df_Nmedalsnorm = pd.DataFrame(index=country_names,columns=sports_names)\n",
    "for s in sports_names:\n",
    "    df_Nmedalsnorm[s] = df_Nmedals[s] / Nmedals_sport[s]['total']\n",
    "print df_Nmedalsnorm.loc['United States']['swimming']"
   ]
  },
  {
   "cell_type": "code",
   "execution_count": 12,
   "metadata": {
    "collapsed": false
   },
   "outputs": [
    {
     "name": "stderr",
     "output_type": "stream",
     "text": [
      "C:\\Users\\Scott\\Anaconda2\\lib\\site-packages\\ipykernel\\__main__.py:5: UserWarning: Boolean Series key will be reindexed to match DataFrame index.\n"
     ]
    },
    {
     "name": "stdout",
     "output_type": "stream",
     "text": [
      "16.0\n",
      "0.457142857143\n"
     ]
    }
   ],
   "source": [
    "# Calculate number of gold medals per country per sport\n",
    "df_Ngolds = pd.DataFrame(index=country_names,columns=sports_names)\n",
    "for s in sports_names:\n",
    "    for c in country_names:\n",
    "        df_Ngolds.loc[c][s] = df[df.sport==s][df.country==c][df.medal=='gold'].N.values[0]\n",
    "print df_Ngolds.loc['United States']['swimming']\n",
    "\n",
    "df_Ngoldsnorm = pd.DataFrame(index=country_names,columns=sports_names)\n",
    "for s in sports_names:\n",
    "    if Nmedals_sport[s]['gold'] == 0:\n",
    "        df_Ngoldsnorm[s] = 0\n",
    "    else:\n",
    "        df_Ngoldsnorm[s] = df_Ngolds[s] / Nmedals_sport[s]['gold']\n",
    "print df_Ngoldsnorm.loc['United States']['swimming']"
   ]
  },
  {
   "cell_type": "code",
   "execution_count": 13,
   "metadata": {
    "collapsed": false
   },
   "outputs": [
    {
     "name": "stderr",
     "output_type": "stream",
     "text": [
      "C:\\Users\\Scott\\Anaconda2\\lib\\site-packages\\ipykernel\\__main__.py:5: UserWarning: Boolean Series key will be reindexed to match DataFrame index.\n"
     ]
    },
    {
     "name": "stdout",
     "output_type": "stream",
     "text": [
      "73.0\n",
      "0.349282296651\n"
     ]
    }
   ],
   "source": [
    "# Calculate number of weighted medals per country per sport\n",
    "df_NmedalsW = pd.DataFrame(index=country_names,columns=sports_names)\n",
    "for s in sports_names:\n",
    "    for c in country_names:\n",
    "        df_NmedalsW.loc[c][s] = df[df.sport==s][df.country==c][df.medal=='gold'].N.values[0]*3 + \\\n",
    "                                df[df.sport==s][df.country==c][df.medal=='silver'].N.values[0]*2 + \\\n",
    "                                df[df.sport==s][df.country==c][df.medal=='bronze'].N.values[0]\n",
    "print df_NmedalsW.loc['United States']['swimming']\n",
    "\n",
    "df_NmedalsWnorm = pd.DataFrame(index=country_names,columns=sports_names)\n",
    "for s in sports_names:\n",
    "    df_NmedalsWnorm[s] = df_NmedalsW[s] / (3*Nmedals_sport[s]['gold']+2*Nmedals_sport[s]['silver']+Nmedals_sport[s]['bronze'])\n",
    "print df_NmedalsWnorm.loc['United States']['swimming']"
   ]
  },
  {
   "cell_type": "markdown",
   "metadata": {},
   "source": [
    "# 1. Estimated medal counts if all sports had 10 medals\n",
    "Normalize each country's medal count by number of medals in that sport"
   ]
  },
  {
   "cell_type": "code",
   "execution_count": 14,
   "metadata": {
    "collapsed": false
   },
   "outputs": [],
   "source": [
    "# Calculate array that's total number of medals for each country\n",
    "total_medals = []\n",
    "total_medalsnorm = []\n",
    "total_medalsW = []\n",
    "total_medalsWnorm = []\n",
    "total_golds = []\n",
    "total_goldsnorm = []\n",
    "for c in country_names:\n",
    "    total_medals.append(df_Nmedals.loc[c].sum())\n",
    "    total_medalsnorm.append(df_Nmedalsnorm.loc[c].sum())\n",
    "    total_medalsW.append(df_NmedalsW.loc[c].sum())\n",
    "    total_medalsWnorm.append(df_NmedalsWnorm.loc[c].sum())\n",
    "    total_golds.append(df_Ngolds.loc[c].sum())\n",
    "    total_goldsnorm.append(df_Ngoldsnorm.loc[c].sum())\n",
    "\n",
    "df_Nmedals['total'] = np.array(total_medals)\n",
    "df_Nmedalsnorm['total'] = np.array(total_medalsnorm)\n",
    "df_NmedalsW['total'] = np.array(total_medalsW)\n",
    "df_NmedalsWnorm['total'] = np.array(total_medalsWnorm)\n",
    "df_Ngolds['total'] = np.array(total_golds)\n",
    "df_Ngoldsnorm['total'] = np.array(total_goldsnorm)"
   ]
  },
  {
   "cell_type": "code",
   "execution_count": 15,
   "metadata": {
    "collapsed": false
   },
   "outputs": [],
   "source": [
    "# Output\n",
    "df_out1 = pd.DataFrame(index=country_names,columns=['Medals', 'Gold medals', 'Weighted medals', 'Normalized medals', 'Normalized gold medals', 'Normalized weighted medals'])\n",
    "df_out1['Medals'] = np.array(total_medals)\n",
    "df_out1['Normalized medals'] = np.array(total_medalsnorm)\n",
    "df_out1['Weighted medals'] = np.array(total_medalsW)\n",
    "df_out1['Normalized weighted medals'] = np.array(total_medalsWnorm)\n",
    "df_out1['Gold medals'] = np.array(total_golds)\n",
    "df_out1['Normalized gold medals'] = np.array(total_goldsnorm)\n",
    "\n",
    "df_out1.to_csv('Normalized medals.csv')"
   ]
  },
  {
   "cell_type": "code",
   "execution_count": null,
   "metadata": {
    "collapsed": true
   },
   "outputs": [],
   "source": []
  }
 ],
 "metadata": {
  "kernelspec": {
   "display_name": "Python 2",
   "language": "python",
   "name": "python2"
  },
  "language_info": {
   "codemirror_mode": {
    "name": "ipython",
    "version": 2
   },
   "file_extension": ".py",
   "mimetype": "text/x-python",
   "name": "python",
   "nbconvert_exporter": "python",
   "pygments_lexer": "ipython2",
   "version": "2.7.11"
  }
 },
 "nbformat": 4,
 "nbformat_minor": 0
}
