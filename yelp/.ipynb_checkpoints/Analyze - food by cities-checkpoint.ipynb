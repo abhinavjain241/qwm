{
 "cells": [
  {
   "cell_type": "markdown",
   "metadata": {},
   "source": [
    "Experiments with Yelp API\n",
    "\n",
    "Notes:\n",
    "* Documentation: https://www.yelp.com/developers/documentation/v3\n",
    "* Limit of 25,000 calls per day (see FAQ)\n",
    "* Options for search: https://www.yelp.com/developers/documentation/v3/business_search\n",
    "    * 'term', 'location', 'limit' (max 50), 'offset', 'price'\n",
    "    * 'categories' - comma-delimited string, using category identifier (e.g. \"bars,french\")\n",
    "    * 'sort_by': 'best_match', 'rating', 'review_count', 'distance'\n",
    "        * sort by review count and rating breaks after 200 for NYC\n",
    "        * sort by best_match throws error if ask above 1000\n",
    "    * 'attributes': e.g. 'hot_and_new,cashback' also:\n",
    "        * 'request_a_quote', 'waitlist_reservation', 'deals', 'gender_neutral_restrooms'\n",
    "    * Returns: 'total' (# reviews); \n",
    "    \n",
    "Scrapes\n",
    "1. Get top 1000 restaurants in each city (761 * 20 = ~14000 scrapes)"
   ]
  },
  {
   "cell_type": "code",
   "execution_count": 1,
   "metadata": {
    "collapsed": true
   },
   "outputs": [],
   "source": [
    "%matplotlib inline\n",
    "import matplotlib.pyplot as plt\n",
    "import numpy as np\n",
    "import pandas as pd\n",
    "import json\n",
    "import time"
   ]
  },
  {
   "cell_type": "code",
   "execution_count": 2,
   "metadata": {},
   "outputs": [],
   "source": [
    "import util"
   ]
  },
  {
   "cell_type": "markdown",
   "metadata": {},
   "source": [
    "### Load food categories"
   ]
  },
  {
   "cell_type": "code",
   "execution_count": 3,
   "metadata": {
    "scrolled": true
   },
   "outputs": [
    {
     "data": {
      "text/html": [
       "<div>\n",
       "<style>\n",
       "    .dataframe thead tr:only-child th {\n",
       "        text-align: right;\n",
       "    }\n",
       "\n",
       "    .dataframe thead th {\n",
       "        text-align: left;\n",
       "    }\n",
       "\n",
       "    .dataframe tbody tr th {\n",
       "        vertical-align: top;\n",
       "    }\n",
       "</style>\n",
       "<table border=\"1\" class=\"dataframe\">\n",
       "  <thead>\n",
       "    <tr style=\"text-align: right;\">\n",
       "      <th></th>\n",
       "      <th>alias</th>\n",
       "      <th>country_blacklist</th>\n",
       "      <th>country_whitelist</th>\n",
       "      <th>parents</th>\n",
       "      <th>title</th>\n",
       "    </tr>\n",
       "  </thead>\n",
       "  <tbody>\n",
       "    <tr>\n",
       "      <th>0</th>\n",
       "      <td>3dprinting</td>\n",
       "      <td>NaN</td>\n",
       "      <td>NaN</td>\n",
       "      <td>[localservices]</td>\n",
       "      <td>3D Printing</td>\n",
       "    </tr>\n",
       "    <tr>\n",
       "      <th>1</th>\n",
       "      <td>abruzzese</td>\n",
       "      <td>NaN</td>\n",
       "      <td>[IT]</td>\n",
       "      <td>[italian]</td>\n",
       "      <td>Abruzzese</td>\n",
       "    </tr>\n",
       "    <tr>\n",
       "      <th>2</th>\n",
       "      <td>absinthebars</td>\n",
       "      <td>NaN</td>\n",
       "      <td>[CZ]</td>\n",
       "      <td>[bars]</td>\n",
       "      <td>Absinthe Bars</td>\n",
       "    </tr>\n",
       "    <tr>\n",
       "      <th>3</th>\n",
       "      <td>acaibowls</td>\n",
       "      <td>[AR, PL, TR, MX, CL, IT]</td>\n",
       "      <td>NaN</td>\n",
       "      <td>[food]</td>\n",
       "      <td>Acai Bowls</td>\n",
       "    </tr>\n",
       "    <tr>\n",
       "      <th>4</th>\n",
       "      <td>accessories</td>\n",
       "      <td>NaN</td>\n",
       "      <td>NaN</td>\n",
       "      <td>[fashion]</td>\n",
       "      <td>Accessories</td>\n",
       "    </tr>\n",
       "  </tbody>\n",
       "</table>\n",
       "</div>"
      ],
      "text/plain": [
       "          alias         country_blacklist country_whitelist          parents  \\\n",
       "0    3dprinting                       NaN               NaN  [localservices]   \n",
       "1     abruzzese                       NaN              [IT]        [italian]   \n",
       "2  absinthebars                       NaN              [CZ]           [bars]   \n",
       "3     acaibowls  [AR, PL, TR, MX, CL, IT]               NaN           [food]   \n",
       "4   accessories                       NaN               NaN        [fashion]   \n",
       "\n",
       "           title  \n",
       "0    3D Printing  \n",
       "1      Abruzzese  \n",
       "2  Absinthe Bars  \n",
       "3     Acai Bowls  \n",
       "4    Accessories  "
      ]
     },
     "execution_count": 3,
     "metadata": {},
     "output_type": "execute_result"
    }
   ],
   "source": [
    "# These are used for the 'category' input to the search function\n",
    "df_categories = pd.read_json('/gh/data2/yelp/categories.json')\n",
    "df_categories.head()"
   ]
  },
  {
   "cell_type": "markdown",
   "metadata": {},
   "source": [
    "### Load cities"
   ]
  },
  {
   "cell_type": "code",
   "execution_count": 4,
   "metadata": {},
   "outputs": [],
   "source": [
    "# Load raw cities\n",
    "df_cities = pd.read_csv('/gh/data2/yelp/city_pop.csv')\n",
    "\n",
    "# Extract state\n",
    "df_cities['state'] = [c.split(',')[1][1:] for c in df_cities['GC_RANK.display-label.1']]\n",
    "\n",
    "# Extract just city\n",
    "city_temp = [c.split(',')[0][:] for c in df_cities['GC_RANK.display-label.1']]\n",
    "\n",
    "# Remove unnecessary words from city name\n",
    "remove_terms_post = ['city', 'town', 'village',\n",
    "                     'metro', 'urban', 'CDP',\n",
    "                     'municip', 'consolidate', 'unified']\n",
    "for k in remove_terms_post:\n",
    "    city_temp = [c.split(' '+k)[0] for c in city_temp]\n",
    "    \n",
    "remove_terms_pre = ['Urban']\n",
    "for k in remove_terms_pre:\n",
    "    city_temp = [c.split(k+' ')[-1] for c in city_temp]\n",
    "df_cities['city'] = city_temp\n",
    "\n",
    "# Get just city, state, and pop\n",
    "df_cities.rename(columns={'respop72016':'population'}, inplace=True)\n",
    "df_cities = df_cities[['city', 'state', 'population']]"
   ]
  },
  {
   "cell_type": "markdown",
   "metadata": {},
   "source": [
    "# Query API"
   ]
  },
  {
   "cell_type": "code",
   "execution_count": null,
   "metadata": {
    "scrolled": false
   },
   "outputs": [
    {
     "name": "stdout",
     "output_type": "stream",
     "text": [
      "\n",
      "New York, time = 0.00 seconds\n"
     ]
    }
   ],
   "source": [
    "t_start = time.time()\n",
    "\n",
    "# Define search term\n",
    "search_term = 'food'\n",
    "step_size = 50\n",
    "N_steps = 20 # 1000 results max\n",
    "\n",
    "# Prepare parameters and outputs for looping through each city\n",
    "N_cities = len(df_cities)\n",
    "search_params = {'term': search_term,\n",
    "                'limit': step_size\n",
    "                }\n",
    "# Collect restaurant data from each city\n",
    "for i, row in df_cities.iterrows():\n",
    "    # Print city and time elapsed\n",
    "    print('\\n{:}, time = {:.2f} seconds'.format(row['city'], time.time()-t_start))\n",
    "    \n",
    "    # Update location\n",
    "    search_params['location'] = row['city'] + ', ' + row['state']\n",
    "    \n",
    "    # Loop through the first 1000 in steps of 50\n",
    "    total_temp = []\n",
    "    lats_temp = []\n",
    "    longs_temp = []\n",
    "    businesses_temp = []\n",
    "    for j in range(N_steps):\n",
    "        # Determine range of restaurants to acquire\n",
    "        search_params['offset'] = step_size*j\n",
    "\n",
    "        # Scrape 50 restaurants\n",
    "        t, lat, lon, bus = util.query_api(search_params)\n",
    "        \n",
    "        # Exit loop if no more restaurants\n",
    "        if t is None:\n",
    "            if verbose:\n",
    "                print('Finished getting restaurants after scraping:', search_params['offset'])\n",
    "            break\n",
    "\n",
    "        # Save business data\n",
    "        total_temp.append(t)\n",
    "        lats_temp.append(lat)\n",
    "        longs_temp.append(lon)\n",
    "        businesses_temp.append(bus)\n",
    "    \n",
    "    # Save the business data to a dataframe\n",
    "    json_name = '/gh/data2/yelp/food_by_city/places/'+row['city']+'.json'\n",
    "    with open(json_name, 'w') as fout:\n",
    "        json.dump(list(np.hstack(businesses_temp)), fout)\n",
    "        \n",
    "    # Save totals array\n",
    "    totals_name = '/gh/data2/yelp/food_by_city/totals/'+row['city']+'.npy'\n",
    "    np.save(totals_name, total_temp)\n",
    "        \n",
    "    # Save latitude\n",
    "    lats_diff = np.sum(np.array(lats_temp) - lats_temp[0])\n",
    "    if lats_diff > 0:\n",
    "        print('Latitude not constant:')\n",
    "        print(lats_temp)\n",
    "        lats_name = '/gh/data2/yelp/food_by_city/lats/'+row['city']+'.npy'\n",
    "        np.save(lats_name, lats_temp)\n",
    "    else:\n",
    "        lats_name = '/gh/data2/yelp/food_by_city/lats/'+row['city']+'.txt'\n",
    "        with open(lats_name, \"w\") as f:\n",
    "            f.write(str(lats_temp[0]))\n",
    "        \n",
    "    # Save longitude\n",
    "    longs_diff = np.sum(np.array(longs_temp) - longs_temp[0])\n",
    "    if longs_diff > 0:\n",
    "        print('Longitude not constant:')\n",
    "        print(longs_temp)\n",
    "        longs_name = '/gh/data2/yelp/food_by_city/longs/'+row['city']+'.npy'\n",
    "        np.save(longs_name, longs_temp)\n",
    "    else:\n",
    "        longs_name = '/gh/data2/yelp/food_by_city/longs/'+row['city']+'.txt'\n",
    "        with open(longs_name, \"w\") as f:\n",
    "            f.write(str(longs_temp[0]))"
   ]
  }
 ],
 "metadata": {
  "kernelspec": {
   "display_name": "Python 3",
   "language": "python",
   "name": "python3"
  },
  "language_info": {
   "codemirror_mode": {
    "name": "ipython",
    "version": 3
   },
   "file_extension": ".py",
   "mimetype": "text/x-python",
   "name": "python",
   "nbconvert_exporter": "python",
   "pygments_lexer": "ipython3",
   "version": "3.6.0"
  }
 },
 "nbformat": 4,
 "nbformat_minor": 2
}
