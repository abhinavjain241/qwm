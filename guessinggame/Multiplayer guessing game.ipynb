{
 "cells": [
  {
   "cell_type": "markdown",
   "metadata": {},
   "source": [
    "# Multiplayer guessing game"
   ]
  },
  {
   "cell_type": "markdown",
   "metadata": {},
   "source": [
    "### Download this Notebook to interact with the plots!"
   ]
  },
  {
   "cell_type": "markdown",
   "metadata": {},
   "source": [
    "The motivation behind and analysis of these simulations can be found on my blog at https://sxcole.com. \n",
    "\n",
    "Briefly, this game involves multiple people competing against each other to try and guess closest to a uniform random number in a known range. Here, we look at the optimal guesses for each player and the ideal position in the order of guessers in order to maximize the probability of winning."
   ]
  },
  {
   "cell_type": "code",
   "execution_count": 1,
   "metadata": {
    "collapsed": false
   },
   "outputs": [
    {
     "name": "stderr",
     "output_type": "stream",
     "text": [
      ":0: FutureWarning: IPython widgets are experimental and may change in the future.\n"
     ]
    }
   ],
   "source": [
    "# Import libraries\n",
    "%matplotlib inline\n",
    "import numpy as np\n",
    "import numpy.matlib\n",
    "import matplotlib\n",
    "import matplotlib.pyplot as plt\n",
    "from IPython.html.widgets import interactive, FloatSliderWidget, fixed\n",
    "from IPython.display import display"
   ]
  },
  {
   "cell_type": "code",
   "execution_count": 2,
   "metadata": {
    "collapsed": true
   },
   "outputs": [],
   "source": [
    "# Functions to calculate optimal trading strategies for each player\n",
    "def nWin(n1,n_other,N):\n",
    "    '''\n",
    "    Calculate # of numbers controlled by the player who guessed 'n1'\n",
    "    in a game of range 'N' in which the other guesses are in the\n",
    "    array 'n_other'\n",
    "    '''\n",
    "    # Game is invalid if any players choose the same number\n",
    "    if n1 in n_other:\n",
    "        return 0\n",
    "        \n",
    "    nowin = []\n",
    "    for no in range(len(n_other)):\n",
    "        nowin = np.hstack((nowin,numCloser(n_other[no],n1,N)))\n",
    "    return N - len(np.unique(nowin))\n",
    "\n",
    "\n",
    "def numCloser(n1,n2,N):\n",
    "    '''\n",
    "    Calculate the numbers that are closer to 'n1' compared to 'n2'\n",
    "    in the entire range [0,N]\n",
    "    '''\n",
    "    x1 = np.abs(np.arange(N) - n1)\n",
    "    x2 = np.abs(np.arange(N) - n2)\n",
    "    All = np.arange(N)\n",
    "    return All[x1<=x2]\n",
    "\n",
    "\n",
    "def closest(nps,N):\n",
    "    '''\n",
    "    Calculate the players (whose bets are in 'nps') that are closest\n",
    "    to each number in the range [0,N]\n",
    "    '''\n",
    "    P = len(nps)\n",
    "    closescore = np.zeros([P,N])\n",
    "    for p in range(P):\n",
    "        closescore[p,:] = np.abs(np.arange(N) - nps[p])\n",
    "    \n",
    "    closests = np.argmin(closescore,axis=0)\n",
    "    for n in range(N):\n",
    "        temp1 = np.min(closescore[:,n])\n",
    "        if sum(closescore[:,n] == temp1) != 1:\n",
    "            closests[n] = -1\n",
    "    \n",
    "    return closests"
   ]
  },
  {
   "cell_type": "code",
   "execution_count": 3,
   "metadata": {
    "collapsed": true
   },
   "outputs": [],
   "source": [
    "# Plotting functions\n",
    "def plot2player(pRED,pBLUE,N):\n",
    "    N = np.int(N)\n",
    "    ns = np.arange(N+1)\n",
    "    ns = np.hstack((-1,ns))\n",
    "    closests = closest([pRED,pBLUE],N)\n",
    "    closests = np.hstack((-1,closests,-1))\n",
    "    closests = np.matlib.repmat(closests,2,1)\n",
    "    y = np.arange(2)\n",
    "\n",
    "    plt.figure(figsize=(24,1))\n",
    "    cmap = matplotlib.colors.ListedColormap(['gray','red','blue'])\n",
    "    plt.pcolor(ns, y, closests, cmap=cmap)\n",
    "    for n in range(N):\n",
    "        plt.plot([n,n],[0,1],'k-')\n",
    "\n",
    "    plt.tick_params(axis='y',which='both',left='off',right='off',labelleft='off')\n",
    "    plt.xticks(np.arange(N)+.5,np.arange(N))\n",
    "    plt.xlim([0,N])\n",
    "    plt.show()\n",
    "\n",
    "def plot3player(pRED,pBLUE,pGREEN,N):\n",
    "    N = np.int(N)\n",
    "    ns = np.arange(N+1)\n",
    "    ns = np.hstack((-1,ns))\n",
    "    closests = closest([pRED,pBLUE,pGREEN],N)\n",
    "    closests = np.hstack((-1,closests,-1))\n",
    "    closests = np.matlib.repmat(closests,2,1)\n",
    "    y = np.arange(2)\n",
    "\n",
    "    plt.figure(figsize=(24,1))\n",
    "    cmap = matplotlib.colors.ListedColormap(['gray','red','blue','green'])\n",
    "    plt.pcolor(ns, y, closests, cmap=cmap)\n",
    "    for n in range(N):\n",
    "        plt.plot([n,n],[0,1],'k-')\n",
    "\n",
    "    plt.tick_params(axis='y',which='both',left='off',right='off',labelleft='off')\n",
    "    plt.xticks(np.arange(N)+.5,np.arange(N))\n",
    "    plt.xlim([0,N])\n",
    "    plt.show()\n",
    "\n",
    "def plot4player(pRED,pBLUE,pGREEN,pYELLOW,N):\n",
    "    N = np.int(N)\n",
    "    ns = np.arange(N+1)\n",
    "    ns = np.hstack((-1,ns))\n",
    "    closests = closest([pRED,pBLUE,pGREEN,pYELLOW],N)\n",
    "    closests = np.hstack((-1,closests,-1))\n",
    "    closests = np.matlib.repmat(closests,2,1)\n",
    "    y = np.arange(2)\n",
    "\n",
    "    plt.figure(figsize=(24,1))\n",
    "    cmap = matplotlib.colors.ListedColormap(['gray','red','blue','green','yellow'])\n",
    "    plt.pcolor(ns, y, closests, cmap=cmap)\n",
    "    for n in range(N):\n",
    "        plt.plot([n,n],[0,1],'k-')\n",
    "\n",
    "    plt.tick_params(axis='y',which='both',left='off',right='off',labelleft='off')\n",
    "    plt.xticks(np.arange(N)+.5,np.arange(N))\n",
    "    plt.xlim([0,N])\n",
    "    plt.show()"
   ]
  },
  {
   "cell_type": "markdown",
   "metadata": {},
   "source": [
    "# 2 players"
   ]
  },
  {
   "cell_type": "code",
   "execution_count": 4,
   "metadata": {
    "collapsed": false
   },
   "outputs": [
    {
     "name": "stdout",
     "output_type": "stream",
     "text": [
      "P1 chooses 9 ... Controls 10 / 20 numbers\n",
      "P2 chooses 10 ... Controls 10 / 20 numbers\n"
     ]
    }
   ],
   "source": [
    "# Experiment parameters\n",
    "P = 2 #Number of players\n",
    "N = 20 #Range of integers in the game\n",
    "\n",
    "# Calculate the number of numbers controlled by each player for each possible combination of choices\n",
    "W = np.zeros([N,N,2])\n",
    "for n1 in range(N):\n",
    "    for n2 in range(N):\n",
    "        W[n1,n2,0] = nWin(n1,[n2],N)\n",
    "        W[n1,n2,1] = nWin(n2,[n1],N)\n",
    "\n",
    "# Calculate the optimal number choices for P1 and P2\n",
    "p1_bestres_eachn = np.zeros(N)\n",
    "for n in range(N):\n",
    "    p1_bestres_eachn[n] = N - np.max(np.squeeze(W[n,:,1]))\n",
    "p1bestN = np.argmax(p1_bestres_eachn)\n",
    "p2bestN = np.argmax(np.squeeze(W[p1bestN,:,1]))\n",
    "p2bestW = W[p1bestN,p2bestN,1]\n",
    "p1bestW = W[p1bestN,p2bestN,0]\n",
    "\n",
    "# Display results of strategically played game\n",
    "print 'P1 chooses' , p1bestN , '... Controls' , np.int(p1bestW), '/', N, 'numbers'\n",
    "print 'P2 chooses' , p2bestN , '... Controls' , np.int(p2bestW), '/', N, 'numbers'"
   ]
  },
  {
   "cell_type": "code",
   "execution_count": 5,
   "metadata": {
    "collapsed": false
   },
   "outputs": [
    {
     "data": {
      "image/png": "[encoded data removed]",
      "text/plain": [
       "<matplotlib.figure.Figure at 0x71ef8f0>"
      ]
     },
     "metadata": {},
     "output_type": "display_data"
    }
   ],
   "source": [
    "# Plot the numbers controlled by each player\n",
    "w=interactive(plot2player,\n",
    "              pRED  = FloatSliderWidget(min = 0, max = N-1, step = 1, value = p1bestN),\n",
    "              pBLUE = FloatSliderWidget(min = 0, max = N-1, step = 1, value = p2bestN),\n",
    "              N = fixed(N))\n",
    "display(w)"
   ]
  },
  {
   "cell_type": "markdown",
   "metadata": {},
   "source": [
    "# 3 players"
   ]
  },
  {
   "cell_type": "code",
   "execution_count": 6,
   "metadata": {
    "collapsed": false
   },
   "outputs": [
    {
     "name": "stdout",
     "output_type": "stream",
     "text": [
      "P1 chooses 37 ... Controls 25 / 50 numbers\n",
      "P2 chooses 12.0 ... Controls 13 / 50 numbers\n",
      "P3 chooses 11.0 ... Controls 12 / 50 numbers\n"
     ]
    }
   ],
   "source": [
    "# Experiment parameters\n",
    "P = 3 #Number of players\n",
    "N = 50 #Range of integers in the game\n",
    "\n",
    "# Calculate the number of numbers controlled by each player for each possible combination of choices\n",
    "W = np.zeros([N,N,N,P])\n",
    "for n1 in range(N):\n",
    "    for n2 in range(N):\n",
    "        for n3 in range(N):\n",
    "            W[n1,n2,n3,0] = nWin(n1,[n2,n3],N)\n",
    "            W[n1,n2,n3,1] = nWin(n2,[n1,n3],N)\n",
    "            W[n1,n2,n3,2] = nWin(n3,[n1,n2],N)\n",
    "\n",
    "# Calculate the best choices for P2 and P3 for every possible choice by P1\n",
    "p2bestN_1 = np.zeros(N)\n",
    "p3bestN_1 = np.zeros(N)\n",
    "p1bestW = np.zeros(N)\n",
    "p2bestW = np.zeros(N)\n",
    "p3bestW = np.zeros(N)\n",
    "for n1 in range(N):\n",
    "    # Calculate the best possible P2W for every n2\n",
    "    p2_bestres_eachn = np.zeros(N)\n",
    "    for n2 in range(N):\n",
    "        c_bestp3 = np.argmax(np.squeeze(W[n1,n2,:,2]))\n",
    "        p2_bestres_eachn[n2] = W[n1,n2,c_bestp3,1]\n",
    "        \n",
    "    # Choose best P2N, followed by P3N\n",
    "    p2bestN_1[n1] = np.argmax(p2_bestres_eachn)\n",
    "    p3bestN_1[n1] = np.argmax(np.squeeze(W[n1,p2bestN_1[n1],:,2]))\n",
    "    \n",
    "    # Calculate winnings for all players\n",
    "    p1bestW[n1] = W[n1,p2bestN_1[n1],p3bestN_1[n1],0]\n",
    "    p2bestW[n1] = W[n1,p2bestN_1[n1],p3bestN_1[n1],1]\n",
    "    p3bestW[n1] = W[n1,p2bestN_1[n1],p3bestN_1[n1],2]\n",
    "\n",
    "# Calculate the best option for P1 and its instantiations\n",
    "p1bestN = np.argmax(p1bestW)\n",
    "p2bestN = p2bestN_1[p1bestN]\n",
    "p3bestN = p3bestN_1[p1bestN]\n",
    "p1bestW = W[p1bestN,p2bestN,p3bestN,0]\n",
    "p2bestW = W[p1bestN,p2bestN,p3bestN,1]\n",
    "p3bestW = W[p1bestN,p2bestN,p3bestN,2]\n",
    "\n",
    "\n",
    "# Display optimal game\n",
    "print 'P1 chooses' , p1bestN , '... Controls' , np.int(p1bestW), '/', N, 'numbers'\n",
    "print 'P2 chooses' , p2bestN , '... Controls' , np.int(p2bestW), '/', N, 'numbers'\n",
    "print 'P3 chooses' , p3bestN , '... Controls' , np.int(p3bestW), '/', N, 'numbers'"
   ]
  },
  {
   "cell_type": "code",
   "execution_count": 7,
   "metadata": {
    "collapsed": false
   },
   "outputs": [
    {
     "data": {
      "image/png": "[encoded data removed]",
      "text/plain": [
       "<matplotlib.figure.Figure at 0x72e5ff0>"
      ]
     },
     "metadata": {},
     "output_type": "display_data"
    }
   ],
   "source": [
    "# Plot the numbers controlled by each player\n",
    "w=interactive(plot3player,\n",
    "              pRED  = FloatSliderWidget(min = 0, max = N-1, step = 1, value = p1bestN),\n",
    "              pBLUE = FloatSliderWidget(min = 0, max = N-1, step = 1, value = p2bestN),\n",
    "              pGREEN = FloatSliderWidget(min = 0, max = N-1, step = 1, value = p3bestN),\n",
    "              N = fixed(N))\n",
    "display(w)"
   ]
  },
  {
   "cell_type": "code",
   "execution_count": 8,
   "metadata": {
    "collapsed": false
   },
   "outputs": [
    {
     "data": {
      "image/png": "[encoded data removed]",
      "text/plain": [
       "<matplotlib.figure.Figure at 0x72d9eb0>"
      ]
     },
     "metadata": {},
     "output_type": "display_data"
    }
   ],
   "source": [
    "# Compare results of the 3-player game, range 50, for different strategies by P3 (GREEN)\n",
    "bets = np.round(np.array([[37,12,11],[37,12,36],[37, 9,36]])) #N=50\n",
    "\n",
    "# Calculate controlled numbers by each player for each betting round\n",
    "p1bestW2 = np.zeros(np.shape(bets)[0])\n",
    "p2bestW2 = np.zeros(np.shape(bets)[0])\n",
    "p3bestW2 = np.zeros(np.shape(bets)[0])\n",
    "for c in range(np.shape(bets)[0]):\n",
    "    p1bestW2[c] = W[bets[c][0],bets[c][1],bets[c][2],0] / N\n",
    "    p2bestW2[c] = W[bets[c][0],bets[c][1],bets[c][2],1] / N\n",
    "    p3bestW2[c] = W[bets[c][0],bets[c][1],bets[c][2],2] / N\n",
    "\n",
    "plt.figure(figsize = (8,4))\n",
    "plt.bar([0,4,8] ,p1bestW2,width=1,color='red')\n",
    "plt.bar([1,5,9] ,p2bestW2,width=1,color='blue')\n",
    "plt.bar([2,6,10],p3bestW2,width=1,color='green')\n",
    "plt.xticks([1.5,5.5,9.5],['No bias','GREEN biased against RED','BLUE and GREEN collude'])\n",
    "plt.xlim([-.5,11.5])\n",
    "plt.ylim([0,.51])\n",
    "plt.ylabel('Probability of winning game')\n",
    "plt.show()"
   ]
  },
  {
   "cell_type": "markdown",
   "metadata": {},
   "source": [
    "# 4 players"
   ]
  },
  {
   "cell_type": "code",
   "execution_count": 9,
   "metadata": {
    "collapsed": false
   },
   "outputs": [
    {
     "name": "stdout",
     "output_type": "stream",
     "text": [
      "P1 chooses 16 ... Controls 7 / 20 numbers\n",
      "P2 chooses 9.0 ... Controls 6 / 20 numbers\n",
      "P3 chooses 2.0 ... Controls 3 / 20 numbers\n",
      "P4 chooses 3.0 ... Controls 3 / 20 numbers\n"
     ]
    }
   ],
   "source": [
    "# Experiment parameters\n",
    "P = 4 #Number of players\n",
    "N = 20 #Range of integers in the game\n",
    "\n",
    "# Calculate the number of numbers controlled by each player for each possible combination of choices\n",
    "W = np.zeros([N,N,N,N,P])\n",
    "for n1 in range(N):\n",
    "    for n2 in range(N):\n",
    "        for n3 in range(N):\n",
    "            for n4 in range(N):\n",
    "                W[n1,n2,n3,n4,0] = nWin(n1,[n2,n3,n4],N)\n",
    "                W[n1,n2,n3,n4,1] = nWin(n2,[n1,n3,n4],N)\n",
    "                W[n1,n2,n3,n4,2] = nWin(n3,[n1,n2,n4],N)\n",
    "                W[n1,n2,n3,n4,3] = nWin(n4,[n1,n2,n3],N)\n",
    "\n",
    "# Calculate the best choices for P3,4 for every possible choice by P1,P2\n",
    "p2bestN_1 = np.zeros(N)\n",
    "p3bestN_1 = np.zeros([N,N])\n",
    "p4bestN_1 = np.zeros([N,N])\n",
    "p1bestW = np.zeros([N,N])\n",
    "p2bestW = np.zeros([N,N])\n",
    "p3bestW = np.zeros([N,N])\n",
    "p4bestW = np.zeros([N,N])\n",
    "\n",
    "p1_bestres = np.zeros(N)\n",
    "for n1 in range(N):\n",
    "    p2_bestres = np.zeros(N)\n",
    "    \n",
    "    for n2 in range(N):\n",
    "        p3_bestres = np.zeros(N)\n",
    "        \n",
    "        # Calculate winnings for different choices by P3 for all choices by P1 and P2\n",
    "        for n3 in range(N):\n",
    "            p4_bestres = np.argmax(np.squeeze(W[n1,n2,n3,:,3]))\n",
    "            p3_bestres[n3] = W[n1,n2,n3,p4_bestres,2]\n",
    "        \n",
    "        # Calculate best choice by P3 for all choices by P1 and P2\n",
    "        p3bestN_1[n1,n2] = np.argmax(p3_bestres)\n",
    "        p4bestN_1[n1,n2] = np.argmax(np.squeeze(W[n1,n2,p3bestN_1[n1,n2],:,3]))\n",
    "        \n",
    "        # Calculate winnings for different choices by P2 for all choices by P1\n",
    "        p2_bestres[n2] = W[n1,n2,p3bestN_1[n1,n2],p4bestN_1[n1,n2],1]\n",
    "    \n",
    "    # Calculate best choice by P2 for all choices by P1\n",
    "    p2bestN_1[n1] = np.argmax(p2_bestres)\n",
    "    p1_bestres[n1] = W[n1,p2bestN_1[n1],p3bestN_1[n1,p2bestN_1[n1]],p4bestN_1[n1,p2bestN_1[n1]],0]\n",
    "\n",
    "# Calculate the best option for P1 and subsequent results\n",
    "p1bestN = np.argmax(p1_bestres)\n",
    "p2bestN = p2bestN_1[p1bestN]\n",
    "p3bestN = p3bestN_1[p1bestN,p2bestN]\n",
    "p4bestN = p4bestN_1[p1bestN,p2bestN]\n",
    "p1bestW = W[p1bestN,p2bestN,p3bestN,p4bestN,0]\n",
    "p2bestW = W[p1bestN,p2bestN,p3bestN,p4bestN,1]\n",
    "p3bestW = W[p1bestN,p2bestN,p3bestN,p4bestN,2]\n",
    "p4bestW = W[p1bestN,p2bestN,p3bestN,p4bestN,3]\n",
    "\n",
    "# Display optimal game\n",
    "print 'P1 chooses' , p1bestN , '... Controls' , np.int(p1bestW), '/', N, 'numbers'\n",
    "print 'P2 chooses' , p2bestN , '... Controls' , np.int(p2bestW), '/', N, 'numbers'\n",
    "print 'P3 chooses' , p3bestN , '... Controls' , np.int(p3bestW), '/', N, 'numbers'\n",
    "print 'P4 chooses' , p4bestN , '... Controls' , np.int(p4bestW), '/', N, 'numbers'"
   ]
  },
  {
   "cell_type": "code",
   "execution_count": 10,
   "metadata": {
    "collapsed": false
   },
   "outputs": [
    {
     "data": {
      "image/png": "[encoded data removed]",
      "text/plain": [
       "<matplotlib.figure.Figure at 0x7609510>"
      ]
     },
     "metadata": {},
     "output_type": "display_data"
    }
   ],
   "source": [
    "# Plot the numbers controlled by each player\n",
    "w=interactive(plot4player,\n",
    "              pRED  = FloatSliderWidget(min = 0, max = N-1, step = 1, value = p1bestN),\n",
    "              pBLUE = FloatSliderWidget(min = 0, max = N-1, step = 1, value = p2bestN),\n",
    "              pGREEN = FloatSliderWidget(min = 0, max = N-1, step = 1, value = p3bestN),\n",
    "              pYELLOW = FloatSliderWidget(min = 0, max = N-1, step = 1, value = p4bestN),\n",
    "              N = fixed(N))\n",
    "display(w)"
   ]
  }
 ],
 "metadata": {
  "kernelspec": {
   "display_name": "Python 2",
   "language": "python",
   "name": "python2"
  },
  "language_info": {
   "codemirror_mode": {
    "name": "ipython",
    "version": 2
   },
   "file_extension": ".py",
   "mimetype": "text/x-python",
   "name": "python",
   "nbconvert_exporter": "python",
   "pygments_lexer": "ipython2",
   "version": "2.7.6"
  }
 },
 "nbformat": 4,
 "nbformat_minor": 0
}
