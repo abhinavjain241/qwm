{
 "cells": [
  {
   "cell_type": "code",
   "execution_count": 1,
   "metadata": {
    "collapsed": false
   },
   "outputs": [
    {
     "data": {
      "image/png": "[encoded data removed]",
      "text/plain": [
       "<matplotlib.figure.Figure at 0x70abd50>"
      ]
     },
     "metadata": {},
     "output_type": "display_data"
    }
   ],
   "source": [
    "%matplotlib inline\n",
    "import numpy as np\n",
    "import matplotlib.pyplot as plt\n",
    "\n",
    "def twoplayers(a=4,b=5):\n",
    "    x = np.linspace(0,10,256)\n",
    "    s = 1/(1+np.exp(-(x-a)/(b+0.1))) # +0.1 to avoid dividing by 0\n",
    "    sn = 100.0*(s-min(s))/(max(s)-min(s)) # normalize sigmoid to 0-100\n",
    "    fig = plt.figure(figsize=(24,6))\n",
    "    ax1 = fig.add_subplot(2, 1, 1)\n",
    "    ax1.set_xticks([])\n",
    "    ax1.set_yticks([])\n",
    "    plt.plot(x,sn,lw=2,color='black')\n",
    "    plt.xlim(x.min(), x.max())\n",
    "\n",
    "w=interactive(sigmoid_demo,a=5,b=1)\n",
    "display(w)"
   ]
  },
  {
   "cell_type": "code",
   "execution_count": 2,
   "metadata": {
    "collapsed": true
   },
   "outputs": [],
   "source": [
    "# Imports\n",
    "import numpy as np\n",
    "import numpy.matlib\n",
    "import matplotlib.pyplot as plt\n",
    "from matplotlib import cm\n",
    "from IPython.html.widgets import interactive\n",
    "from IPython.display import display"
   ]
  },
  {
   "cell_type": "code",
   "execution_count": 3,
   "metadata": {
    "collapsed": true
   },
   "outputs": [],
   "source": [
    "# Userful functions\n",
    "\n",
    "def nWin(n1,n_other,N):\n",
    "    # return no winnings if any in n_other equals n1. this is an invalid scenario\n",
    "    if n1 in n_other:\n",
    "        return 0\n",
    "        \n",
    "    nowin = []\n",
    "    for no in range(len(n_other)):\n",
    "        # Mark numbers that are closer to n_other than n_1\n",
    "        nowin = np.hstack((nowin,numCloser(n_other[no],n1,N)))\n",
    "    nowin = np.unique(nowin)\n",
    "    #pdb.set_trace()\n",
    "    return N - len(nowin)\n",
    "\n",
    "def numCloser(n1,n2,N):\n",
    "    x1 = np.abs(np.arange(N) - n1)\n",
    "    x2 = np.abs(np.arange(N) - n2)\n",
    "    All = np.arange(N)\n",
    "    return All[x1<=x2]\n",
    "\n",
    "def closest(nps,N):\n",
    "    P = len(nps)\n",
    "    closescore = np.zeros([P,N])\n",
    "    for p in range(P):\n",
    "        closescore[p,:] = np.abs(np.arange(N) - nps[p])\n",
    "    \n",
    "    closests = np.argmin(closescore,axis=0)\n",
    "    for n in range(N):\n",
    "        temp1 = np.min(closescore[:,n])\n",
    "        if sum(closescore[:,n] == temp1) != 1:\n",
    "            closests[n] = -1\n",
    "    \n",
    "    return closests"
   ]
  },
  {
   "cell_type": "markdown",
   "metadata": {},
   "source": [
    "# Experiment 1. 2-player game"
   ]
  },
  {
   "cell_type": "code",
   "execution_count": 25,
   "metadata": {
    "collapsed": false
   },
   "outputs": [
    {
     "name": "stdout",
     "output_type": "stream",
     "text": [
      "P1 chooses 4 ... Controls 5 / 10 numbers\n",
      "P2 chooses 5 ... Controls 5 / 10 numbers\n"
     ]
    }
   ],
   "source": [
    "# Experiment parameters\n",
    "P = 2 #Number of players\n",
    "N = 10 #Range of integers in the game\n",
    "\n",
    "# Calculate the number of numbers controlled by each player for each possible combination of choices\n",
    "W = np.zeros([N,N,2])\n",
    "for n1 in range(N):\n",
    "    for n2 in range(N):\n",
    "        W[n1,n2,0] = nWin(n1,[n2],N)\n",
    "        W[n1,n2,1] = nWin(n2,[n1],N)\n",
    "\n",
    "# Calculate the best number choice for player 1\n",
    "p1_bestres_eachn = np.zeros(N)\n",
    "for n in range(N):\n",
    "    p1_bestres_eachn[n] = N - np.max(np.squeeze(W[n,:,1]))\n",
    "p1_best = np.argmax(p1_bestres_eachn)\n",
    "p2_best = np.argmax(np.squeeze(W[p1_best,:,1]))\n",
    "p2_bestW = W[p1_best,p2_best,1]\n",
    "p1_bestW = W[p1_best,p2_best,0]\n",
    "\n",
    "# Display results of strategically played game\n",
    "print 'P1 chooses' , p1_best , '... Controls' , np.int(p1_bestW), '/', N, 'numbers'\n",
    "print 'P2 chooses' , p2_best , '... Controls' , np.int(p2_bestW), '/', N, 'numbers'"
   ]
  },
  {
   "cell_type": "code",
   "execution_count": 27,
   "metadata": {
    "collapsed": false
   },
   "outputs": [
    {
     "data": {
      "image/png": "[encoded data removed]",
      "text/plain": [
       "<matplotlib.figure.Figure at 0x8323390>"
      ]
     },
     "metadata": {},
     "output_type": "display_data"
    }
   ],
   "source": [
    "# Plot the numbers controlled by each player\n",
    "def controlplot(p1_best,p2_best,N):\n",
    "    ns = np.arange(N)\n",
    "    closests = closest([p1_best,p2_best],N)\n",
    "    closests = np.matlib.repmat(closests,2,1)\n",
    "    y = np.arange(2)\n",
    "\n",
    "    plt.figure(figsize=(24,1))\n",
    "    plt.pcolor(ns, y, closests, facecolor=['b','g','r'])\n",
    "    for n in range(N):\n",
    "        plt.plot([n,n],[0,1],'k-')\n",
    "\n",
    "    plt.tick_params(axis='y',which='both',left='off',right='off',labelleft='off')\n",
    "    plt.xlim([0,N-1])\n",
    "\n",
    "w=interactive(controlplot,p1_best=p1_best,p2_best=p2_best,N=N)\n",
    "display(w)\n",
    "# Need to set limits"
   ]
  },
  {
   "cell_type": "code",
   "execution_count": null,
   "metadata": {
    "collapsed": true
   },
   "outputs": [],
   "source": []
  }
 ],
 "metadata": {
  "kernelspec": {
   "display_name": "Python 2",
   "language": "python",
   "name": "python2"
  },
  "language_info": {
   "codemirror_mode": {
    "name": "ipython",
    "version": 2
   },
   "file_extension": ".py",
   "mimetype": "text/x-python",
   "name": "python",
   "nbconvert_exporter": "python",
   "pygments_lexer": "ipython2",
   "version": "2.7.6"
  }
 },
 "nbformat": 4,
 "nbformat_minor": 0
}
