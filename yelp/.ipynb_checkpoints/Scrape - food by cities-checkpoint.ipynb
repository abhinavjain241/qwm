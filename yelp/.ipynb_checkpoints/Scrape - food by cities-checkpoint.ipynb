{
 "cells": [
  {
   "cell_type": "markdown",
   "metadata": {},
   "source": [
    "Experiments with Yelp API\n",
    "\n",
    "Notes:\n",
    "* Documentation: https://www.yelp.com/developers/documentation/v3\n",
    "* Options for search: https://www.yelp.com/developers/documentation/v3/business_search\n",
    "    * use 'limit' and 'offset'. Max of 50 per request. Max to 1000. Use more specific search criteria (lat and long) to get less than 1000). Check 'total' output\n",
    "    * use the restaurant id as unique identifier"
   ]
  },
  {
   "cell_type": "code",
   "execution_count": 1,
   "metadata": {
    "collapsed": true
   },
   "outputs": [],
   "source": [
    "%matplotlib inline\n",
    "import matplotlib.pyplot as plt\n",
    "import numpy as np\n",
    "import pandas as pd"
   ]
  },
  {
   "cell_type": "code",
   "execution_count": 2,
   "metadata": {},
   "outputs": [
    {
     "ename": "TabError",
     "evalue": "inconsistent use of tabs and spaces in indentation (util.py, line 107)",
     "output_type": "error",
     "traceback": [
      "\u001b[0;36m  File \u001b[0;32m\"/gh/qwm/yelp/util.py\"\u001b[0;36m, line \u001b[0;32m107\u001b[0m\n\u001b[0;31m    val = search_params[k]\u001b[0m\n\u001b[0m                          ^\u001b[0m\n\u001b[0;31mTabError\u001b[0m\u001b[0;31m:\u001b[0m inconsistent use of tabs and spaces in indentation\n"
     ]
    }
   ],
   "source": [
    "import util"
   ]
  },
  {
   "cell_type": "code",
   "execution_count": null,
   "metadata": {
    "collapsed": true
   },
   "outputs": [],
   "source": [
    "# Load all categories\n",
    "# These are used for the 'category' input to the search function\n",
    "df_categories = pd.read_json('/gh/data2/yelp/categories.json')\n",
    "df_categories.head()"
   ]
  },
  {
   "cell_type": "code",
   "execution_count": null,
   "metadata": {},
   "outputs": [],
   "source": [
    "# Define search parameters\n",
    "# See https://www.yelp.com/developers/documentation/v3/business_search\n",
    "search_params = {'term': 'burritos',\n",
    "                'location': 'San Diego, CA',\n",
    "                'limit': 50,\n",
    "                }\n",
    "\n",
    "businesses = util.query_api(search_params)\n",
    "print(businesses[0])"
   ]
  },
  {
   "cell_type": "code",
   "execution_count": 3,
   "metadata": {},
   "outputs": [
    {
     "ename": "TabError",
     "evalue": "inconsistent use of tabs and spaces in indentation (<ipython-input-3-8cba15abedb0>, line 13)",
     "output_type": "error",
     "traceback": [
      "\u001b[0;36m  File \u001b[0;32m\"<ipython-input-3-8cba15abedb0>\"\u001b[0;36m, line \u001b[0;32m13\u001b[0m\n\u001b[0;31m    val = search_params[k]\u001b[0m\n\u001b[0m                          ^\u001b[0m\n\u001b[0;31mTabError\u001b[0m\u001b[0;31m:\u001b[0m inconsistent use of tabs and spaces in indentation\n"
     ]
    }
   ],
   "source": [
    "def search(bearer_token, search_params):\n",
    "    \"\"\"Query the Search API by a search term and location.\n",
    "\n",
    "    Args:\n",
    "        term (str): The search term passed to the API.\n",
    "        location (str): The search location passed to the API.\n",
    "\n",
    "    Returns:\n",
    "        dict: The JSON response from the request.\n",
    "    \"\"\"\n",
    "    url_params = {}\n",
    "    for k in search_params.keys():\n",
    "\t\tval = search_params[k]\n",
    "\t\tif type(val) is str:\n",
    "\t\t\turl_params[k] = val.replace(' ', '+')\n",
    "        else:\n",
    "            url_params[k] = val\n",
    "\n",
    "    return request(API_HOST, SEARCH_PATH, bearer_token, url_params=url_params)"
   ]
  },
  {
   "cell_type": "code",
   "execution_count": null,
   "metadata": {
    "collapsed": true
   },
   "outputs": [],
   "source": []
  }
 ],
 "metadata": {
  "kernelspec": {
   "display_name": "Python 3",
   "language": "python",
   "name": "python3"
  },
  "language_info": {
   "codemirror_mode": {
    "name": "ipython",
    "version": 3
   },
   "file_extension": ".py",
   "mimetype": "text/x-python",
   "name": "python",
   "nbconvert_exporter": "python",
   "pygments_lexer": "ipython3",
   "version": "3.6.0"
  }
 },
 "nbformat": 4,
 "nbformat_minor": 2
}
