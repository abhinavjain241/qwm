{
 "cells": [
  {
   "cell_type": "markdown",
   "metadata": {},
   "source": [
    "Data: 1000 restaurants for each city\n",
    "\n",
    "* Which cities have the greatest number of restaurants per capita?\n",
    "* Which cities have the greatest concentration of mexican, ethiopian, etc."
   ]
  },
  {
   "cell_type": "code",
   "execution_count": 1,
   "metadata": {
    "collapsed": true
   },
   "outputs": [],
   "source": [
    "%matplotlib inline\n",
    "import matplotlib.pyplot as plt\n",
    "import numpy as np\n",
    "import pandas as pd\n",
    "import glob\n",
    "import os"
   ]
  },
  {
   "cell_type": "markdown",
   "metadata": {},
   "source": [
    "### Load cities"
   ]
  },
  {
   "cell_type": "code",
   "execution_count": null,
   "metadata": {},
   "outputs": [
    {
     "data": {
      "text/html": [
       "<div>\n",
       "<style>\n",
       "    .dataframe thead tr:only-child th {\n",
       "        text-align: right;\n",
       "    }\n",
       "\n",
       "    .dataframe thead th {\n",
       "        text-align: left;\n",
       "    }\n",
       "\n",
       "    .dataframe tbody tr th {\n",
       "        vertical-align: top;\n",
       "    }\n",
       "</style>\n",
       "<table border=\"1\" class=\"dataframe\">\n",
       "  <thead>\n",
       "    <tr style=\"text-align: right;\">\n",
       "      <th></th>\n",
       "      <th>city</th>\n",
       "      <th>state</th>\n",
       "      <th>population</th>\n",
       "    </tr>\n",
       "  </thead>\n",
       "  <tbody>\n",
       "    <tr>\n",
       "      <th>0</th>\n",
       "      <td>New York</td>\n",
       "      <td>New York</td>\n",
       "      <td>8537673</td>\n",
       "    </tr>\n",
       "    <tr>\n",
       "      <th>1</th>\n",
       "      <td>Los Angeles</td>\n",
       "      <td>California</td>\n",
       "      <td>3976322</td>\n",
       "    </tr>\n",
       "    <tr>\n",
       "      <th>2</th>\n",
       "      <td>Chicago</td>\n",
       "      <td>Illinois</td>\n",
       "      <td>2704958</td>\n",
       "    </tr>\n",
       "    <tr>\n",
       "      <th>3</th>\n",
       "      <td>Houston</td>\n",
       "      <td>Texas</td>\n",
       "      <td>2303482</td>\n",
       "    </tr>\n",
       "    <tr>\n",
       "      <th>4</th>\n",
       "      <td>Phoenix</td>\n",
       "      <td>Arizona</td>\n",
       "      <td>1615017</td>\n",
       "    </tr>\n",
       "  </tbody>\n",
       "</table>\n",
       "</div>"
      ],
      "text/plain": [
       "          city       state  population\n",
       "0     New York    New York     8537673\n",
       "1  Los Angeles  California     3976322\n",
       "2      Chicago    Illinois     2704958\n",
       "3      Houston       Texas     2303482\n",
       "4      Phoenix     Arizona     1615017"
      ]
     },
     "execution_count": 2,
     "metadata": {},
     "output_type": "execute_result"
    }
   ],
   "source": [
    "# Load cities info\n",
    "df_cities = pd.read_csv('/gh/data2/yelp/city_pop.csv', index_col=0)\n",
    "df_cities.head()"
   ]
  },
  {
   "cell_type": "markdown",
   "metadata": {},
   "source": [
    "# Reformat dataframes of restaurants\n",
    "1. Main characteristics of each restaurant\n",
    "2. Sparse matrix of categories of each restaurant"
   ]
  },
  {
   "cell_type": "code",
   "execution_count": null,
   "metadata": {
    "scrolled": true
   },
   "outputs": [],
   "source": [
    "# Determine paths to all dataframes\n",
    "all_cities = df_cities['city']\n",
    "dfs_places = []\n",
    "df_path_base = '/gh/data2/yelp/food_by_city/places/'\n",
    "for city in all_cities:\n",
    "    json_path = df_path_base + city + '.json'\n",
    "    if os.path.isfile(json_path):\n",
    "        df_temp = pd.read_json(json_path)\n",
    "        df_temp['city'] = city\n",
    "        dfs_places.append(df_temp)\n",
    "    else:\n",
    "        print('No data for', city)\n",
    "    \n",
    "# Concatenate dataframes for each city\n",
    "df_places = pd.concat(dfs_places)\n",
    "df_places.reset_index(inplace=True)\n",
    "\n",
    "# Create custom columns\n",
    "df_places['all_aliases'] = [[a['alias'] for a in df_places['categories'][i]] for i in df_places.index]\n",
    "df_places['latitude'] = [df_places.loc[i]['coordinates']['latitude'] for i in df_places.index]\n",
    "df_places['longitude'] = [df_places.loc[i]['coordinates']['longitude'] for i in df_places.index]\n",
    "df_places['cost'] = [len(str(x)) for x in df_places['price'].values]\n",
    "df_places['has_delivery'] = ['delivery' in x for x in df_places['transactions'].values]\n",
    "df_places['has_pickup'] = ['pickup' in x for x in df_places['transactions'].values]\n",
    "\n",
    "# Determine which columns to keep\n",
    "cols_keep = ['id', 'name', 'city', 'rating', 'review_count', 'cost', 'all_aliases',\n",
    "             'latitude', 'longitude', 'has_delivery', 'has_pickup', 'url']\n",
    "df_places_final = df_places[cols_keep]\n",
    "\n",
    "# Determine all categories and their indices\n",
    "all_categories = np.unique(np.hstack(df_places['all_aliases'].values))\n",
    "k,v = np.unique(all_categories,return_inverse=True)\n",
    "idx_by_category = dict(zip(k,v))\n",
    "\n",
    "# Make a dataframe indicating if each restaurant is each category\n",
    "N_categories = len(all_categories)\n",
    "matrix_categories = np.zeros((len(df_places), N_categories), dtype=int)\n",
    "for i, row in df_places.iterrows():\n",
    "    # Determine number of aliases\n",
    "    N_aliases = len(row['all_aliases'])\n",
    "    for j in range(N_aliases):\n",
    "        # Mark alias as present\n",
    "        alias_name = row['all_aliases'][j]\n",
    "        matrix_categories[i, idx_by_category[alias_name]] = 1\n",
    "df_places_categories = pd.DataFrame(matrix_categories, columns=all_categories)\n",
    "\n",
    "# Save dataframes\n",
    "df_places.drop('all_aliases', axis=1).to_csv('/gh/data2/yelp/food_by_city/df_restaurants.csv')\n",
    "df_places_categories.to_csv('/gh/data2/yelp/food_by_city/df_categories.csv')"
   ]
  }
 ],
 "metadata": {
  "kernelspec": {
   "display_name": "Python 3",
   "language": "python",
   "name": "python3"
  },
  "language_info": {
   "codemirror_mode": {
    "name": "ipython",
    "version": 3
   },
   "file_extension": ".py",
   "mimetype": "text/x-python",
   "name": "python",
   "nbconvert_exporter": "python",
   "pygments_lexer": "ipython3",
   "version": "3.6.0"
  }
 },
 "nbformat": 4,
 "nbformat_minor": 2
}
