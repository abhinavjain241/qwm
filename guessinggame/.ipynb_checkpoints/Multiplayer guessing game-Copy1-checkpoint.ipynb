{
 "cells": [
  {
   "cell_type": "markdown",
   "metadata": {},
   "source": [
    "Introduction"
   ]
  },
  {
   "cell_type": "code",
   "execution_count": 69,
   "metadata": {
    "collapsed": true
   },
   "outputs": [],
   "source": [
    "# Imports\n",
    "import numpy as np\n",
    "import numpy.matlib\n",
    "import matplotlib.pyplot as plt\n",
    "from matplotlib import cm\n",
    "import matplotlib\n",
    "from IPython.html.widgets import interactive, FloatSliderWidget, fixed\n",
    "from IPython.display import display"
   ]
  },
  {
   "cell_type": "code",
   "execution_count": 70,
   "metadata": {
    "collapsed": true
   },
   "outputs": [],
   "source": [
    "# functions\n",
    "\n",
    "def nWin(n1,n_other,N):\n",
    "    # return no winnings if any in n_other equals n1. this is an invalid scenario\n",
    "    if n1 in n_other:\n",
    "        return 0\n",
    "        \n",
    "    nowin = []\n",
    "    for no in range(len(n_other)):\n",
    "        # Mark numbers that are closer to n_other than n_1\n",
    "        nowin = np.hstack((nowin,numCloser(n_other[no],n1,N)))\n",
    "    nowin = np.unique(nowin)\n",
    "    #pdb.set_trace()\n",
    "    return N - len(nowin)\n",
    "\n",
    "def numCloser(n1,n2,N):\n",
    "    x1 = np.abs(np.arange(N) - n1)\n",
    "    x2 = np.abs(np.arange(N) - n2)\n",
    "    All = np.arange(N)\n",
    "    return All[x1<=x2]\n",
    "\n",
    "def closest(nps,N):\n",
    "    P = len(nps)\n",
    "    closescore = np.zeros([P,N])\n",
    "    for p in range(P):\n",
    "        closescore[p,:] = np.abs(np.arange(N) - nps[p])\n",
    "    \n",
    "    closests = np.argmin(closescore,axis=0)\n",
    "    for n in range(N):\n",
    "        temp1 = np.min(closescore[:,n])\n",
    "        if sum(closescore[:,n] == temp1) != 1:\n",
    "            closests[n] = -1\n",
    "    \n",
    "    return closests"
   ]
  },
  {
   "cell_type": "code",
   "execution_count": 71,
   "metadata": {
    "collapsed": true
   },
   "outputs": [],
   "source": [
    "# Plotting functions\n",
    "\n",
    "def plot2player(pRED,pBLUE,N):\n",
    "    N = np.int(N)\n",
    "    ns = np.arange(N+1)\n",
    "    ns = np.hstack((-1,ns))\n",
    "    closests = closest([pRED,pBLUE],N)\n",
    "    closests = np.hstack((-1,closests,-1))\n",
    "    closests = np.matlib.repmat(closests,2,1)\n",
    "    y = np.arange(2)\n",
    "\n",
    "    plt.figure(figsize=(24,1))\n",
    "    cmap = matplotlib.colors.ListedColormap(['gray','red','blue'])\n",
    "    plt.pcolor(ns, y, closests, cmap=cmap)\n",
    "    for n in range(N):\n",
    "        plt.plot([n,n],[0,1],'k-')\n",
    "\n",
    "    plt.tick_params(axis='y',which='both',left='off',right='off',labelleft='off')\n",
    "    plt.xticks(np.arange(N)+.5,np.arange(N))\n",
    "    plt.xlim([0,N])\n",
    "    plt.show()\n",
    "\n",
    "def plot3player(pRED,pBLUE,pGREEN,N):\n",
    "    N = np.int(N)\n",
    "    ns = np.arange(N+1)\n",
    "    ns = np.hstack((-1,ns))\n",
    "    closests = closest([pRED,pBLUE,pGREEN],N)\n",
    "    closests = np.hstack((-1,closests,-1))\n",
    "    closests = np.matlib.repmat(closests,2,1)\n",
    "    y = np.arange(2)\n",
    "\n",
    "    plt.figure(figsize=(24,1))\n",
    "    cmap = matplotlib.colors.ListedColormap(['gray','red','blue','green'])\n",
    "    plt.pcolor(ns, y, closests, cmap=cmap)\n",
    "    for n in range(N):\n",
    "        plt.plot([n,n],[0,1],'k-')\n",
    "\n",
    "    plt.tick_params(axis='y',which='both',left='off',right='off',labelleft='off')\n",
    "    plt.xticks(np.arange(N)+.5,np.arange(N))\n",
    "    plt.xlim([0,N])\n",
    "    plt.show()\n",
    "\n",
    "def plot4player(pRED,pBLUE,pGREEN,pYELLOW,N):\n",
    "    N = np.int(N)\n",
    "    ns = np.arange(N+1)\n",
    "    ns = np.hstack((-1,ns))\n",
    "    closests = closest([pRED,pBLUE,pGREEN,pYELLOW],N)\n",
    "    closests = np.hstack((-1,closests,-1))\n",
    "    closests = np.matlib.repmat(closests,2,1)\n",
    "    y = np.arange(2)\n",
    "\n",
    "    plt.figure(figsize=(24,1))\n",
    "    cmap = matplotlib.colors.ListedColormap(['gray','red','blue','green','yellow'])\n",
    "    plt.pcolor(ns, y, closests, cmap=cmap)\n",
    "    for n in range(N):\n",
    "        plt.plot([n,n],[0,1],'k-')\n",
    "\n",
    "    plt.tick_params(axis='y',which='both',left='off',right='off',labelleft='off')\n",
    "    plt.xticks(np.arange(N)+.5,np.arange(N))\n",
    "    plt.xlim([0,N])\n",
    "    plt.show()"
   ]
  },
  {
   "cell_type": "markdown",
   "metadata": {},
   "source": [
    "# 2 players"
   ]
  },
  {
   "cell_type": "code",
   "execution_count": 80,
   "metadata": {
    "collapsed": false
   },
   "outputs": [
    {
     "name": "stdout",
     "output_type": "stream",
     "text": [
      "P1 chooses 24 ... Controls 25 / 50 numbers\n",
      "P2 chooses 25 ... Controls 25 / 50 numbers\n"
     ]
    }
   ],
   "source": [
    "# Experiment parameters\n",
    "P = 2 #Number of players\n",
    "N = 50 #Range of integers in the game\n",
    "\n",
    "# Calculate the number of numbers controlled by each player for each possible combination of choices\n",
    "W = np.zeros([N,N,2])\n",
    "for n1 in range(N):\n",
    "    for n2 in range(N):\n",
    "        W[n1,n2,0] = nWin(n1,[n2],N)\n",
    "        W[n1,n2,1] = nWin(n2,[n1],N)\n",
    "\n",
    "# Calculate the best number choice for player 1\n",
    "p1_bestres_eachn = np.zeros(N)\n",
    "for n in range(N):\n",
    "    p1_bestres_eachn[n] = N - np.max(np.squeeze(W[n,:,1]))\n",
    "p1_best = np.argmax(p1_bestres_eachn)\n",
    "p2_best = np.argmax(np.squeeze(W[p1_best,:,1]))\n",
    "p2_bestW = W[p1_best,p2_best,1]\n",
    "p1_bestW = W[p1_best,p2_best,0]\n",
    "\n",
    "# Display results of strategically played game\n",
    "print 'P1 chooses' , p1_best , '... Controls' , np.int(p1_bestW), '/', N, 'numbers'\n",
    "print 'P2 chooses' , p2_best , '... Controls' , np.int(p2_bestW), '/', N, 'numbers'"
   ]
  },
  {
   "cell_type": "code",
   "execution_count": 81,
   "metadata": {
    "collapsed": false
   },
   "outputs": [
    {
     "data": {
      "image/png": "[encoded data removed]",
      "text/plain": [
       "<matplotlib.figure.Figure at 0x8a154f0>"
      ]
     },
     "metadata": {},
     "output_type": "display_data"
    }
   ],
   "source": [
    "# Plot the numbers controlled by each player\n",
    "w=interactive(plot2player,\n",
    "              pRED  = FloatSliderWidget(min = 0, max = N-1, step = 1, value = p1_best),\n",
    "              pBLUE = FloatSliderWidget(min = 0, max = N-1, step = 1, value = p2_best),\n",
    "              N = fixed(N))\n",
    "display(w)"
   ]
  },
  {
   "cell_type": "markdown",
   "metadata": {},
   "source": [
    "# 3 players"
   ]
  },
  {
   "cell_type": "code",
   "execution_count": 78,
   "metadata": {
    "collapsed": false
   },
   "outputs": [
    {
     "name": "stdout",
     "output_type": "stream",
     "text": [
      "P1 choice:  37  wins:  25.0\n",
      "P2 choice:  12.0  wins:  13.0\n",
      "P3 choice:  11.0  wins:  12.0\n"
     ]
    }
   ],
   "source": [
    "N = 50\n",
    "P = 3\n",
    "W = np.zeros([N,N,N,P])\n",
    "for n1 in range(N):\n",
    "    for n2 in range(N):\n",
    "        for n3 in range(N):\n",
    "            W[n1,n2,n3,0] = nWin(n1,[n2,n3],N)\n",
    "            W[n1,n2,n3,1] = nWin(n2,[n1,n3],N)\n",
    "            W[n1,n2,n3,2] = nWin(n3,[n1,n2],N)\n",
    "\n",
    "# Calculate the best choices for P2,3 for every possible choice by P1\n",
    "p2bestN_1 = np.zeros(N)\n",
    "p3bestN_1 = np.zeros(N)\n",
    "p1bestW = np.zeros(N)\n",
    "p2bestW = np.zeros(N)\n",
    "p3bestW = np.zeros(N)\n",
    "for n1 in range(N):\n",
    "    # Calculate the best possible P2W for every n2\n",
    "    p2_bestres_eachn = np.zeros(N)\n",
    "    for n2 in range(N):\n",
    "        c_bestp3 = np.argmax(np.squeeze(W[n1,n2,:,2]))\n",
    "        p2_bestres_eachn[n2] = W[n1,n2,c_bestp3,1]\n",
    "        \n",
    "    # Choose best P2N, followed by P3N\n",
    "    p2bestN_1[n1] = np.argmax(p2_bestres_eachn)\n",
    "    p3bestN_1[n1] = np.argmax(np.squeeze(W[n1,p2bestN_1[n1],:,2]))\n",
    "    \n",
    "    # Calculate winnings for all players\n",
    "    p1bestW[n1] = W[n1,p2bestN_1[n1],p3bestN_1[n1],0]\n",
    "    p2bestW[n1] = W[n1,p2bestN_1[n1],p3bestN_1[n1],1]\n",
    "    p3bestW[n1] = W[n1,p2bestN_1[n1],p3bestN_1[n1],2]\n",
    "\n",
    "\n",
    "# Calculate the best option for player 1 and results\n",
    "p1bestN = np.argmax(p1bestW)\n",
    "p2bestN = p2bestN_1[p1bestN]\n",
    "p3bestN = p3bestN_1[p1bestN]\n",
    "p1bestW = W[p1bestN,p2bestN,p3bestN,0]\n",
    "p2bestW = W[p1bestN,p2bestN,p3bestN,1]\n",
    "p3bestW = W[p1bestN,p2bestN,p3bestN,2]\n",
    "\n",
    "\n",
    "# Display optimal game\n",
    "print 'P1 choice: ' , p1bestN , ' wins: ' , p1bestW\n",
    "print 'P2 choice: ' , p2bestN , ' wins: ' , p2bestW\n",
    "print 'P3 choice: ' , p3bestN , ' wins: ' , p3bestW"
   ]
  },
  {
   "cell_type": "code",
   "execution_count": 79,
   "metadata": {
    "collapsed": false
   },
   "outputs": [
    {
     "data": {
      "image/png": "[encoded data removed]",
      "text/plain": [
       "<matplotlib.figure.Figure at 0x87d8ff0>"
      ]
     },
     "metadata": {},
     "output_type": "display_data"
    }
   ],
   "source": [
    "# Plot the numbers controlled by each player\n",
    "w=interactive(plot3player,\n",
    "              pRED  = FloatSliderWidget(min = 0, max = N-1, step = 1, value = p1bestN),\n",
    "              pBLUE = FloatSliderWidget(min = 0, max = N-1, step = 1, value = p2bestN),\n",
    "              pGREEN = FloatSliderWidget(min = 0, max = N-1, step = 1, value = p3bestN),\n",
    "              N = fixed(N))\n",
    "display(w)"
   ]
  },
  {
   "cell_type": "markdown",
   "metadata": {},
   "source": [
    "# 4 players"
   ]
  },
  {
   "cell_type": "code",
   "execution_count": null,
   "metadata": {
    "collapsed": false
   },
   "outputs": [],
   "source": [
    "N = 50\n",
    "P = 4\n",
    "W = np.zeros([N,N,N,N,P])\n",
    "for n1 in range(N):\n",
    "    for n2 in range(N):\n",
    "        for n3 in range(N):\n",
    "            for n4 in range(N):\n",
    "                W[n1,n2,n3,n4,0] = nWin(n1,[n2,n3,n4],N)\n",
    "                W[n1,n2,n3,n4,1] = nWin(n2,[n1,n3,n4],N)\n",
    "                W[n1,n2,n3,n4,2] = nWin(n3,[n1,n2,n4],N)\n",
    "                W[n1,n2,n3,n4,3] = nWin(n4,[n1,n2,n3],N)\n",
    "\n",
    "# Calculate the best choices for P2,3 for every possible choice by P1\n",
    "p2bestN_1 = np.zeros(N)\n",
    "p3bestN_1 = np.zeros([N,N])\n",
    "p4bestN_1 = np.zeros([N,N])\n",
    "p1bestW = np.zeros([N,N])\n",
    "p2bestW = np.zeros([N,N])\n",
    "p3bestW = np.zeros([N,N])\n",
    "p4bestW = np.zeros([N,N])\n",
    "\n",
    "p1_bestres = np.zeros(N)\n",
    "for n1 in range(N):\n",
    "    p2_bestres = np.zeros(N)\n",
    "    for n2 in range(N):\n",
    "        # Calculate the best possible P3W for every n1,n2 and n3 choice\n",
    "        p3_bestres = np.zeros(N)\n",
    "        for n3 in range(N):\n",
    "            p4_bestres = np.argmax(np.squeeze(W[n1,n2,n3,:,3]))\n",
    "            p3_bestres[n3] = W[n1,n2,n3,p4_bestres,2]\n",
    "        \n",
    "        # Choose best P2N, followed by P3N\n",
    "        # Now know what p3 and p4 would choose for every p1 and p2\n",
    "        p3bestN_1[n1,n2] = np.argmax(p3_bestres)\n",
    "        p4bestN_1[n1,n2] = np.argmax(np.squeeze(W[n1,n2,p3bestN_1[n1,n2],:,3]))\n",
    "        \n",
    "        # Calculate the optimal n2\n",
    "        p2_bestres[n2] = W[n1,n2,p3bestN_1[n1,n2],p4bestN_1[n1,n2],1]\n",
    "    \n",
    "    p2bestN_1[n1] = np.argmax(p2_bestres)\n",
    "    p1_bestres[n1] = W[n1,p2bestN_1[n1],p3bestN_1[n1,p2bestN_1[n1]],p4bestN_1[n1,p2bestN_1[n1]],0]\n",
    "\n",
    "# Calculate the best option for player 1 and results\n",
    "p1bestN = np.argmax(p1_bestres)\n",
    "p2bestN = p2bestN_1[p1bestN]\n",
    "p3bestN = p3bestN_1[p1bestN,p2bestN]\n",
    "p4bestN = p4bestN_1[p1bestN,p2bestN]\n",
    "p1bestW = W[p1bestN,p2bestN,p3bestN,p4bestN,0]\n",
    "p2bestW = W[p1bestN,p2bestN,p3bestN,p4bestN,1]\n",
    "p3bestW = W[p1bestN,p2bestN,p3bestN,p4bestN,2]\n",
    "p4bestW = W[p1bestN,p2bestN,p3bestN,p4bestN,3]\n",
    "\n",
    "# Display optimal game\n",
    "print 'P1 choice: ' , p1bestN , ' wins: ' , p1bestW\n",
    "print 'P2 choice: ' , p2bestN , ' wins: ' , p2bestW\n",
    "print 'P3 choice: ' , p3bestN , ' wins: ' , p3bestW\n",
    "print 'P4 choice: ' , p4bestN , ' wins: ' , p4bestW"
   ]
  },
  {
   "cell_type": "code",
   "execution_count": 77,
   "metadata": {
    "collapsed": false
   },
   "outputs": [
    {
     "data": {
      "image/png": "[encoded data removed]",
      "text/plain": [
       "<matplotlib.figure.Figure at 0x8ca31b0>"
      ]
     },
     "metadata": {},
     "output_type": "display_data"
    }
   ],
   "source": [
    "w=interactive(plot4player,\n",
    "              pRED  = FloatSliderWidget(min = 0, max = N-1, step = 1, value = p1bestN),\n",
    "              pBLUE = FloatSliderWidget(min = 0, max = N-1, step = 1, value = p2bestN),\n",
    "              pGREEN = FloatSliderWidget(min = 0, max = N-1, step = 1, value = p3bestN),\n",
    "              pYELLOW = FloatSliderWidget(min = 0, max = N-1, step = 1, value = p4bestN),\n",
    "              N = fixed(N))\n",
    "display(w)"
   ]
  }
 ],
 "metadata": {
  "kernelspec": {
   "display_name": "Python 2",
   "language": "python",
   "name": "python2"
  },
  "language_info": {
   "codemirror_mode": {
    "name": "ipython",
    "version": 2
   },
   "file_extension": ".py",
   "mimetype": "text/x-python",
   "name": "python",
   "nbconvert_exporter": "python",
   "pygments_lexer": "ipython2",
   "version": "2.7.6"
  }
 },
 "nbformat": 4,
 "nbformat_minor": 0
}
