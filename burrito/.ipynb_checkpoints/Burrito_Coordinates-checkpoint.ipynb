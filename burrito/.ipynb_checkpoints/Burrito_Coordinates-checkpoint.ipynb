{
 "cells": [
  {
   "cell_type": "markdown",
   "metadata": {},
   "source": [
    "# San Diego Burrito Analytics: California burritos\n",
    "\n",
    "Scott Cole\n",
    "\n",
    "27 August 2016\n",
    "\n",
    "* This notebook formats the burrito data set in order to analyze California burritos\n",
    "* The data set is format so that it can be read into Tableau to make a visualization\n",
    "\n",
    "* Analyze the different kinds of California burritos served at the different locations (with guac?)"
   ]
  },
  {
   "cell_type": "markdown",
   "metadata": {},
   "source": [
    "### Default imports"
   ]
  },
  {
   "cell_type": "code",
   "execution_count": 1,
   "metadata": {
    "collapsed": false
   },
   "outputs": [],
   "source": [
    "%config InlineBackend.figure_format = 'retina'\n",
    "%matplotlib inline\n",
    "\n",
    "import numpy as np\n",
    "import scipy as sp\n",
    "import matplotlib.pyplot as plt\n",
    "import pandas as pd\n",
    "\n",
    "import seaborn as sns\n",
    "sns.set_style(\"white\")"
   ]
  },
  {
   "cell_type": "markdown",
   "metadata": {},
   "source": [
    "### Load data"
   ]
  },
  {
   "cell_type": "code",
   "execution_count": 2,
   "metadata": {
    "collapsed": false
   },
   "outputs": [],
   "source": [
    "import util2\n",
    "df, dfRestaurants, dfIngredients = util2.load_burritos()\n",
    "N = df.shape[0]"
   ]
  },
  {
   "cell_type": "markdown",
   "metadata": {},
   "source": [
    "### Limit data to California burritos"
   ]
  },
  {
   "cell_type": "code",
   "execution_count": 3,
   "metadata": {
    "collapsed": false
   },
   "outputs": [],
   "source": [
    "dfCali = df.loc[df.Burrito.str.contains('.*[Cc]ali.*')]\n",
    "dfCaliIngredients = dfIngredients.loc[df.Burrito.str.contains('.*[Cc]ali.*')][['Beef','Pico','Guac','Cheese','Fries','Sour cream','Chicken']]\n",
    "dfRestaurants=dfRestaurants.reset_index().drop('index',axis=1)\n",
    "dfCaliRestaurants = dfRestaurants.loc[[i for i,x in enumerate(dfRestaurants.Location) if x in dfCali.Location.unique()]]"
   ]
  },
  {
   "cell_type": "markdown",
   "metadata": {},
   "source": [
    "### Process Cali burrito data: Averages for each restaurant"
   ]
  },
  {
   "cell_type": "code",
   "execution_count": 4,
   "metadata": {
    "collapsed": false
   },
   "outputs": [],
   "source": [
    "dfCaliAvg = dfCali.groupby('Location').agg({'Cost': np.mean,'Volume': np.mean,'Hunger': np.mean,\n",
    "                                'Tortilla': np.mean,'Temp': np.mean,'Meat': np.mean,\n",
    "                                'Fillings': np.mean,'Meat:filling': np.mean,'Uniformity': np.mean,\n",
    "                                'Salsa': np.mean,'Synergy': np.mean,'Wrap': np.mean,\n",
    "                                'overall': np.mean, 'Location':np.size})\n",
    "dfCaliAvg.rename(columns={'Location': 'N'}, inplace=True)\n",
    "dfCaliAvg['Location'] = list(dfCaliAvg.index)"
   ]
  },
  {
   "cell_type": "code",
   "execution_count": 5,
   "metadata": {
    "collapsed": false
   },
   "outputs": [
    {
     "name": "stdout",
     "output_type": "stream",
     "text": [
      "try again: 377 Carlsbad Village Dr, San Diego, CA\n",
      "try again: 377 Carlsbad Village Dr, San Diego, CA\n",
      "try again: 377 Carlsbad Village Dr, San Diego, CA\n",
      "try again: 820 Birmingham Dr, San Diego, CA\n",
      "try again: 820 Birmingham Dr, San Diego, CA\n"
     ]
    }
   ],
   "source": [
    "# Calculate latitutude and longitude for each city\n",
    "import geocoder\n",
    "addresses = dfCaliRestaurants['Address'] + ', San Diego, CA'\n",
    "lats = np.zeros(len(addresses))\n",
    "longs = np.zeros(len(addresses))\n",
    "for i, address in enumerate(addresses):\n",
    "    g = geocoder.google(address)\n",
    "    Ntries = 1\n",
    "    while g.latlng ==[]:\n",
    "        g = geocoder.google(address)\n",
    "        Ntries +=1\n",
    "        print 'try again: ' + address\n",
    "        if Ntries >= 5:\n",
    "            raise ValueError('Address not found: ' + address)\n",
    "    lats[i], longs[i] = g.latlng\n",
    "    \n",
    "# # Check for nonsense lats and longs\n",
    "if sum(np.logical_or(lats>34,lats<32)):\n",
    "    raise ValueError('Address not in san diego')\n",
    "if sum(np.logical_or(longs<-118,longs>-117)):\n",
    "    raise ValueError('Address not in san diego')"
   ]
  },
  {
   "cell_type": "code",
   "execution_count": 6,
   "metadata": {
    "collapsed": false
   },
   "outputs": [],
   "source": [
    "# Incorporate lats and longs into restaurants data\n",
    "dfCaliRestaurants['Latitude'] = lats\n",
    "dfCaliRestaurants['Longitude'] = longs\n",
    "# Merge restaurant data with burrito data\n",
    "dfCaliTableau = pd.merge(dfCaliRestaurants,dfCaliAvg,on='Location')"
   ]
  },
  {
   "cell_type": "code",
   "execution_count": 7,
   "metadata": {
    "collapsed": false
   },
   "outputs": [],
   "source": [
    "dfCaliTableau.to_csv('cali_now.csv')"
   ]
  }
 ],
 "metadata": {
  "kernelspec": {
   "display_name": "Python 2",
   "language": "python",
   "name": "python2"
  },
  "language_info": {
   "codemirror_mode": {
    "name": "ipython",
    "version": 2
   },
   "file_extension": ".py",
   "mimetype": "text/x-python",
   "name": "python",
   "nbconvert_exporter": "python",
   "pygments_lexer": "ipython2",
   "version": "2.7.11"
  }
 },
 "nbformat": 4,
 "nbformat_minor": 0
}
