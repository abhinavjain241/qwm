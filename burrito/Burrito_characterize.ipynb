{
 "cells": [
  {
   "cell_type": "markdown",
   "metadata": {},
   "source": [
    "# San Diego Burrito Analytics: Data characterization\n",
    "\n",
    "Scott Cole\n",
    "\n",
    "21 May 2016\n",
    "\n",
    "This notebook characterizes the collection of reviewers of San Diego burritos including:\n",
    "\n",
    "1. Metadata\n",
    "2. How many of each kind of burrito have been reviewed?\n",
    "3. For each of burrito dimension, what is the distribution of its scores across all samples?"
   ]
  },
  {
   "cell_type": "markdown",
   "metadata": {},
   "source": [
    "### Default imports"
   ]
  },
  {
   "cell_type": "code",
   "execution_count": 1,
   "metadata": {
    "collapsed": false
   },
   "outputs": [],
   "source": [
    "%config InlineBackend.figure_format = 'retina'\n",
    "%matplotlib inline\n",
    "\n",
    "import numpy as np\n",
    "import scipy as sp\n",
    "import matplotlib.pyplot as plt\n",
    "import pandas as pd\n",
    "\n",
    "import seaborn as sns\n",
    "sns.set_style(\"white\")"
   ]
  },
  {
   "cell_type": "markdown",
   "metadata": {},
   "source": [
    "### Load data"
   ]
  },
  {
   "cell_type": "code",
   "execution_count": 2,
   "metadata": {
    "collapsed": false
   },
   "outputs": [
    {
     "ename": "ModuleNotFoundError",
     "evalue": "No module named 'StringIO'",
     "output_type": "error",
     "traceback": [
      "\u001b[0;31m---------------------------------------------------------------------------\u001b[0m",
      "\u001b[0;31mModuleNotFoundError\u001b[0m                       Traceback (most recent call last)",
      "\u001b[0;32m<ipython-input-2-c82384fc81f4>\u001b[0m in \u001b[0;36m<module>\u001b[0;34m()\u001b[0m\n\u001b[1;32m      1\u001b[0m \u001b[0;32mimport\u001b[0m \u001b[0mutil\u001b[0m\u001b[0;34m\u001b[0m\u001b[0m\n\u001b[0;32m----> 2\u001b[0;31m \u001b[0mdf\u001b[0m \u001b[0;34m=\u001b[0m \u001b[0mutil\u001b[0m\u001b[0;34m.\u001b[0m\u001b[0mload_burritos\u001b[0m\u001b[0;34m(\u001b[0m\u001b[0;34m)\u001b[0m\u001b[0;34m\u001b[0m\u001b[0m\n\u001b[0m\u001b[1;32m      3\u001b[0m \u001b[0mN\u001b[0m \u001b[0;34m=\u001b[0m \u001b[0mdf\u001b[0m\u001b[0;34m.\u001b[0m\u001b[0mshape\u001b[0m\u001b[0;34m[\u001b[0m\u001b[0;36m0\u001b[0m\u001b[0;34m]\u001b[0m\u001b[0;34m\u001b[0m\u001b[0m\n",
      "\u001b[0;32m/gh/qwm/burrito/util.py\u001b[0m in \u001b[0;36mload_burritos\u001b[0;34m(filename, delete_unreliable, delete_nonSD, use_Google_Sheets)\u001b[0m\n\u001b[1;32m     12\u001b[0m     \u001b[0;31m# Load all data\u001b[0m\u001b[0;34m\u001b[0m\u001b[0;34m\u001b[0m\u001b[0m\n\u001b[1;32m     13\u001b[0m     \u001b[0;32mif\u001b[0m \u001b[0muse_Google_Sheets\u001b[0m\u001b[0;34m:\u001b[0m\u001b[0;34m\u001b[0m\u001b[0m\n\u001b[0;32m---> 14\u001b[0;31m         \u001b[0;32mfrom\u001b[0m \u001b[0mStringIO\u001b[0m \u001b[0;32mimport\u001b[0m \u001b[0mStringIO\u001b[0m  \u001b[0;31m# got moved to io in python3.\u001b[0m\u001b[0;34m\u001b[0m\u001b[0m\n\u001b[0m\u001b[1;32m     15\u001b[0m         \u001b[0;32mimport\u001b[0m \u001b[0mrequests\u001b[0m\u001b[0;34m\u001b[0m\u001b[0m\n\u001b[1;32m     16\u001b[0m         \u001b[0mr\u001b[0m \u001b[0;34m=\u001b[0m \u001b[0mrequests\u001b[0m\u001b[0;34m.\u001b[0m\u001b[0mget\u001b[0m\u001b[0;34m(\u001b[0m\u001b[0;34m'https://docs.google.com/spreadsheet/ccc?key=18HkrklYz1bKpDLeL-kaMrGjAhUM6LeJMIACwEljCgaw&output=csv'\u001b[0m\u001b[0;34m)\u001b[0m\u001b[0;34m\u001b[0m\u001b[0m\n",
      "\u001b[0;31mModuleNotFoundError\u001b[0m: No module named 'StringIO'"
     ]
    }
   ],
   "source": [
    "import util\n",
    "df = util.load_burritos()\n",
    "N = df.shape[0]"
   ]
  },
  {
   "cell_type": "markdown",
   "metadata": {},
   "source": [
    "### Brief metadata"
   ]
  },
  {
   "cell_type": "code",
   "execution_count": null,
   "metadata": {
    "collapsed": false
   },
   "outputs": [],
   "source": [
    "print 'Number of burritos:', df.shape[0]\n",
    "print 'Number of restaurants:', len(df.Location.unique())\n",
    "print 'Number of reviewers:', len(df.Reviewer.unique())\n",
    "print 'Number of reviews by Scott:', df.Reviewer.value_counts()['Scott']\n",
    "print 'Number of reviews by Emily:', df.Reviewer.value_counts()['Emily']\n",
    "\n",
    "uniqlocidx = df.Location.drop_duplicates().index\n",
    "print 'Percentage of taco shops with free chips:', np.round(100 - 100*df.Chips[uniqlocidx].isnull().sum()/np.float(len(df.Location.unique())),1)"
   ]
  },
  {
   "cell_type": "code",
   "execution_count": null,
   "metadata": {
    "collapsed": false
   },
   "outputs": [],
   "source": [
    "df.Location.unique()"
   ]
  },
  {
   "cell_type": "code",
   "execution_count": null,
   "metadata": {
    "collapsed": false,
    "scrolled": false
   },
   "outputs": [],
   "source": [
    "# Count of how many burritos each person has eaten\n",
    "df['Reviewer'].value_counts()"
   ]
  },
  {
   "cell_type": "markdown",
   "metadata": {},
   "source": [
    "### What types of burritos have been rated?"
   ]
  },
  {
   "cell_type": "code",
   "execution_count": null,
   "metadata": {
    "collapsed": false
   },
   "outputs": [],
   "source": [
    "# Number of each type of burrito\n",
    "def burritotypes(x, types = {'California':'cali', 'Carnitas':'carnita', 'Carne asada':'carne asada',\n",
    "                             'Chicken':'chicken', 'Surf & Turf':'surf.*turf', 'Adobada':'adobad', 'Al Pastor':'pastor'}):\n",
    "    import re\n",
    "    T = len(types)\n",
    "    Nmatches = {}\n",
    "    for b in x:\n",
    "        matched = False\n",
    "        for t in types.keys():\n",
    "            re4str = re.compile('.*'+types[t]+'.*', re.IGNORECASE)\n",
    "            if np.logical_and(re4str.match(b) is not None, matched is False):\n",
    "                try:\n",
    "                    Nmatches[t] +=1\n",
    "                except KeyError:\n",
    "                    Nmatches[t] = 1\n",
    "                matched = True\n",
    "        if matched is False:\n",
    "            try:\n",
    "                Nmatches['other'] +=1\n",
    "            except KeyError:\n",
    "                Nmatches['other'] = 1\n",
    "    return Nmatches\n",
    "\n",
    "typecounts = burritotypes(df.Burrito)\n",
    "\n",
    "plt.figure(figsize=(6,6))\n",
    "ax = plt.axes([0.1, 0.1, 0.65, 0.65])\n",
    "\n",
    "# The slices will be ordered and plotted counter-clockwise.\n",
    "labels = typecounts.keys()\n",
    "fracs = typecounts.values()\n",
    "explode=[.1]*len(typecounts)\n",
    "\n",
    "patches, texts, autotexts = plt.pie(fracs, explode=explode, labels=labels,\n",
    "                autopct=lambda(p): '{:.0f}'.format(p * np.sum(fracs) / 100), shadow=False, startangle=0)\n",
    "                # The default startangle is 0, which would start\n",
    "                # the Frogs slice on the x-axis.  With startangle=90,\n",
    "                # everything is rotated counter-clockwise by 90 degrees,\n",
    "                # so the plotting starts on the positive y-axis.\n",
    "\n",
    "plt.title('Types of burritos',size=30)\n",
    "for t in texts:\n",
    "    t.set_size(20)\n",
    "for t in autotexts:\n",
    "    t.set_size(20)\n",
    "autotexts[0].set_color('w')\n",
    "autotexts[6].set_color('w')\n",
    "\n",
    "figname = 'burritotypes'\n",
    "plt.savefig('C:/gh/fig/burrito/'+figname + '.png')"
   ]
  },
  {
   "cell_type": "markdown",
   "metadata": {},
   "source": [
    "### Progress in number of burritos rated"
   ]
  },
  {
   "cell_type": "code",
   "execution_count": null,
   "metadata": {
    "collapsed": false
   },
   "outputs": [],
   "source": [
    "# Time series of ratings\n",
    "import math\n",
    "\n",
    "def dates2ts(dates):\n",
    "    from datetime import datetime\n",
    "    \n",
    "    D = len(dates)\n",
    "    start = datetime.strptime('1/1/2016','%m/%d/%Y')\n",
    "    ts = np.zeros(D,dtype=int)\n",
    "    for d in range(D):\n",
    "        burrdate = datetime.strptime(df.Date[d],'%m/%d/%Y')\n",
    "        diff = burrdate - start\n",
    "        ts[d] = diff.days\n",
    "    return ts\n",
    "\n",
    "def cumburritos(days):\n",
    "    from statsmodels.distributions.empirical_distribution import ECDF\n",
    "    ecdf = ECDF(days)\n",
    "    t = np.arange(days[-1]+1)\n",
    "    return t, ecdf(t)*len(days)\n",
    "\n",
    "def datelabels(startdate = '1/1/2016', M = 12):\n",
    "    from datetime import datetime\n",
    "    start = datetime.strptime(startdate,'%m/%d/%Y')\n",
    "    datestrs = []\n",
    "    ts = np.zeros(M)\n",
    "    for m in range(M):\n",
    "        datestrs.append(str(m+1) + '/1')\n",
    "        burrdate = datetime.strptime(datestrs[m]+'/2016','%m/%d/%Y')\n",
    "        diff = burrdate - start\n",
    "        ts[m] = diff.days\n",
    "    return datestrs, ts\n",
    "\n",
    "burrdays = dates2ts(df.Date)\n",
    "t, burrcdf = cumburritos(burrdays)\n",
    "datestrs, datets = datelabels()\n",
    "\n",
    "plt.figure(figsize=(3.5,3.5))\n",
    "plt.plot(t,burrcdf,'k-')\n",
    "plt.xlabel('Date (2016)',size=20)\n",
    "plt.ylabel('# burritos rated',size=15)\n",
    "plt.xticks(datets,datestrs,size=10, rotation='vertical')\n",
    "plt.yticks(size=10)\n",
    "plt.tight_layout()\n",
    "\n",
    "figname = 'burritoprogress'\n",
    "plt.savefig('C:/Users/Scott/Google Drive/qwm/burritos/figs/'+figname + '.png')"
   ]
  },
  {
   "cell_type": "markdown",
   "metadata": {},
   "source": [
    "# Burrito dimension distributions"
   ]
  },
  {
   "cell_type": "code",
   "execution_count": null,
   "metadata": {
    "collapsed": false
   },
   "outputs": [],
   "source": [
    "# Distribution of hunger level\n",
    "plt.figure(figsize=(4,4))\n",
    "n, _, _ = plt.hist(df.Hunger.dropna(),np.arange(-.25,5.5,.5),color='k')\n",
    "plt.xlabel('Hunger level',size=20)\n",
    "plt.xticks(np.arange(0,5.5,.5),size=10)\n",
    "plt.xlim((-.25,5.25))\n",
    "plt.ylabel('Count',size=20)\n",
    "plt.yticks((0,int(math.ceil(np.max(n) / 5.)) * 5),size=10)\n",
    "plt.tight_layout()\n",
    "\n",
    "figname = 'hungerleveldist'\n",
    "plt.savefig('C:/gh/fig/burrito/'+figname + '.png')"
   ]
  },
  {
   "cell_type": "code",
   "execution_count": null,
   "metadata": {
    "collapsed": false,
    "scrolled": false
   },
   "outputs": [],
   "source": [
    "# Average burrito cost\n",
    "plt.figure(figsize=(4,4))\n",
    "n, _, _ = plt.hist(df.Cost.dropna(),np.arange(4,10.25,.5),color='k')\n",
    "plt.xlabel('Cost ($)',size=20)\n",
    "plt.xticks(np.arange(4,11,1),size=15)\n",
    "plt.xlim((4,10))\n",
    "plt.ylabel('Count',size=20)\n",
    "plt.yticks((0,int(math.ceil(np.max(n) / 5.)) * 5),size=15)\n",
    "plt.tight_layout()\n",
    "\n",
    "figname = 'costdist'\n",
    "plt.savefig('C:/gh/fig/burrito/'+figname + '.png')\n",
    "\n",
    "print np.nanmean(df.Cost)"
   ]
  },
  {
   "cell_type": "code",
   "execution_count": null,
   "metadata": {
    "collapsed": false
   },
   "outputs": [],
   "source": [
    "# Volume dist\n",
    "plt.figure(figsize=(5,5))\n",
    "n, _, _ = plt.hist(df.Volume.dropna(),np.arange(0.5,1.3,.05),color='k')\n",
    "plt.xlabel('Volume (L)',size=20)\n",
    "plt.xticks(np.arange(0.5,1.3,.1),size=15)\n",
    "plt.xlim((0.5,1.2))\n",
    "plt.ylabel('Count',size=20)\n",
    "plt.yticks((0,int(math.ceil(np.max(n) / 5.)) * 5),size=15)\n",
    "plt.tight_layout()\n",
    "\n",
    "figname = 'volumedist'\n",
    "plt.savefig('C:/gh/fig/burrito/'+figname + '.png')\n",
    "\n",
    "print np.mean(df.Volume)"
   ]
  },
  {
   "cell_type": "code",
   "execution_count": null,
   "metadata": {
    "collapsed": true
   },
   "outputs": [],
   "source": [
    "def metrichist(metricname):\n",
    "    plt.figure(figsize=(5,5))\n",
    "    n, _, _ = plt.hist(df[metricname].dropna(),np.arange(-.25,5.5,.5),color='k')\n",
    "    plt.xlabel(metricname + ' rating',size=20)\n",
    "    plt.xticks(np.arange(0,5.5,.5),size=15)\n",
    "    plt.xlim((-.25,5.25))\n",
    "    plt.ylabel('Count',size=20)\n",
    "    plt.yticks((0,int(math.ceil(np.max(n) / 5.)) * 5),size=15)\n",
    "    plt.tight_layout()\n",
    "    \n",
    "    if metricname == 'Meat:filling':\n",
    "        metricname = 'meattofilling'\n",
    "    figname = metricname + 'dist'\n",
    "    plt.savefig('C:/gh/fig/burrito/'+figname + '.png')"
   ]
  },
  {
   "cell_type": "code",
   "execution_count": null,
   "metadata": {
    "collapsed": false
   },
   "outputs": [],
   "source": [
    "m_Hist = ['Tortilla','Temp','Meat','Fillings','Meat:filling','Uniformity','Salsa','Synergy','Wrap','overall']\n",
    "for m in m_Hist:\n",
    "    metrichist(m)"
   ]
  },
  {
   "cell_type": "markdown",
   "metadata": {},
   "source": [
    "# Fraction of burritos recommended"
   ]
  },
  {
   "cell_type": "code",
   "execution_count": null,
   "metadata": {
    "collapsed": false
   },
   "outputs": [],
   "source": [
    "# Overall recommendations\n",
    "plt.figure(figsize=(6,6))\n",
    "ax = plt.axes([0.1, 0.1, 0.8, 0.8])\n",
    "\n",
    "# The slices will be ordered and plotted counter-clockwise.\n",
    "labels = ['Yes','No']\n",
    "fracs = np.array([np.sum(df.Rec==labels[0]),np.sum(df.Rec==labels[1])])\n",
    "explode=[.01]*len(labels)\n",
    "\n",
    "patches, texts, autotexts = plt.pie(fracs, explode=explode, labels=labels,\n",
    "                autopct=lambda(p): '{:.0f}'.format(p * np.sum(fracs) / 100), shadow=False, startangle=90)\n",
    "                # The default startangle is 0, which would start\n",
    "                # the Frogs slice on the x-axis.  With startangle=90,\n",
    "                # everything is rotated counter-clockwise by 90 degrees,\n",
    "                # so the plotting starts on the positive y-axis.\n",
    "\n",
    "plt.title('Would you recommend this burrito?',size=30)\n",
    "for t in texts:\n",
    "    t.set_size(20)\n",
    "for t in autotexts:\n",
    "    t.set_size(30)\n",
    "autotexts[0].set_color('w')\n",
    "autotexts[1].set_color('w')\n",
    "\n",
    "figname = 'recspie'\n",
    "plt.savefig('C:/gh/fig/burrito/'+figname + '.png')"
   ]
  },
  {
   "cell_type": "markdown",
   "metadata": {},
   "source": [
    "# PCA"
   ]
  },
  {
   "cell_type": "code",
   "execution_count": null,
   "metadata": {
    "collapsed": false
   },
   "outputs": [],
   "source": [
    "dfpca = df[['Volume','Tortilla','Temp','Meat','Fillings','Meat:filling','Uniformity','Salsa','Synergy','Wrap']]"
   ]
  },
  {
   "cell_type": "code",
   "execution_count": null,
   "metadata": {
    "collapsed": false
   },
   "outputs": [],
   "source": [
    "dfpca = dfpca.fillna(dfpca.mean())"
   ]
  },
  {
   "cell_type": "code",
   "execution_count": null,
   "metadata": {
    "collapsed": false,
    "scrolled": true
   },
   "outputs": [],
   "source": [
    "# Normalize\n",
    "dfpca = (dfpca - dfpca.mean()) / dfpca.std()\n",
    "dfpca"
   ]
  },
  {
   "cell_type": "code",
   "execution_count": null,
   "metadata": {
    "collapsed": true
   },
   "outputs": [],
   "source": [
    "# Color: Taco Stand, Lucha, Los Primos"
   ]
  },
  {
   "cell_type": "code",
   "execution_count": null,
   "metadata": {
    "collapsed": false
   },
   "outputs": [],
   "source": [
    "from sklearn.decomposition import PCA\n",
    "pca = PCA(n_components=2)\n",
    "pca.fit(dfpca)\n",
    "print pca.components_\n",
    "print pca.explained_variance_ratio_"
   ]
  },
  {
   "cell_type": "code",
   "execution_count": null,
   "metadata": {
    "collapsed": false
   },
   "outputs": [],
   "source": [
    "np.sum(pca.components_,1)"
   ]
  },
  {
   "cell_type": "code",
   "execution_count": null,
   "metadata": {
    "collapsed": false
   },
   "outputs": [],
   "source": [
    "dfpca_proj = np.dot(pca.components_,dfpca.T)"
   ]
  },
  {
   "cell_type": "code",
   "execution_count": null,
   "metadata": {
    "collapsed": false
   },
   "outputs": [],
   "source": [
    "np.sum(df.Location=='taco stand')"
   ]
  },
  {
   "cell_type": "code",
   "execution_count": null,
   "metadata": {
    "collapsed": false
   },
   "outputs": [],
   "source": [
    "foo = 'abc'\n",
    "bar = 'ba'\n",
    "zoo = '123'\n",
    "foo == 'abc' and bar == 'bac' or zoo == '123'"
   ]
  },
  {
   "cell_type": "code",
   "execution_count": null,
   "metadata": {
    "collapsed": false
   },
   "outputs": [],
   "source": [
    "dfpca_proj[0][np.where(df.Location=='taco stand')]"
   ]
  },
  {
   "cell_type": "code",
   "execution_count": null,
   "metadata": {
    "collapsed": false
   },
   "outputs": [],
   "source": [
    "plt.plot(dfpca_proj[0],dfpca_proj[1],'k.')"
   ]
  },
  {
   "cell_type": "code",
   "execution_count": null,
   "metadata": {
    "collapsed": false
   },
   "outputs": [],
   "source": [
    "plt.figure(figsize=(8,8))\n",
    "shops = ['taco stand','lucha libre north park','los primos mexican food']\n",
    "shops_marker = ['*','^','s']\n",
    "shops_ms = [20,12,12]\n",
    "overallcutoffs = [-.1, 3, 4, 5.1]\n",
    "overallcolors = ['r','k','g']\n",
    "\n",
    "\n",
    "for o in range(len(overallcolors)):\n",
    "    notshops = np.logical_and(df.Location != shops[0],np.logical_and(df.Location != shops[1],df.Location != shops[2]))\n",
    "    orange = np.logical_and(df.overall>=overallcutoffs[o],df.overall<overallcutoffs[o+1])\n",
    "    notshops = np.where(np.logical_and(notshops,orange))\n",
    "    plt.plot(dfpca_proj[0][notshops],dfpca_proj[1][notshops],'.',color=overallcolors[o],alpha=.5,ms=20)\n",
    "    for s in range(len(shops)):\n",
    "        burridx = np.where(np.logical_and(df.Location==shops[s],np.logical_and(df.overall>=overallcutoffs[o],df.overall<overallcutoffs[o+1])))\n",
    "        plt.plot(dfpca_proj[0][burridx],dfpca_proj[1][burridx],\n",
    "                 shops_marker[s],color=overallcolors[o],ms=shops_ms[s],label = shops[s])\n",
    "plt.xlim((-8,4.5))\n",
    "plt.ylim((-3,4))\n",
    "plt.xlabel('PC 1',size=20)\n",
    "plt.ylabel('PC 2',size=20)\n",
    "plt.xticks([])\n",
    "plt.yticks([])\n",
    "plt.legend(loc='best')"
   ]
  },
  {
   "cell_type": "code",
   "execution_count": null,
   "metadata": {
    "collapsed": false
   },
   "outputs": [],
   "source": [
    "shopsalpha = [.2,.2,.2]\n",
    "shops = ['taco stand','lucha libre north park','los primos mexican food']\n",
    "overall_marker = ['v','.','*']\n",
    "overall_ms = [12,25,20]\n",
    "overallcutoffs = [-.1, 3, 4, 5.1]\n",
    "shopscolors = ['g','b','r']\n",
    "\n",
    "plt.figure(figsize=(8,8))\n",
    "for o in range(len(overallcolors)):\n",
    "    notshops = np.logical_and(df.Location != shops[0],np.logical_and(df.Location != shops[1],df.Location != shops[2]))\n",
    "    orange = np.logical_and(df.overall>=overallcutoffs[o],df.overall<overallcutoffs[o+1])\n",
    "    notshops = np.where(np.logical_and(notshops,orange))[0]\n",
    "    #plt.plot(df.Meat[notshops],df.Fillings[notshops],'.',color=overallcolors[o],alpha=.2,ms=20)\n",
    "    for s in range(len(shops)):\n",
    "        burridx = np.where(np.logical_and(df.Location==shops[s],np.logical_and(df.overall>=overallcutoffs[o],df.overall<overallcutoffs[o+1])))[0]\n",
    "        plt.plot(df.Meat[burridx],df.Salsa[burridx],\n",
    "                 overall_marker[o],color=shopscolors[s],ms=overall_ms[o],alpha=shopsalpha[s],label=shops[s])\n",
    "plt.xlim((0,5.5))\n",
    "plt.ylim((0,5.5))\n",
    "plt.xlabel('Meat flavor',size=20)\n",
    "plt.ylabel('Salsa flavor',size=20)\n",
    "plt.xticks(np.arange(1,6),size=20)\n",
    "plt.yticks(np.arange(1,6),size=20)\n",
    "plt.legend(loc='best',fontsize=12)\n",
    "\n",
    "plt.savefig('C:/gh/fig/burrito/superscatter.png')"
   ]
  },
  {
   "cell_type": "code",
   "execution_count": null,
   "metadata": {
    "collapsed": true
   },
   "outputs": [],
   "source": []
  }
 ],
 "metadata": {
  "anaconda-cloud": {},
  "kernelspec": {
   "display_name": "Python 3",
   "language": "python",
   "name": "python3"
  },
  "language_info": {
   "codemirror_mode": {
    "name": "ipython",
    "version": 3
   },
   "file_extension": ".py",
   "mimetype": "text/x-python",
   "name": "python",
   "nbconvert_exporter": "python",
   "pygments_lexer": "ipython3",
   "version": "3.6.0"
  }
 },
 "nbformat": 4,
 "nbformat_minor": 0
}
