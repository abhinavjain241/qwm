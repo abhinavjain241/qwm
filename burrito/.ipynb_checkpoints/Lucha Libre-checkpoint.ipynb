{
 "cells": [
  {
   "cell_type": "markdown",
   "metadata": {},
   "source": [
    "# San Diego Burrito Analytics: Rankings\n",
    "\n",
    "Scott Cole\n",
    "\n",
    "21 May 2016\n",
    "\n",
    "This notebook ranks each taco shop along each dimension"
   ]
  },
  {
   "cell_type": "markdown",
   "metadata": {},
   "source": [
    "### imports"
   ]
  },
  {
   "cell_type": "code",
   "execution_count": 1,
   "metadata": {
    "collapsed": false
   },
   "outputs": [],
   "source": [
    "%config InlineBackend.figure_format = 'retina'\n",
    "%matplotlib inline\n",
    "\n",
    "import numpy as np\n",
    "import scipy as sp\n",
    "import matplotlib.pyplot as plt\n",
    "import pandas as pd\n",
    "\n",
    "import seaborn as sns\n",
    "sns.set_style(\"white\")"
   ]
  },
  {
   "cell_type": "markdown",
   "metadata": {},
   "source": [
    "### Load data"
   ]
  },
  {
   "cell_type": "code",
   "execution_count": 2,
   "metadata": {
    "collapsed": true
   },
   "outputs": [],
   "source": [
    "import util\n",
    "df = util.load_burritos()\n",
    "N = df.shape[0]"
   ]
  },
  {
   "cell_type": "markdown",
   "metadata": {},
   "source": [
    "# Average each metric over each Location"
   ]
  },
  {
   "cell_type": "code",
   "execution_count": 3,
   "metadata": {
    "collapsed": true
   },
   "outputs": [],
   "source": [
    "m_Location = ['Location','N','Yelp','Google','Hunger','Cost','Volume','Tortilla','Temp','Meat','Fillings','Meat:filling',\n",
    "               'Uniformity','Salsa','Synergy','Wrap','overall']\n",
    "\n",
    "# Calculate the mean of each of the metrics above for each taco shop\n",
    "tacoshops = df.Location.unique()\n",
    "TS = len(tacoshops)\n",
    "dfmean = pd.DataFrame(np.nan, index=range(TS), columns=m_Location)\n",
    "for ts in range(TS):\n",
    "    dfmean.loc[ts] = df.loc[df.Location==tacoshops[ts]].mean()\n",
    "    dfmean['N'][ts] = sum(df.Location == tacoshops[ts])\n",
    "dfmean.Location = tacoshops"
   ]
  },
  {
   "cell_type": "code",
   "execution_count": 4,
   "metadata": {
    "collapsed": false
   },
   "outputs": [],
   "source": [
    "Ncutoff = 5\n",
    "dfToRank = dfmean.loc[dfmean.N>=Ncutoff]"
   ]
  },
  {
   "cell_type": "code",
   "execution_count": 5,
   "metadata": {
    "collapsed": false
   },
   "outputs": [
    {
     "data": {
      "text/html": [
       "<div>\n",
       "<table border=\"1\" class=\"dataframe\">\n",
       "  <thead>\n",
       "    <tr style=\"text-align: right;\">\n",
       "      <th></th>\n",
       "      <th>Location</th>\n",
       "      <th>N</th>\n",
       "      <th>Yelp</th>\n",
       "      <th>Google</th>\n",
       "      <th>Hunger</th>\n",
       "      <th>Cost</th>\n",
       "      <th>Volume</th>\n",
       "      <th>Tortilla</th>\n",
       "      <th>Temp</th>\n",
       "      <th>Meat</th>\n",
       "      <th>Fillings</th>\n",
       "      <th>Meat:filling</th>\n",
       "      <th>Uniformity</th>\n",
       "      <th>Salsa</th>\n",
       "      <th>Synergy</th>\n",
       "      <th>Wrap</th>\n",
       "      <th>overall</th>\n",
       "    </tr>\n",
       "  </thead>\n",
       "  <tbody>\n",
       "    <tr>\n",
       "      <th>4</th>\n",
       "      <td>los primos mexican food</td>\n",
       "      <td>8.0</td>\n",
       "      <td>3.000000</td>\n",
       "      <td>3.700000</td>\n",
       "      <td>3.500000</td>\n",
       "      <td>7.200000</td>\n",
       "      <td>0.822500</td>\n",
       "      <td>3.187500</td>\n",
       "      <td>3.625000</td>\n",
       "      <td>3.125000</td>\n",
       "      <td>3.250000</td>\n",
       "      <td>2.000000</td>\n",
       "      <td>2.428571</td>\n",
       "      <td>2.875000</td>\n",
       "      <td>2.562500</td>\n",
       "      <td>3.125000</td>\n",
       "      <td>2.750000</td>\n",
       "    </tr>\n",
       "    <tr>\n",
       "      <th>7</th>\n",
       "      <td>taco stand</td>\n",
       "      <td>16.0</td>\n",
       "      <td>4.500000</td>\n",
       "      <td>4.400000</td>\n",
       "      <td>3.125000</td>\n",
       "      <td>7.558750</td>\n",
       "      <td>0.787143</td>\n",
       "      <td>3.593750</td>\n",
       "      <td>2.968750</td>\n",
       "      <td>4.187500</td>\n",
       "      <td>3.875000</td>\n",
       "      <td>3.843750</td>\n",
       "      <td>3.781250</td>\n",
       "      <td>3.718750</td>\n",
       "      <td>4.125000</td>\n",
       "      <td>3.875000</td>\n",
       "      <td>4.018750</td>\n",
       "    </tr>\n",
       "    <tr>\n",
       "      <th>9</th>\n",
       "      <td>rigoberto's taco shop</td>\n",
       "      <td>13.0</td>\n",
       "      <td>3.769231</td>\n",
       "      <td>4.338462</td>\n",
       "      <td>3.538462</td>\n",
       "      <td>6.761538</td>\n",
       "      <td>0.890000</td>\n",
       "      <td>3.500000</td>\n",
       "      <td>3.807692</td>\n",
       "      <td>3.557692</td>\n",
       "      <td>3.500000</td>\n",
       "      <td>4.000000</td>\n",
       "      <td>3.653846</td>\n",
       "      <td>3.225000</td>\n",
       "      <td>3.818182</td>\n",
       "      <td>3.923077</td>\n",
       "      <td>3.650000</td>\n",
       "    </tr>\n",
       "    <tr>\n",
       "      <th>10</th>\n",
       "      <td>lolita's taco shop</td>\n",
       "      <td>12.0</td>\n",
       "      <td>4.000000</td>\n",
       "      <td>4.400000</td>\n",
       "      <td>3.141667</td>\n",
       "      <td>7.225000</td>\n",
       "      <td>0.747778</td>\n",
       "      <td>2.983333</td>\n",
       "      <td>3.275000</td>\n",
       "      <td>3.363636</td>\n",
       "      <td>3.641667</td>\n",
       "      <td>3.354545</td>\n",
       "      <td>2.991667</td>\n",
       "      <td>2.854167</td>\n",
       "      <td>3.437500</td>\n",
       "      <td>3.916667</td>\n",
       "      <td>3.283333</td>\n",
       "    </tr>\n",
       "    <tr>\n",
       "      <th>17</th>\n",
       "      <td>vallarta express</td>\n",
       "      <td>9.0</td>\n",
       "      <td>3.500000</td>\n",
       "      <td>4.000000</td>\n",
       "      <td>3.500000</td>\n",
       "      <td>6.933333</td>\n",
       "      <td>0.880000</td>\n",
       "      <td>2.916667</td>\n",
       "      <td>4.357143</td>\n",
       "      <td>3.277778</td>\n",
       "      <td>3.444444</td>\n",
       "      <td>3.611111</td>\n",
       "      <td>3.166667</td>\n",
       "      <td>3.500000</td>\n",
       "      <td>3.000000</td>\n",
       "      <td>3.611111</td>\n",
       "      <td>3.500000</td>\n",
       "    </tr>\n",
       "    <tr>\n",
       "      <th>22</th>\n",
       "      <td>california burritos</td>\n",
       "      <td>12.0</td>\n",
       "      <td>4.500000</td>\n",
       "      <td>4.400000</td>\n",
       "      <td>3.916667</td>\n",
       "      <td>6.187500</td>\n",
       "      <td>0.843750</td>\n",
       "      <td>4.108333</td>\n",
       "      <td>3.608333</td>\n",
       "      <td>4.166667</td>\n",
       "      <td>3.833333</td>\n",
       "      <td>4.125000</td>\n",
       "      <td>3.791667</td>\n",
       "      <td>3.681818</td>\n",
       "      <td>4.166667</td>\n",
       "      <td>4.458333</td>\n",
       "      <td>4.254167</td>\n",
       "    </tr>\n",
       "  </tbody>\n",
       "</table>\n",
       "</div>"
      ],
      "text/plain": [
       "                   Location     N      Yelp    Google    Hunger      Cost  \\\n",
       "4   los primos mexican food   8.0  3.000000  3.700000  3.500000  7.200000   \n",
       "7                taco stand  16.0  4.500000  4.400000  3.125000  7.558750   \n",
       "9     rigoberto's taco shop  13.0  3.769231  4.338462  3.538462  6.761538   \n",
       "10       lolita's taco shop  12.0  4.000000  4.400000  3.141667  7.225000   \n",
       "17         vallarta express   9.0  3.500000  4.000000  3.500000  6.933333   \n",
       "22      california burritos  12.0  4.500000  4.400000  3.916667  6.187500   \n",
       "\n",
       "      Volume  Tortilla      Temp      Meat  Fillings  Meat:filling  \\\n",
       "4   0.822500  3.187500  3.625000  3.125000  3.250000      2.000000   \n",
       "7   0.787143  3.593750  2.968750  4.187500  3.875000      3.843750   \n",
       "9   0.890000  3.500000  3.807692  3.557692  3.500000      4.000000   \n",
       "10  0.747778  2.983333  3.275000  3.363636  3.641667      3.354545   \n",
       "17  0.880000  2.916667  4.357143  3.277778  3.444444      3.611111   \n",
       "22  0.843750  4.108333  3.608333  4.166667  3.833333      4.125000   \n",
       "\n",
       "    Uniformity     Salsa   Synergy      Wrap   overall  \n",
       "4     2.428571  2.875000  2.562500  3.125000  2.750000  \n",
       "7     3.781250  3.718750  4.125000  3.875000  4.018750  \n",
       "9     3.653846  3.225000  3.818182  3.923077  3.650000  \n",
       "10    2.991667  2.854167  3.437500  3.916667  3.283333  \n",
       "17    3.166667  3.500000  3.000000  3.611111  3.500000  \n",
       "22    3.791667  3.681818  4.166667  4.458333  4.254167  "
      ]
     },
     "execution_count": 5,
     "metadata": {},
     "output_type": "execute_result"
    }
   ],
   "source": [
    "dfToRank"
   ]
  },
  {
   "cell_type": "code",
   "execution_count": 6,
   "metadata": {
    "collapsed": false
   },
   "outputs": [
    {
     "name": "stderr",
     "output_type": "stream",
     "text": [
      "C:\\Users\\Scott\\Anaconda2\\lib\\site-packages\\ipykernel\\__main__.py:7: SettingWithCopyWarning: \n",
      "A value is trying to be set on a copy of a slice from a DataFrame\n",
      "\n",
      "See the caveats in the documentation: http://pandas.pydata.org/pandas-docs/stable/indexing.html#indexing-view-versus-copy\n",
      "C:\\Users\\Scott\\Anaconda2\\lib\\site-packages\\ipykernel\\__main__.py:9: SettingWithCopyWarning: \n",
      "A value is trying to be set on a copy of a slice from a DataFrame\n",
      "\n",
      "See the caveats in the documentation: http://pandas.pydata.org/pandas-docs/stable/indexing.html#indexing-view-versus-copy\n"
     ]
    }
   ],
   "source": [
    "m_Rank = ['Location','Cost','Volume','Tortilla','Temp','Meat','Fillings','Meat:filling', 'Uniformity','Salsa','Synergy','Wrap','overall']\n",
    "TS = len(dfToRank)\n",
    "dfRanked = pd.DataFrame(np.nan, index=range(TS), columns=m_Rank)\n",
    "dfRanked.Location[:] = dfToRank.Location\n",
    "for m in m_Rank[1:]:\n",
    "    if m == 'Cost':\n",
    "        dfRanked[m][:] = dfToRank[m].rank(ascending=1)\n",
    "    else:\n",
    "        dfRanked[m][:] = dfToRank[m].rank(ascending=0)\n",
    "        "
   ]
  },
  {
   "cell_type": "code",
   "execution_count": 7,
   "metadata": {
    "collapsed": false
   },
   "outputs": [
    {
     "data": {
      "text/html": [
       "<div>\n",
       "<table border=\"1\" class=\"dataframe\">\n",
       "  <thead>\n",
       "    <tr style=\"text-align: right;\">\n",
       "      <th></th>\n",
       "      <th>Location</th>\n",
       "      <th>Cost</th>\n",
       "      <th>Volume</th>\n",
       "      <th>Tortilla</th>\n",
       "      <th>Temp</th>\n",
       "      <th>Meat</th>\n",
       "      <th>Fillings</th>\n",
       "      <th>Meat:filling</th>\n",
       "      <th>Uniformity</th>\n",
       "      <th>Salsa</th>\n",
       "      <th>Synergy</th>\n",
       "      <th>Wrap</th>\n",
       "      <th>overall</th>\n",
       "    </tr>\n",
       "  </thead>\n",
       "  <tbody>\n",
       "    <tr>\n",
       "      <th>0</th>\n",
       "      <td>los primos mexican food</td>\n",
       "      <td>4.0</td>\n",
       "      <td>4.0</td>\n",
       "      <td>4.0</td>\n",
       "      <td>3.0</td>\n",
       "      <td>6.0</td>\n",
       "      <td>6.0</td>\n",
       "      <td>6.0</td>\n",
       "      <td>6.0</td>\n",
       "      <td>5.0</td>\n",
       "      <td>6.0</td>\n",
       "      <td>6.0</td>\n",
       "      <td>6.0</td>\n",
       "    </tr>\n",
       "    <tr>\n",
       "      <th>1</th>\n",
       "      <td>taco stand</td>\n",
       "      <td>6.0</td>\n",
       "      <td>5.0</td>\n",
       "      <td>2.0</td>\n",
       "      <td>6.0</td>\n",
       "      <td>1.0</td>\n",
       "      <td>1.0</td>\n",
       "      <td>3.0</td>\n",
       "      <td>2.0</td>\n",
       "      <td>1.0</td>\n",
       "      <td>2.0</td>\n",
       "      <td>4.0</td>\n",
       "      <td>2.0</td>\n",
       "    </tr>\n",
       "    <tr>\n",
       "      <th>2</th>\n",
       "      <td>rigoberto's taco shop</td>\n",
       "      <td>2.0</td>\n",
       "      <td>1.0</td>\n",
       "      <td>3.0</td>\n",
       "      <td>2.0</td>\n",
       "      <td>3.0</td>\n",
       "      <td>4.0</td>\n",
       "      <td>2.0</td>\n",
       "      <td>3.0</td>\n",
       "      <td>4.0</td>\n",
       "      <td>3.0</td>\n",
       "      <td>2.0</td>\n",
       "      <td>3.0</td>\n",
       "    </tr>\n",
       "    <tr>\n",
       "      <th>3</th>\n",
       "      <td>lolita's taco shop</td>\n",
       "      <td>5.0</td>\n",
       "      <td>6.0</td>\n",
       "      <td>5.0</td>\n",
       "      <td>5.0</td>\n",
       "      <td>4.0</td>\n",
       "      <td>3.0</td>\n",
       "      <td>5.0</td>\n",
       "      <td>5.0</td>\n",
       "      <td>6.0</td>\n",
       "      <td>4.0</td>\n",
       "      <td>3.0</td>\n",
       "      <td>5.0</td>\n",
       "    </tr>\n",
       "    <tr>\n",
       "      <th>4</th>\n",
       "      <td>vallarta express</td>\n",
       "      <td>3.0</td>\n",
       "      <td>2.0</td>\n",
       "      <td>6.0</td>\n",
       "      <td>1.0</td>\n",
       "      <td>5.0</td>\n",
       "      <td>5.0</td>\n",
       "      <td>4.0</td>\n",
       "      <td>4.0</td>\n",
       "      <td>3.0</td>\n",
       "      <td>5.0</td>\n",
       "      <td>5.0</td>\n",
       "      <td>4.0</td>\n",
       "    </tr>\n",
       "    <tr>\n",
       "      <th>5</th>\n",
       "      <td>california burritos</td>\n",
       "      <td>1.0</td>\n",
       "      <td>3.0</td>\n",
       "      <td>1.0</td>\n",
       "      <td>4.0</td>\n",
       "      <td>2.0</td>\n",
       "      <td>2.0</td>\n",
       "      <td>1.0</td>\n",
       "      <td>1.0</td>\n",
       "      <td>2.0</td>\n",
       "      <td>1.0</td>\n",
       "      <td>1.0</td>\n",
       "      <td>1.0</td>\n",
       "    </tr>\n",
       "  </tbody>\n",
       "</table>\n",
       "</div>"
      ],
      "text/plain": [
       "                  Location  Cost  Volume  Tortilla  Temp  Meat  Fillings  \\\n",
       "0  los primos mexican food   4.0     4.0       4.0   3.0   6.0       6.0   \n",
       "1               taco stand   6.0     5.0       2.0   6.0   1.0       1.0   \n",
       "2    rigoberto's taco shop   2.0     1.0       3.0   2.0   3.0       4.0   \n",
       "3       lolita's taco shop   5.0     6.0       5.0   5.0   4.0       3.0   \n",
       "4         vallarta express   3.0     2.0       6.0   1.0   5.0       5.0   \n",
       "5      california burritos   1.0     3.0       1.0   4.0   2.0       2.0   \n",
       "\n",
       "   Meat:filling  Uniformity  Salsa  Synergy  Wrap  overall  \n",
       "0           6.0         6.0    5.0      6.0   6.0      6.0  \n",
       "1           3.0         2.0    1.0      2.0   4.0      2.0  \n",
       "2           2.0         3.0    4.0      3.0   2.0      3.0  \n",
       "3           5.0         5.0    6.0      4.0   3.0      5.0  \n",
       "4           4.0         4.0    3.0      5.0   5.0      4.0  \n",
       "5           1.0         1.0    2.0      1.0   1.0      1.0  "
      ]
     },
     "execution_count": 7,
     "metadata": {},
     "output_type": "execute_result"
    }
   ],
   "source": [
    "dfRanked"
   ]
  },
  {
   "cell_type": "markdown",
   "metadata": {},
   "source": [
    "# Best california"
   ]
  },
  {
   "cell_type": "code",
   "execution_count": 8,
   "metadata": {
    "collapsed": true
   },
   "outputs": [],
   "source": [
    "#TODO"
   ]
  }
 ],
 "metadata": {
  "kernelspec": {
   "display_name": "Python 2",
   "language": "python",
   "name": "python2"
  },
  "language_info": {
   "codemirror_mode": {
    "name": "ipython",
    "version": 2
   },
   "file_extension": ".py",
   "mimetype": "text/x-python",
   "name": "python",
   "nbconvert_exporter": "python",
   "pygments_lexer": "ipython2",
   "version": "2.7.11"
  }
 },
 "nbformat": 4,
 "nbformat_minor": 0
}
