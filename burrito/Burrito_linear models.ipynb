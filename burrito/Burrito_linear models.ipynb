{
 "cells": [
  {
   "cell_type": "markdown",
   "metadata": {},
   "source": [
    "# San Diego Burrito Analytics: Linear models\n",
    "\n",
    "Scott Cole\n",
    "\n",
    "21 May 2016\n",
    "\n",
    "This notebook attempts to predict the overall rating of a burrito as a linear combination of its dimensions. Interpretation of these models is complicated by the significant correlations between dimensions (such as meat quality and non-meat filling quality)."
   ]
  },
  {
   "cell_type": "markdown",
   "metadata": {},
   "source": [
    "### Imports"
   ]
  },
  {
   "cell_type": "code",
   "execution_count": 1,
   "metadata": {
    "collapsed": false
   },
   "outputs": [],
   "source": [
    "%config InlineBackend.figure_format = 'retina'\n",
    "%matplotlib inline\n",
    "\n",
    "import numpy as np\n",
    "import scipy as sp\n",
    "import matplotlib.pyplot as plt\n",
    "import pandas as pd\n",
    "import statsmodels.api as sm\n",
    "\n",
    "import seaborn as sns\n",
    "sns.set_style(\"white\")"
   ]
  },
  {
   "cell_type": "markdown",
   "metadata": {},
   "source": [
    "### Load data"
   ]
  },
  {
   "cell_type": "code",
   "execution_count": 2,
   "metadata": {
    "collapsed": false
   },
   "outputs": [],
   "source": [
    "import util\n",
    "df = util.load_burritos()\n",
    "N = df.shape[0]"
   ]
  },
  {
   "cell_type": "markdown",
   "metadata": {},
   "source": [
    "# Linear model 1: Predict overall rating from the individual dimensions"
   ]
  },
  {
   "cell_type": "code",
   "execution_count": 26,
   "metadata": {
    "collapsed": false,
    "scrolled": false
   },
   "outputs": [
    {
     "name": "stdout",
     "output_type": "stream",
     "text": [
      "                 Generalized Linear Model Regression Results                  \n",
      "==============================================================================\n",
      "Dep. Variable:                overall   No. Observations:                  263\n",
      "Model:                            GLM   Df Residuals:                      254\n",
      "Model Family:                Gaussian   Df Model:                            8\n",
      "Link Function:               identity   Scale:                  0.144242751889\n",
      "Method:                          IRLS   Log-Likelihood:                -113.98\n",
      "Date:                Sat, 08 Apr 2017   Deviance:                       36.638\n",
      "Time:                        18:16:06   Pearson chi2:                     36.6\n",
      "No. Iterations:                     4                                         \n",
      "================================================================================\n",
      "                   coef    std err          z      P>|z|      [95.0% Conf. Int.]\n",
      "--------------------------------------------------------------------------------\n",
      "const           -0.3267      0.178     -1.839      0.066        -0.675     0.021\n",
      "Tortilla         0.0738      0.033      2.213      0.027         0.008     0.139\n",
      "Temp             0.0516      0.025      2.085      0.037         0.003     0.100\n",
      "Meat             0.2880      0.035      8.114      0.000         0.218     0.358\n",
      "Fillings         0.3756      0.038      9.922      0.000         0.301     0.450\n",
      "Meat:filling     0.1404      0.028      5.005      0.000         0.085     0.195\n",
      "Uniformity       0.0696      0.025      2.807      0.005         0.021     0.118\n",
      "Salsa            0.0611      0.028      2.199      0.028         0.007     0.116\n",
      "Wrap             0.0391      0.023      1.735      0.083        -0.005     0.083\n",
      "================================================================================\n",
      "0.7182737583817811\n"
     ]
    }
   ],
   "source": [
    "# Define predictors of the model\n",
    "m_lm = ['Tortilla','Temp','Meat','Fillings','Meat:filling',\n",
    "               'Uniformity','Salsa','Wrap']\n",
    "\n",
    "# Remove incomplete data \n",
    "dffull = df[np.hstack((m_lm,'overall'))].dropna()\n",
    "X = sm.add_constant(dffull[m_lm])\n",
    "y = dffull['overall']\n",
    "my_glm = sm.GLM(y,X)\n",
    "res = my_glm.fit()\n",
    "print(res.summary())\n",
    "print(1 - np.var(res.resid_pearson) / np.var(y))"
   ]
  },
  {
   "cell_type": "code",
   "execution_count": 62,
   "metadata": {
    "collapsed": false
   },
   "outputs": [
    {
     "data": {
      "image/png": "[encoded data removed]",
      "text/plain": [
       "<matplotlib.figure.Figure at 0x115fe3518>"
      ]
     },
     "metadata": {
      "image/png": {
       "height": 404,
       "width": 878
      }
     },
     "output_type": "display_data"
    }
   ],
   "source": [
    "# Visualize coefficients\n",
    "sns.set_style(\"whitegrid\")\n",
    "from tools.plt import bar\n",
    "newidx = np.argsort(-res.params.values)\n",
    "temp = np.arange(len(newidx))\n",
    "newidx = np.delete(newidx,temp[newidx==0])\n",
    "plt.figure(figsize=(15,7))\n",
    "plt.bar(np.arange(len(newidx)), res.params[newidx].values, color='.5',yerr=res.bse[newidx].values)\n",
    "plt.xticks(np.arange(len(newidx)),res.bse[newidx].keys())\n",
    "ax = plt.gca()\n",
    "ax.set_ylim((-.5,.5))\n",
    "ax.set_yticks(np.arange(-.5,.6,.1))\n",
    "ax.set_xticks([])\n",
    "figname = 'overall_metric_linearmodelcoef'\n",
    "plt.savefig('/gh/fig/burrito/'+figname + '.png')"
   ]
  },
  {
   "cell_type": "markdown",
   "metadata": {},
   "source": [
    "# Linear model 2: predict overall rating from ingredients\n",
    "This linear model is no better than generating random features, showing that simply a good choice of ingredients is not sufficient to making a high quality burrito."
   ]
  },
  {
   "cell_type": "code",
   "execution_count": null,
   "metadata": {
    "collapsed": false
   },
   "outputs": [],
   "source": [
    "# Get all ingredient keys\n",
    "startingredients = 29\n",
    "ingredientkeys = df.keys()[startingredients:]\n",
    "\n",
    "# Get all ingredient keys with at least 10 burritos\n",
    "Nlim = 10\n",
    "ingredientkeys = ingredientkeys[df.count()[startingredients:].values>=Nlim]\n",
    "\n",
    "# Make a dataframe for all ingredients\n",
    "dfing = df[ingredientkeys]\n",
    "\n",
    "# Convert data to binary\n",
    "for k in dfing.keys():\n",
    "    dfing[k] = dfing[k].map({'x':1,'X':1,1:1})\n",
    "    dfing[k] = dfing[k].fillna(0)\n",
    "    "
   ]
  },
  {
   "cell_type": "code",
   "execution_count": null,
   "metadata": {
    "collapsed": false
   },
   "outputs": [],
   "source": [
    "# Run a general linear model to predict overall burrito rating from ingredients\n",
    "X = sm.add_constant(dfing)\n",
    "y = df.overall\n",
    "lm = sm.GLM(y,X)\n",
    "res = lm.fit()\n",
    "print(res.summary())\n",
    "origR2 = 1 - np.var(res.resid_pearson) / np.var(y)"
   ]
  },
  {
   "cell_type": "code",
   "execution_count": null,
   "metadata": {
    "collapsed": false,
    "scrolled": true
   },
   "outputs": [],
   "source": [
    "# Test if the variance explained in this linear model is significantly better than chance\n",
    "np.random.seed(0)\n",
    "Nsurr = 1000\n",
    "randr2 = np.zeros(Nsurr)\n",
    "for n in range(Nsurr):\n",
    "    Xrand = np.random.rand(X.shape[0],X.shape[1])\n",
    "    Xrand[:,0] = np.ones(X.shape[0])\n",
    "    lm = sm.GLM(y,Xrand)\n",
    "    res = lm.fit()\n",
    "    randr2[n] = 1 - np.var(res.resid_pearson) / np.var(y)\n",
    "print 'p = ' , np.mean(randr2>origR2)"
   ]
  },
  {
   "cell_type": "markdown",
   "metadata": {},
   "source": [
    "# Linear model 3. Predicting Yelp ratings\n",
    "Can also do this for Google ratings\n",
    "Note, interestingly, that the Tortilla rating is most positively correlated with Yelp and Google ratings. This is significant in a linear model when accounting for the overall rating."
   ]
  },
  {
   "cell_type": "code",
   "execution_count": null,
   "metadata": {
    "collapsed": false
   },
   "outputs": [],
   "source": [
    "# Average each metric over each Location\n",
    "# Avoid case issues; in the future should avoid article issues\n",
    "df.Location = df.Location.str.lower()\n",
    "m_Location = ['Location','N','Yelp','Google','Hunger','Cost','Volume','Tortilla','Temp','Meat','Fillings','Meat:filling',\n",
    "               'Uniformity','Salsa','Synergy','Wrap','overall']\n",
    "\n",
    "tacoshops = df.Location.unique()\n",
    "TS = len(tacoshops)\n",
    "dfmean = pd.DataFrame(np.nan, index=range(TS), columns=m_Location)\n",
    "for ts in range(TS):\n",
    "    dfmean.loc[ts] = df.loc[df.Location==tacoshops[ts]].mean()\n",
    "    dfmean['N'][ts] = sum(df.Location == tacoshops[ts])\n",
    "dfmean.Location = tacoshops"
   ]
  },
  {
   "cell_type": "code",
   "execution_count": null,
   "metadata": {
    "collapsed": false
   },
   "outputs": [],
   "source": [
    "# Note high correlations between features\n",
    "m_Yelp = ['Google','Yelp','Hunger','Cost','Volume','Tortilla','Temp','Meat','Fillings','Meat:filling',\n",
    "               'Uniformity','Salsa','Synergy','Wrap','overall']\n",
    "M = len(m_Yelp)\n",
    "dfmeancorr = dfmean[m_Yelp].corr()\n",
    "\n",
    "from matplotlib import cm\n",
    "clim1 = (-1,1)\n",
    "plt.figure(figsize=(10,10))\n",
    "cax = plt.pcolor(range(M+1), range(M+1), dfmeancorr, cmap=cm.bwr)\n",
    "cbar = plt.colorbar(cax, ticks=(-1,-.5,0,.5,1))\n",
    "cbar.ax.set_ylabel('Pearson correlation (r)', size=30)\n",
    "plt.clim(clim1)\n",
    "cbar.ax.set_yticklabels((-1,-.5,0,.5,1),size=20)\n",
    "ax = plt.gca()\n",
    "ax.set_yticks(np.arange(M)+.5)\n",
    "ax.set_yticklabels(m_Yelp,size=25)\n",
    "ax.set_xticks(np.arange(M)+.5)\n",
    "ax.set_xticklabels(m_Yelp,size=25)\n",
    "plt.xticks(rotation='vertical')\n",
    "plt.xlim((0,M))\n",
    "plt.ylim((0,M))\n",
    "plt.tight_layout()"
   ]
  },
  {
   "cell_type": "code",
   "execution_count": null,
   "metadata": {
    "collapsed": false,
    "scrolled": true
   },
   "outputs": [],
   "source": [
    "# GLM for Yelp: all dimensions\n",
    "m_Yelp = ['Hunger','Cost','Tortilla','Temp','Meat','Fillings','Meat:filling',\n",
    "               'Uniformity','Salsa','Synergy','Wrap','overall']\n",
    "dffull = dfmean[np.hstack((m_Yelp,'Yelp'))].dropna()\n",
    "X = sm.add_constant(dffull[m_Yelp])\n",
    "y = dffull['Yelp']\n",
    "my_glm = sm.GLM(y,X)\n",
    "res = my_glm.fit()\n",
    "print(res.summary())\n",
    "print(res.pvalues)\n",
    "print 1 - np.var(res.resid_pearson) / np.var(y)"
   ]
  },
  {
   "cell_type": "code",
   "execution_count": null,
   "metadata": {
    "collapsed": false
   },
   "outputs": [],
   "source": [
    "# GLM for Yelp: some dimensions\n",
    "m_Yelp = ['Tortilla','overall']\n",
    "dffull = dfmean[np.hstack((m_Yelp,'Yelp'))].dropna()\n",
    "X = sm.add_constant(dffull[m_Yelp])\n",
    "y = dffull['Yelp']\n",
    "my_glm = sm.GLM(y,X)\n",
    "res = my_glm.fit()\n",
    "print(res.summary())"
   ]
  },
  {
   "cell_type": "code",
   "execution_count": null,
   "metadata": {
    "collapsed": false
   },
   "outputs": [],
   "source": [
    "plt.figure(figsize=(4,4))\n",
    "ax = plt.gca()\n",
    "dfmean.plot(kind='scatter',x='Tortilla',y='Yelp',ax=ax,**{'s':40,'color':'k','alpha':.3})\n",
    "plt.xlabel('Average Tortilla rating',size=20)\n",
    "plt.ylabel('Yelp rating',size=20)\n",
    "plt.xticks(np.arange(0,6),size=15)\n",
    "plt.yticks(np.arange(0,6),size=15)\n",
    "plt.ylim((2,5))\n",
    "plt.tight_layout()\n",
    "print sp.stats.spearmanr(dffull.Yelp,dffull.Tortilla)\n",
    "\n",
    "figname = 'corr-Yelp-tortilla'\n",
    "plt.savefig('C:/gh/fig/burrito/'+figname + '.png')"
   ]
  },
  {
   "cell_type": "code",
   "execution_count": null,
   "metadata": {
    "collapsed": true
   },
   "outputs": [],
   "source": []
  }
 ],
 "metadata": {
  "kernelspec": {
   "display_name": "Python 3",
   "language": "python",
   "name": "python3"
  },
  "language_info": {
   "codemirror_mode": {
    "name": "ipython",
    "version": 3
   },
   "file_extension": ".py",
   "mimetype": "text/x-python",
   "name": "python",
   "nbconvert_exporter": "python",
   "pygments_lexer": "ipython3",
   "version": "3.6.0"
  }
 },
 "nbformat": 4,
 "nbformat_minor": 0
}
