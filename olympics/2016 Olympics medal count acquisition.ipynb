{
 "cells": [
  {
   "cell_type": "markdown",
   "metadata": {},
   "source": [
    "# 2016 Olympics medal count acquisition\n",
    "\n",
    "In this notebook, we acquire the current medal count from BBC."
   ]
  },
  {
   "cell_type": "markdown",
   "metadata": {},
   "source": [
    "# 1. List of sports"
   ]
  },
  {
   "cell_type": "code",
   "execution_count": 1,
   "metadata": {
    "collapsed": false
   },
   "outputs": [
    {
     "name": "stdout",
     "output_type": "stream",
     "text": [
      "['archery', 'athletics', 'badminton', 'basketball', 'boxing', 'canoeing', 'cycling', 'diving', 'equestrian', 'fencing', 'football', 'golf', 'gymnastics', 'handball', 'hockey', 'judo', 'modern-pentathlon', 'rowing', 'rugby-sevens', 'sailing', 'shooting', 'swimming', 'synchronised-swimming', 'table-tennis', 'taekwondo', 'tennis', 'triathlon', 'volleyball', 'water-polo', 'weightlifting', 'wrestling']\n"
     ]
    }
   ],
   "source": [
    "from bs4 import BeautifulSoup\n",
    "import urllib\n",
    "r = urllib.urlopen('http://www.bbc.com/sport/olympics/rio-2016/medals/sports').read()\n",
    "soup = BeautifulSoup(r,\"lxml\")\n",
    "\n",
    "sports_span = soup.findAll(\"span\",{\"class\",\"medals-table-by-sport__sport-name\"})\n",
    "sports_names = []\n",
    "sports_names_format = []\n",
    "for s in sports_span:\n",
    "    sports_names_format.append(str(s))\n",
    "    sports_names.append(str(s).lower().replace(\" \",\"-\")[48:-7])\n",
    "print sports_names"
   ]
  },
  {
   "cell_type": "markdown",
   "metadata": {},
   "source": [
    "# 2. HTMLs for each sport's medal table"
   ]
  },
  {
   "cell_type": "code",
   "execution_count": 2,
   "metadata": {
    "collapsed": false
   },
   "outputs": [],
   "source": [
    "# Save html for each sport\n",
    "htmls = {}\n",
    "for s in sports_names:\n",
    "    htmls[s] = urllib.urlopen('http://www.bbc.com/sport/olympics/rio-2016/medals/sports/'+s+'#'+s).read()"
   ]
  },
  {
   "cell_type": "code",
   "execution_count": 3,
   "metadata": {
    "collapsed": false,
    "scrolled": true
   },
   "outputs": [],
   "source": [
    "# Find table html for each sport\n",
    "thtmls = {}\n",
    "for s in sports_names:\n",
    "    soupsp = BeautifulSoup(htmls[s],\"lxml\")\n",
    "    thtmls[s] = soupsp.findAll(\"table\",{\"class\",\"medals-table-by-sport__countries_table\"})"
   ]
  },
  {
   "cell_type": "markdown",
   "metadata": {},
   "source": [
    "# 3. Scrape medals for each country and sport"
   ]
  },
  {
   "cell_type": "code",
   "execution_count": 4,
   "metadata": {
    "collapsed": false,
    "scrolled": true
   },
   "outputs": [
    {
     "name": "stdout",
     "output_type": "stream",
     "text": [
      "archery\n",
      "{'chinese-taipei': {'bronze': 1, 'silver': 0, 'gold': 0}, 'australia': {'bronze': 1, 'silver': 0, 'gold': 0}, 'france': {'bronze': 0, 'silver': 1, 'gold': 0}, 'south-korea': {'bronze': 1, 'silver': 0, 'gold': 4}, 'germany': {'bronze': 0, 'silver': 1, 'gold': 0}, 'united-states': {'bronze': 1, 'silver': 1, 'gold': 0}, 'russia': {'bronze': 0, 'silver': 1, 'gold': 0}}\n",
      "athletics\n",
      "{'jamaica': {'bronze': 2, 'silver': 1, 'gold': 6}, 'japan': {'bronze': 1, 'silver': 1, 'gold': 0}, 'mexico': {'bronze': 0, 'silver': 1, 'gold': 0}, 'czech-republic': {'bronze': 1, 'silver': 0, 'gold': 0}, 'serbia': {'bronze': 1, 'silver': 0, 'gold': 0}, 'belarus': {'bronze': 0, 'silver': 1, 'gold': 0}, 'hungary': {'bronze': 1, 'silver': 0, 'gold': 0}, 'colombia': {'bronze': 0, 'silver': 0, 'gold': 1}, 'greece': {'bronze': 0, 'silver': 0, 'gold': 1}, 'turkey': {'bronze': 1, 'silver': 0, 'gold': 0}, 'kenya': {'bronze': 0, 'silver': 5, 'gold': 5}, 'tajikistan': {'bronze': 0, 'silver': 0, 'gold': 1}, 'canada': {'bronze': 4, 'silver': 1, 'gold': 1}, 'qatar': {'bronze': 0, 'silver': 1, 'gold': 0}, 'france': {'bronze': 3, 'silver': 3, 'gold': 0}, 'bahamas': {'bronze': 0, 'silver': 0, 'gold': 1}, 'ethiopia': {'bronze': 4, 'silver': 1, 'gold': 1}, 'slovakia': {'bronze': 0, 'silver': 0, 'gold': 1}, 'venezuela': {'bronze': 0, 'silver': 1, 'gold': 0}, 'bahrain': {'bronze': 0, 'silver': 1, 'gold': 1}, 'brazil': {'bronze': 0, 'silver': 0, 'gold': 1}, 'australia': {'bronze': 1, 'silver': 1, 'gold': 0}, 'algeria': {'bronze': 0, 'silver': 1, 'gold': 0}, 'cuba': {'bronze': 1, 'silver': 0, 'gold': 0}, 'china': {'bronze': 2, 'silver': 2, 'gold': 2}, 'grenada': {'bronze': 0, 'silver': 1, 'gold': 0}, 'belgium': {'bronze': 0, 'silver': 0, 'gold': 1}, 'kazakhstan': {'bronze': 1, 'silver': 0, 'gold': 0}, 'new-zealand': {'bronze': 2, 'silver': 1, 'gold': 0}, 'spain': {'bronze': 0, 'silver': 1, 'gold': 0}, 'ukraine': {'bronze': 1, 'silver': 0, 'gold': 0}, 'south-africa': {'bronze': 0, 'silver': 2, 'gold': 1}, 'netherlands': {'bronze': 0, 'silver': 1, 'gold': 0}, 'denmark': {'bronze': 0, 'silver': 1, 'gold': 0}, 'great-britain-&amp;-n.-ireland': {'bronze': 3, 'silver': 1, 'gold': 1}, 'croatia': {'bronze': 0, 'silver': 0, 'gold': 2}, 'united-states': {'bronze': 8, 'silver': 9, 'gold': 10}, 'germany': {'bronze': 1, 'silver': 0, 'gold': 1}, 'poland': {'bronze': 1, 'silver': 1, 'gold': 1}}\n",
      "badminton\n",
      "{'south-korea': {'bronze': 1, 'silver': 0, 'gold': 0}, 'denmark': {'bronze': 1, 'silver': 1, 'gold': 0}, 'great-britain-&amp;-n.-ireland': {'bronze': 1, 'silver': 0, 'gold': 0}, 'indonesia': {'bronze': 0, 'silver': 0, 'gold': 1}, 'india': {'bronze': 0, 'silver': 1, 'gold': 0}, 'malaysia': {'bronze': 0, 'silver': 3, 'gold': 0}, 'china': {'bronze': 1, 'silver': 0, 'gold': 2}, 'japan': {'bronze': 1, 'silver': 0, 'gold': 1}, 'spain': {'bronze': 0, 'silver': 0, 'gold': 1}}\n",
      "basketball\n",
      "{'serbia': {'bronze': 1, 'silver': 0, 'gold': 0}}\n",
      "boxing\n",
      "{'brazil': {'bronze': 0, 'silver': 0, 'gold': 1}, 'mexico': {'bronze': 1, 'silver': 0, 'gold': 0}, 'germany': {'bronze': 1, 'silver': 0, 'gold': 0}, 'cuba': {'bronze': 3, 'silver': 0, 'gold': 3}, 'venezuela': {'bronze': 1, 'silver': 0, 'gold': 0}, 'great-britain-&amp;-n.-ireland': {'bronze': 1, 'silver': 0, 'gold': 1}, 'finland': {'bronze': 1, 'silver': 0, 'gold': 0}, 'azerbaijan': {'bronze': 1, 'silver': 0, 'gold': 0}, 'mongolia': {'bronze': 1, 'silver': 0, 'gold': 0}, 'france': {'bronze': 2, 'silver': 2, 'gold': 1}, 'uzbekistan': {'bronze': 2, 'silver': 2, 'gold': 1}, 'morocco': {'bronze': 1, 'silver': 0, 'gold': 0}, 'china': {'bronze': 3, 'silver': 1, 'gold': 0}, 'united-states': {'bronze': 1, 'silver': 1, 'gold': 0}, 'colombia': {'bronze': 1, 'silver': 1, 'gold': 0}, 'croatia': {'bronze': 1, 'silver': 0, 'gold': 0}, 'kazakhstan': {'bronze': 2, 'silver': 2, 'gold': 1}, 'russia': {'bronze': 3, 'silver': 0, 'gold': 1}}\n",
      "canoeing\n",
      "{'ukraine': {'bronze': 1, 'silver': 0, 'gold': 1}, 'brazil': {'bronze': 1, 'silver': 2, 'gold': 0}, 'australia': {'bronze': 2, 'silver': 0, 'gold': 0}, 'japan': {'bronze': 1, 'silver': 0, 'gold': 0}, 'russia': {'bronze': 1, 'silver': 0, 'gold': 0}, 'denmark': {'bronze': 0, 'silver': 1, 'gold': 0}, 'great-britain-&amp;-n.-ireland': {'bronze': 0, 'silver': 2, 'gold': 2}, 'serbia': {'bronze': 0, 'silver': 1, 'gold': 0}, 'azerbaijan': {'bronze': 1, 'silver': 1, 'gold': 0}, 'france': {'bronze': 1, 'silver': 1, 'gold': 1}, 'slovenia': {'bronze': 0, 'silver': 1, 'gold': 0}, 'belarus': {'bronze': 1, 'silver': 0, 'gold': 0}, 'poland': {'bronze': 1, 'silver': 1, 'gold': 0}, 'germany': {'bronze': 1, 'silver': 2, 'gold': 4}, 'slovakia': {'bronze': 0, 'silver': 2, 'gold': 1}, 'czech-republic': {'bronze': 2, 'silver': 1, 'gold': 0}, 'hungary': {'bronze': 0, 'silver': 0, 'gold': 3}, 'moldova': {'bronze': 1, 'silver': 0, 'gold': 0}, 'new-zealand': {'bronze': 1, 'silver': 1, 'gold': 1}, 'spain': {'bronze': 1, 'silver': 0, 'gold': 3}, 'lithuania': {'bronze': 1, 'silver': 0, 'gold': 0}}\n",
      "cycling\n",
      "{'canada': {'bronze': 2, 'silver': 0, 'gold': 0}, 'poland': {'bronze': 1, 'silver': 1, 'gold': 0}, 'netherlands': {'bronze': 1, 'silver': 3, 'gold': 2}, 'italy': {'bronze': 1, 'silver': 0, 'gold': 1}, 'malaysia': {'bronze': 1, 'silver': 0, 'gold': 0}, 'denmark': {'bronze': 2, 'silver': 1, 'gold': 0}, 'great-britain-&amp;-n.-ireland': {'bronze': 2, 'silver': 4, 'gold': 6}, 'new-zealand': {'bronze': 0, 'silver': 1, 'gold': 0}, 'switzerland': {'bronze': 0, 'silver': 0, 'gold': 1}, 'sweden': {'bronze': 0, 'silver': 1, 'gold': 1}, 'australia': {'bronze': 1, 'silver': 1, 'gold': 0}, 'germany': {'bronze': 1, 'silver': 0, 'gold': 1}, 'united-states': {'bronze': 0, 'silver': 3, 'gold': 2}, 'colombia': {'bronze': 1, 'silver': 0, 'gold': 1}, 'belgium': {'bronze': 1, 'silver': 0, 'gold': 1}, 'china': {'bronze': 0, 'silver': 0, 'gold': 1}, 'france': {'bronze': 1, 'silver': 0, 'gold': 0}, 'venezuela': {'bronze': 1, 'silver': 0, 'gold': 0}, 'russia': {'bronze': 1, 'silver': 2, 'gold': 0}}\n",
      "diving\n",
      "{'canada': {'bronze': 2, 'silver': 0, 'gold': 0}, 'australia': {'bronze': 1, 'silver': 0, 'gold': 0}, 'italy': {'bronze': 1, 'silver': 1, 'gold': 0}, 'great-britain-&amp;-n.-ireland': {'bronze': 1, 'silver': 1, 'gold': 1}, 'malaysia': {'bronze': 0, 'silver': 1, 'gold': 0}, 'china': {'bronze': 1, 'silver': 2, 'gold': 6}, 'united-states': {'bronze': 0, 'silver': 2, 'gold': 0}, 'germany': {'bronze': 1, 'silver': 0, 'gold': 0}}\n",
      "equestrian\n",
      "{'canada': {'bronze': 1, 'silver': 0, 'gold': 0}, 'australia': {'bronze': 1, 'silver': 0, 'gold': 0}, 'great-britain-&amp;-n.-ireland': {'bronze': 0, 'silver': 1, 'gold': 2}, 'france': {'bronze': 0, 'silver': 1, 'gold': 2}, 'sweden': {'bronze': 0, 'silver': 1, 'gold': 0}, 'germany': {'bronze': 2, 'silver': 2, 'gold': 2}, 'united-states': {'bronze': 2, 'silver': 1, 'gold': 0}}\n",
      "fencing\n",
      "{'ukraine': {'bronze': 1, 'silver': 1, 'gold': 0}, 'romania': {'bronze': 0, 'silver': 0, 'gold': 1}, 'italy': {'bronze': 0, 'silver': 3, 'gold': 1}, 'tunisia': {'bronze': 1, 'silver': 0, 'gold': 0}, 'france': {'bronze': 1, 'silver': 1, 'gold': 1}, 'south-korea': {'bronze': 1, 'silver': 0, 'gold': 1}, 'china': {'bronze': 1, 'silver': 1, 'gold': 0}, 'united-states': {'bronze': 2, 'silver': 2, 'gold': 0}, 'hungary': {'bronze': 1, 'silver': 1, 'gold': 2}, 'russia': {'bronze': 2, 'silver': 1, 'gold': 4}}\n",
      "football\n",
      "{'canada': {'bronze': 1, 'silver': 0, 'gold': 0}, 'sweden': {'bronze': 0, 'silver': 1, 'gold': 0}, 'germany': {'bronze': 0, 'silver': 0, 'gold': 1}, 'nigeria': {'bronze': 1, 'silver': 0, 'gold': 0}}\n",
      "golf\n",
      "{'great-britain-&amp;-n.-ireland': {'bronze': 0, 'silver': 0, 'gold': 1}, 'south-korea': {'bronze': 0, 'silver': 0, 'gold': 1}, 'sweden': {'bronze': 0, 'silver': 1, 'gold': 0}, 'china': {'bronze': 1, 'silver': 0, 'gold': 0}, 'united-states': {'bronze': 1, 'silver': 0, 'gold': 0}, 'new-zealand': {'bronze': 0, 'silver': 1, 'gold': 0}}\n",
      "gymnastics\n",
      "{'ukraine': {'bronze': 0, 'silver': 1, 'gold': 1}, 'canada': {'bronze': 0, 'silver': 0, 'gold': 1}, 'belarus': {'bronze': 0, 'silver': 0, 'gold': 1}, 'china': {'bronze': 4, 'silver': 1, 'gold': 0}, 'great-britain-&amp;-n.-ireland': {'bronze': 3, 'silver': 2, 'gold': 2}, 'brazil': {'bronze': 1, 'silver': 2, 'gold': 0}, 'netherlands': {'bronze': 0, 'silver': 0, 'gold': 1}, 'germany': {'bronze': 1, 'silver': 0, 'gold': 1}, 'united-states': {'bronze': 2, 'silver': 6, 'gold': 4}, 'greece': {'bronze': 0, 'silver': 0, 'gold': 1}, 'switzerland': {'bronze': 1, 'silver': 0, 'gold': 0}, 'japan': {'bronze': 1, 'silver': 0, 'gold': 2}, 'russia': {'bronze': 3, 'silver': 4, 'gold': 1}, 'north-korea': {'bronze': 0, 'silver': 0, 'gold': 1}}\n",
      "handball\n",
      "{'norway': {'bronze': 1, 'silver': 0, 'gold': 0}}\n",
      "hockey\n",
      "{'belgium': {'bronze': 0, 'silver': 1, 'gold': 0}, 'argentina': {'bronze': 0, 'silver': 0, 'gold': 1}, 'netherlands': {'bronze': 0, 'silver': 1, 'gold': 0}, 'germany': {'bronze': 2, 'silver': 0, 'gold': 0}, 'great-britain-&amp;-n.-ireland': {'bronze': 0, 'silver': 0, 'gold': 1}}\n",
      "judo\n",
      "{'portugal': {'bronze': 1, 'silver': 0, 'gold': 0}, 'kosovo': {'bronze': 0, 'silver': 0, 'gold': 1}, 'azerbaijan': {'bronze': 0, 'silver': 2, 'gold': 0}, 'uzbekistan': {'bronze': 2, 'silver': 0, 'gold': 0}, 'belgium': {'bronze': 1, 'silver': 0, 'gold': 0}, 'colombia': {'bronze': 0, 'silver': 1, 'gold': 0}, 'japan': {'bronze': 8, 'silver': 1, 'gold': 3}, 'brazil': {'bronze': 2, 'silver': 0, 'gold': 1}, 'italy': {'bronze': 0, 'silver': 1, 'gold': 1}, 'mongolia': {'bronze': 0, 'silver': 1, 'gold': 0}, 'france': {'bronze': 1, 'silver': 2, 'gold': 2}, 'argentina': {'bronze': 0, 'silver': 0, 'gold': 1}, 'israel': {'bronze': 2, 'silver': 0, 'gold': 0}, 'cuba': {'bronze': 0, 'silver': 1, 'gold': 0}, 'slovenia': {'bronze': 1, 'silver': 0, 'gold': 1}, 'netherlands': {'bronze': 1, 'silver': 0, 'gold': 0}, 'china': {'bronze': 2, 'silver': 0, 'gold': 0}, 'czech-republic': {'bronze': 0, 'silver': 0, 'gold': 1}, 'kazakhstan': {'bronze': 1, 'silver': 1, 'gold': 0}, 'georgia': {'bronze': 1, 'silver': 1, 'gold': 0}, 'south-korea': {'bronze': 1, 'silver': 2, 'gold': 0}, 'great-britain-&amp;-n.-ireland': {'bronze': 1, 'silver': 0, 'gold': 0}, 'united-states': {'bronze': 0, 'silver': 1, 'gold': 1}, 'germany': {'bronze': 1, 'silver': 0, 'gold': 0}, 'russia': {'bronze': 1, 'silver': 0, 'gold': 2}, 'united-arab-emirates': {'bronze': 1, 'silver': 0, 'gold': 0}}\n",
      "modern-pentathlon\n",
      "{'poland': {'bronze': 1, 'silver': 0, 'gold': 0}, 'australia': {'bronze': 0, 'silver': 0, 'gold': 1}, 'france': {'bronze': 0, 'silver': 1, 'gold': 0}}\n",
      "rowing\n",
      "{'canada': {'bronze': 0, 'silver': 1, 'gold': 0}, 'poland': {'bronze': 1, 'silver': 0, 'gold': 1}, 'south-africa': {'bronze': 0, 'silver': 1, 'gold': 0}, 'netherlands': {'bronze': 1, 'silver': 1, 'gold': 1}, 'china': {'bronze': 2, 'silver': 0, 'gold': 0}, 'estonia': {'bronze': 1, 'silver': 0, 'gold': 0}, 'czech-republic': {'bronze': 1, 'silver': 0, 'gold': 0}, 'denmark': {'bronze': 1, 'silver': 1, 'gold': 0}, 'great-britain-&amp;-n.-ireland': {'bronze': 0, 'silver': 2, 'gold': 3}, 'italy': {'bronze': 2, 'silver': 0, 'gold': 0}, 'lithuania': {'bronze': 1, 'silver': 1, 'gold': 0}, 'romania': {'bronze': 1, 'silver': 0, 'gold': 0}, 'france': {'bronze': 1, 'silver': 0, 'gold': 1}, 'australia': {'bronze': 0, 'silver': 2, 'gold': 1}, 'croatia': {'bronze': 0, 'silver': 1, 'gold': 1}, 'united-states': {'bronze': 0, 'silver': 1, 'gold': 1}, 'ireland': {'bronze': 0, 'silver': 1, 'gold': 0}, 'switzerland': {'bronze': 0, 'silver': 0, 'gold': 1}, 'germany': {'bronze': 0, 'silver': 1, 'gold': 2}, 'norway': {'bronze': 2, 'silver': 0, 'gold': 0}, 'new-zealand': {'bronze': 0, 'silver': 1, 'gold': 2}}\n",
      "rugby-sevens\n",
      "{'canada': {'bronze': 1, 'silver': 0, 'gold': 0}, 'south-africa': {'bronze': 1, 'silver': 0, 'gold': 0}, 'australia': {'bronze': 0, 'silver': 0, 'gold': 1}, 'great-britain-&amp;-n.-ireland': {'bronze': 0, 'silver': 1, 'gold': 0}, 'fiji': {'bronze': 0, 'silver': 0, 'gold': 1}, 'new-zealand': {'bronze': 0, 'silver': 1, 'gold': 0}}\n",
      "sailing\n",
      "{'brazil': {'bronze': 0, 'silver': 0, 'gold': 1}, 'australia': {'bronze': 0, 'silver': 3, 'gold': 1}, 'russia': {'bronze': 1, 'silver': 0, 'gold': 0}, 'denmark': {'bronze': 2, 'silver': 0, 'gold': 0}, 'great-britain-&amp;-n.-ireland': {'bronze': 0, 'silver': 1, 'gold': 2}, 'france': {'bronze': 2, 'silver': 0, 'gold': 1}, 'slovenia': {'bronze': 0, 'silver': 1, 'gold': 0}, 'austria': {'bronze': 1, 'silver': 0, 'gold': 0}, 'netherlands': {'bronze': 0, 'silver': 0, 'gold': 2}, 'croatia': {'bronze': 0, 'silver': 1, 'gold': 1}, 'united-states': {'bronze': 1, 'silver': 0, 'gold': 0}, 'ireland': {'bronze': 0, 'silver': 1, 'gold': 0}, 'greece': {'bronze': 1, 'silver': 0, 'gold': 0}, 'china': {'bronze': 0, 'silver': 1, 'gold': 0}, 'argentina': {'bronze': 0, 'silver': 0, 'gold': 1}, 'germany': {'bronze': 1, 'silver': 0, 'gold': 0}, 'new-zealand': {'bronze': 1, 'silver': 2, 'gold': 1}}\n",
      "shooting\n",
      "{'brazil': {'bronze': 0, 'silver': 1, 'gold': 0}, 'croatia': {'bronze': 0, 'silver': 0, 'gold': 1}, 'great-britain-&amp;-n.-ireland': {'bronze': 2, 'silver': 0, 'gold': 0}, 'australia': {'bronze': 0, 'silver': 0, 'gold': 1}, 'italy': {'bronze': 0, 'silver': 3, 'gold': 4}, 'new-zealand': {'bronze': 0, 'silver': 1, 'gold': 0}, 'ukraine': {'bronze': 0, 'silver': 1, 'gold': 0}, 'russia': {'bronze': 2, 'silver': 2, 'gold': 0}, 'south-korea': {'bronze': 0, 'silver': 1, 'gold': 1}, 'sweden': {'bronze': 0, 'silver': 1, 'gold': 0}, 'vietnam': {'bronze': 0, 'silver': 1, 'gold': 1}, 'germany': {'bronze': 0, 'silver': 1, 'gold': 3}, 'united-states': {'bronze': 2, 'silver': 0, 'gold': 1}, 'greece': {'bronze': 1, 'silver': 0, 'gold': 1}, 'switzerland': {'bronze': 1, 'silver': 0, 'gold': 0}, 'china': {'bronze': 4, 'silver': 2, 'gold': 1}, 'france': {'bronze': 1, 'silver': 1, 'gold': 0}, 'independent-olympic-athletes': {'bronze': 1, 'silver': 0, 'gold': 1}, 'north-korea': {'bronze': 1, 'silver': 0, 'gold': 0}}\n",
      "swimming\n",
      "{'canada': {'bronze': 4, 'silver': 1, 'gold': 1}, 'brazil': {'bronze': 1, 'silver': 0, 'gold': 0}, 'south-africa': {'bronze': 0, 'silver': 3, 'gold': 0}, 'netherlands': {'bronze': 0, 'silver': 0, 'gold': 2}, 'italy': {'bronze': 2, 'silver': 1, 'gold': 1}, 'singapore': {'bronze': 0, 'silver': 0, 'gold': 1}, 'denmark': {'bronze': 1, 'silver': 0, 'gold': 1}, 'great-britain-&amp;-n.-ireland': {'bronze': 0, 'silver': 5, 'gold': 1}, 'greece': {'bronze': 0, 'silver': 1, 'gold': 0}, 'france': {'bronze': 1, 'silver': 2, 'gold': 0}, 'sweden': {'bronze': 1, 'silver': 1, 'gold': 1}, 'australia': {'bronze': 3, 'silver': 4, 'gold': 3}, 'china': {'bronze': 3, 'silver': 2, 'gold': 1}, 'united-states': {'bronze': 9, 'silver': 8, 'gold': 16}, 'japan': {'bronze': 3, 'silver': 2, 'gold': 2}, 'belgium': {'bronze': 0, 'silver': 1, 'gold': 0}, 'hungary': {'bronze': 2, 'silver': 2, 'gold': 3}, 'belarus': {'bronze': 1, 'silver': 0, 'gold': 0}, 'kazakhstan': {'bronze': 0, 'silver': 0, 'gold': 1}, 'russia': {'bronze': 2, 'silver': 2, 'gold': 0}, 'spain': {'bronze': 1, 'silver': 0, 'gold': 1}}\n",
      "synchronised-swimming\n",
      "{'japan': {'bronze': 2, 'silver': 0, 'gold': 0}, 'china': {'bronze': 0, 'silver': 2, 'gold': 0}, 'russia': {'bronze': 0, 'silver': 0, 'gold': 2}}\n",
      "table-tennis\n",
      "{'japan': {'bronze': 2, 'silver': 1, 'gold': 0}, 'china': {'bronze': 0, 'silver': 2, 'gold': 4}, 'germany': {'bronze': 1, 'silver': 1, 'gold': 0}, 'north-korea': {'bronze': 1, 'silver': 0, 'gold': 0}}\n",
      "taekwondo\n",
      "{'turkey': {'bronze': 1, 'silver': 0, 'gold': 0}, 'dominican-republic': {'bronze': 1, 'silver': 0, 'gold': 0}, 'iran': {'bronze': 1, 'silver': 0, 'gold': 0}, 'egypt': {'bronze': 1, 'silver': 0, 'gold': 0}, 'ivory-coast': {'bronze': 1, 'silver': 0, 'gold': 1}, 'great-britain-&amp;-n.-ireland': {'bronze': 0, 'silver': 1, 'gold': 1}, 'serbia': {'bronze': 0, 'silver': 1, 'gold': 0}, 'azerbaijan': {'bronze': 2, 'silver': 0, 'gold': 0}, 'france': {'bronze': 0, 'silver': 1, 'gold': 0}, 'south-korea': {'bronze': 2, 'silver': 0, 'gold': 2}, 'jordan': {'bronze': 0, 'silver': 0, 'gold': 1}, 'tunisia': {'bronze': 1, 'silver': 0, 'gold': 0}, 'thailand': {'bronze': 1, 'silver': 1, 'gold': 0}, 'china': {'bronze': 0, 'silver': 0, 'gold': 1}, 'russia': {'bronze': 0, 'silver': 1, 'gold': 0}, 'spain': {'bronze': 1, 'silver': 1, 'gold': 0}}\n",
      "tennis\n",
      "{'romania': {'bronze': 0, 'silver': 1, 'gold': 0}, 'great-britain-&amp;-n.-ireland': {'bronze': 0, 'silver': 0, 'gold': 1}, 'puerto-rico': {'bronze': 0, 'silver': 0, 'gold': 1}, 'germany': {'bronze': 0, 'silver': 1, 'gold': 0}, 'united-states': {'bronze': 1, 'silver': 1, 'gold': 1}, 'japan': {'bronze': 1, 'silver': 0, 'gold': 0}, 'switzerland': {'bronze': 0, 'silver': 1, 'gold': 0}, 'czech-republic': {'bronze': 3, 'silver': 0, 'gold': 0}, 'argentina': {'bronze': 0, 'silver': 1, 'gold': 0}, 'russia': {'bronze': 0, 'silver': 0, 'gold': 1}, 'spain': {'bronze': 0, 'silver': 0, 'gold': 1}}\n",
      "triathlon\n",
      "{'switzerland': {'bronze': 0, 'silver': 1, 'gold': 0}, 'south-africa': {'bronze': 1, 'silver': 0, 'gold': 0}, 'great-britain-&amp;-n.-ireland': {'bronze': 1, 'silver': 1, 'gold': 1}, 'united-states': {'bronze': 0, 'silver': 0, 'gold': 1}}\n",
      "volleyball\n",
      "{'brazil': {'bronze': 0, 'silver': 1, 'gold': 1}, 'italy': {'bronze': 0, 'silver': 1, 'gold': 0}, 'netherlands': {'bronze': 1, 'silver': 0, 'gold': 0}, 'germany': {'bronze': 0, 'silver': 0, 'gold': 1}, 'united-states': {'bronze': 2, 'silver': 0, 'gold': 0}}\n",
      "water-polo\n",
      "{'italy': {'bronze': 1, 'silver': 1, 'gold': 0}, 'united-states': {'bronze': 0, 'silver': 0, 'gold': 1}, 'russia': {'bronze': 1, 'silver': 0, 'gold': 0}}\n",
      "weightlifting\n",
      "{'chinese-taipei': {'bronze': 1, 'silver': 0, 'gold': 1}, 'turkey': {'bronze': 0, 'silver': 1, 'gold': 0}, 'romania': {'bronze': 1, 'silver': 0, 'gold': 0}, 'georgia': {'bronze': 1, 'silver': 0, 'gold': 1}, 'iran': {'bronze': 0, 'silver': 0, 'gold': 2}, 'armenia': {'bronze': 0, 'silver': 2, 'gold': 0}, 'egypt': {'bronze': 2, 'silver': 0, 'gold': 0}, 'philippines': {'bronze': 0, 'silver': 1, 'gold': 0}, 'indonesia': {'bronze': 0, 'silver': 2, 'gold': 0}, 'lithuania': {'bronze': 1, 'silver': 0, 'gold': 0}, 'uzbekistan': {'bronze': 0, 'silver': 0, 'gold': 1}, 'south-korea': {'bronze': 1, 'silver': 0, 'gold': 0}, 'belarus': {'bronze': 0, 'silver': 2, 'gold': 0}, 'china': {'bronze': 0, 'silver': 2, 'gold': 5}, 'united-states': {'bronze': 1, 'silver': 0, 'gold': 0}, 'colombia': {'bronze': 1, 'silver': 0, 'gold': 1}, 'japan': {'bronze': 1, 'silver': 0, 'gold': 0}, 'thailand': {'bronze': 1, 'silver': 1, 'gold': 2}, 'kazakhstan': {'bronze': 3, 'silver': 1, 'gold': 1}, 'spain': {'bronze': 1, 'silver': 0, 'gold': 0}, 'north-korea': {'bronze': 0, 'silver': 3, 'gold': 1}}\n",
      "wrestling\n",
      "{'tunisia': {'bronze': 1, 'silver': 0, 'gold': 0}, 'serbia': {'bronze': 0, 'silver': 0, 'gold': 1}, 'azerbaijan': {'bronze': 5, 'silver': 1, 'gold': 0}, 'uzbekistan': {'bronze': 1, 'silver': 0, 'gold': 0}, 'japan': {'bronze': 0, 'silver': 3, 'gold': 4}, 'canada': {'bronze': 0, 'silver': 0, 'gold': 1}, 'norway': {'bronze': 1, 'silver': 0, 'gold': 0}, 'turkey': {'bronze': 2, 'silver': 1, 'gold': 0}, 'belarus': {'bronze': 1, 'silver': 1, 'gold': 0}, 'iran': {'bronze': 3, 'silver': 0, 'gold': 1}, 'cuba': {'bronze': 0, 'silver': 1, 'gold': 2}, 'india': {'bronze': 1, 'silver': 0, 'gold': 0}, 'south-korea': {'bronze': 1, 'silver': 0, 'gold': 0}, 'germany': {'bronze': 1, 'silver': 0, 'gold': 0}, 'armenia': {'bronze': 0, 'silver': 1, 'gold': 1}, 'kazakhstan': {'bronze': 2, 'silver': 1, 'gold': 0}, 'ukraine': {'bronze': 0, 'silver': 1, 'gold': 0}, 'georgia': {'bronze': 1, 'silver': 0, 'gold': 1}, 'denmark': {'bronze': 0, 'silver': 1, 'gold': 0}, 'poland': {'bronze': 1, 'silver': 0, 'gold': 0}, 'sweden': {'bronze': 2, 'silver': 0, 'gold': 0}, 'united-states': {'bronze': 0, 'silver': 0, 'gold': 1}, 'china': {'bronze': 2, 'silver': 0, 'gold': 0}, 'russia': {'bronze': 2, 'silver': 3, 'gold': 2}, 'bulgaria': {'bronze': 1, 'silver': 0, 'gold': 0}}\n"
     ]
    }
   ],
   "source": [
    "# For every sport, scrape medal data\n",
    "import re\n",
    "medal_names = ['gold','silver','bronze']\n",
    "medals = {}\n",
    "sports_countries = {}\n",
    "all_countries_format = []\n",
    "for s in sports_names:\n",
    "    print s\n",
    "    medals[s] = {}\n",
    "    h = str(thtmls[s])\n",
    "    if not thtmls[s]:\n",
    "        print 'no medals yet'\n",
    "    else:\n",
    "        # Find countries of interest\n",
    "        pattern = r\"<abbr class=\\\"abbr-on medium-abbr-off\\\" title=\\\"\"\n",
    "        pmatch = re.finditer(pattern, h)\n",
    "        countries = []\n",
    "        for i,match in enumerate(pmatch):\n",
    "            country = h[int(match.end()):int(match.end())+200].rsplit('\"')[0]\n",
    "            all_countries_format.append(country)\n",
    "            countries.append(country.lower().replace(\" \",\"-\"))\n",
    "        sports_countries[s] = countries\n",
    "        for c in sports_countries[s]:\n",
    "            if c == 'great-britain-&amp;-n.-ireland':\n",
    "                ci1 = 'great-britain-and-northern-ireland'\n",
    "                medals[s][c] = {}\n",
    "                for m in medal_names:\n",
    "                    pattern = r\"<abbr class=\\\"abbr-on medium-abbr-off\\\" title=\\\".{,800}\" + m + \".{,150}\" + ci1 + \"\\\">\"\n",
    "                    gendermatch = re.finditer(pattern, h)\n",
    "                    for i,match in enumerate(gendermatch):\n",
    "                        medals[s][c][m] = int(h[int(match.end()):int(match.end())+3])\n",
    "            else:\n",
    "                ci = c\n",
    "                medals[s][ci] = {}\n",
    "                for m in medal_names:\n",
    "                    pattern = r\"<abbr class=\\\"abbr-on medium-abbr-off\\\" title=\\\".{,500}\" + m + \".{,150}\" + ci + \"\\\">\"\n",
    "                    gendermatch = re.finditer(pattern, h)\n",
    "                    for i,match in enumerate(gendermatch):\n",
    "                        medals[s][ci][m] = int(h[int(match.end()):int(match.end())+3])\n",
    "        print medals[s]"
   ]
  },
  {
   "cell_type": "markdown",
   "metadata": {},
   "source": [
    "# Create dataframe of medals"
   ]
  },
  {
   "cell_type": "code",
   "execution_count": 6,
   "metadata": {
    "collapsed": false
   },
   "outputs": [],
   "source": [
    "import numpy as np\n",
    "all_countries_format = list(np.unique(all_countries_format))\n",
    "all_countries_format.remove('Great Britain &amp; N. Ireland')\n",
    "all_countries_format.append('Great Britain')\n",
    "all_countries_format_list = list(np.unique(all_countries_format))"
   ]
  },
  {
   "cell_type": "code",
   "execution_count": 7,
   "metadata": {
    "collapsed": false,
    "scrolled": true
   },
   "outputs": [],
   "source": [
    "import pandas as pd\n",
    "\n",
    "# Create an empty dataframe\n",
    "columns = ['country','sport','medal','N']\n",
    "df = pd.DataFrame(columns=columns)\n",
    "\n",
    "# Identify all countries with at least 1 medal\n",
    "countries_list = list(set(reduce(lambda x,y: x+y,sports_countries.values())))\n",
    "countries_list = sorted(countries_list)\n",
    "# Fill dataframe\n",
    "for s in sports_names:\n",
    "    if thtmls[s]:\n",
    "        for i,c in enumerate(countries_list):\n",
    "            ci = all_countries_format_list[i]\n",
    "            for m in medal_names:\n",
    "                if c in sports_countries[s]:\n",
    "                    rowtemp = [ci, s, m, medals[s][c][m]]\n",
    "                else:\n",
    "                    rowtemp = [ci, s, m, 0]\n",
    "                dftemp = pd.DataFrame([rowtemp], columns=columns)\n",
    "                df =df.append(dftemp)"
   ]
  },
  {
   "cell_type": "markdown",
   "metadata": {},
   "source": [
    "# Save dataframe"
   ]
  },
  {
   "cell_type": "code",
   "execution_count": 8,
   "metadata": {
    "collapsed": false
   },
   "outputs": [],
   "source": [
    "df.to_csv('now_medals.csv')"
   ]
  },
  {
   "cell_type": "code",
   "execution_count": 9,
   "metadata": {
    "collapsed": false,
    "scrolled": true
   },
   "outputs": [],
   "source": [
    "if False:\n",
    "    import datetime\n",
    "    d = str(datetime.datetime.now())[:13]\n",
    "    for s in sports_names:\n",
    "        text_file = open('htmls/html_'+s+d+'.txt', \"w\")\n",
    "        text_file.write(htmls[s])\n",
    "        text_file.close()"
   ]
  },
  {
   "cell_type": "code",
   "execution_count": null,
   "metadata": {
    "collapsed": true
   },
   "outputs": [],
   "source": []
  }
 ],
 "metadata": {
  "kernelspec": {
   "display_name": "Python 2",
   "language": "python",
   "name": "python2"
  },
  "language_info": {
   "codemirror_mode": {
    "name": "ipython",
    "version": 2
   },
   "file_extension": ".py",
   "mimetype": "text/x-python",
   "name": "python",
   "nbconvert_exporter": "python",
   "pygments_lexer": "ipython2",
   "version": "2.7.11"
  }
 },
 "nbformat": 4,
 "nbformat_minor": 0
}
